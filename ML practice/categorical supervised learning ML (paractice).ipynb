{
 "cells": [
  {
   "cell_type": "code",
   "execution_count": null,
   "id": "c9e0bd5e",
   "metadata": {},
   "outputs": [],
   "source": [
    "Aim: If categorical data is given, how to categorise and analyse them"
   ]
  },
  {
   "cell_type": "code",
   "execution_count": null,
   "id": "b694f3d5",
   "metadata": {},
   "outputs": [],
   "source": [
    "# label/target is categorical data here!"
   ]
  },
  {
   "cell_type": "raw",
   "id": "cbb12bf0",
   "metadata": {},
   "source": [
    " Classification analaysis:                            #23april\n",
    "     1.Navier Bayes Classifier\n",
    "     2.K Nearest Neighbour Classifier\n",
    "     3.Support Vector Classifier\n",
    "     4.Decision Tree Machine classifier"
   ]
  },
  {
   "cell_type": "markdown",
   "id": "5a175110",
   "metadata": {},
   "source": [
    "# 1. Navier Bayes Classifier\n",
    "    a) Multinomial Naiver Bayes- targets are more than 2 in numbers\n",
    "    b) Gaussian Naivier - targets are just 2 in numbers"
   ]
  },
  {
   "cell_type": "code",
   "execution_count": null,
   "id": "5d6e1409",
   "metadata": {},
   "outputs": [],
   "source": [
    "import pandas as pd\n",
    "import numpy as np\n",
    "import matplotlib.pyplot as plt\n",
    "import sklearn\n",
    "import seaborn as sns\n",
    "import warnings \n",
    "warnings.filterwarnings(\"ignore\")"
   ]
  },
  {
   "cell_type": "code",
   "execution_count": null,
   "id": "96ce7f2b",
   "metadata": {},
   "outputs": [],
   "source": [
    "from sklearn.datasets import load_iris"
   ]
  },
  {
   "cell_type": "code",
   "execution_count": null,
   "id": "34bc2fe8",
   "metadata": {},
   "outputs": [],
   "source": [
    "from sklearn.model_selection import train_test_split\n",
    "from sklearn.metrics import accuracy_score, confusion_matrix, classification_report"
   ]
  },
  {
   "cell_type": "code",
   "execution_count": null,
   "id": "1f7ea6af",
   "metadata": {},
   "outputs": [],
   "source": [
    "from sklearn.naive_bayes import MultinomialNB"
   ]
  },
  {
   "cell_type": "code",
   "execution_count": null,
   "id": "f9cea2b0",
   "metadata": {},
   "outputs": [],
   "source": [
    "iris=load_iris()\n",
    "iris"
   ]
  },
  {
   "cell_type": "raw",
   "id": "8fdc2199",
   "metadata": {},
   "source": [
    "#iris.keys\n",
    "keys-(data, feature_names, DESCR, target,frame, filename)"
   ]
  },
  {
   "cell_type": "code",
   "execution_count": null,
   "id": "93acfd52",
   "metadata": {},
   "outputs": [],
   "source": [
    "ds=pd.DataFrame(iris.data)\n",
    "ds.sample(3)"
   ]
  },
  {
   "cell_type": "code",
   "execution_count": null,
   "id": "ee42d209",
   "metadata": {},
   "outputs": [],
   "source": [
    "#ds1=pd.DataFrame(data='iris.data', columns ='iris.feature_names')\n",
    "#ds1.sample(3)\n",
    "#ERROR"
   ]
  },
  {
   "cell_type": "code",
   "execution_count": null,
   "id": "aeb52c4a",
   "metadata": {},
   "outputs": [],
   "source": [
    "x=iris.data\n",
    "y=iris.target"
   ]
  },
  {
   "cell_type": "code",
   "execution_count": null,
   "id": "65e1f69f",
   "metadata": {},
   "outputs": [],
   "source": [
    "y #there are 3 targets"
   ]
  },
  {
   "cell_type": "code",
   "execution_count": null,
   "id": "09b66cc2",
   "metadata": {},
   "outputs": [],
   "source": [
    "x_train, x_test, y_train, y_test=train_test_split(x,y,test_size=.22, random_state=43)"
   ]
  },
  {
   "cell_type": "markdown",
   "id": "70addff9",
   "metadata": {},
   "source": [
    "### MultinomialNB"
   ]
  },
  {
   "cell_type": "code",
   "execution_count": null,
   "id": "5c31c60a",
   "metadata": {},
   "outputs": [],
   "source": [
    "mnb=MultinomialNB()\n",
    "mnb.fit(x_train,y_train)\n",
    "predmnb=mnb.predict(x_test)\n",
    "mnb_score=accuracy_score(y_test,predmnb)\n",
    "con_mat_mnb=confusion_matrix(y_test,predmnb)\n",
    "class_report_mnb=classification_report(y_test,predmnb)"
   ]
  },
  {
   "cell_type": "code",
   "execution_count": null,
   "id": "06b4bc7d",
   "metadata": {},
   "outputs": [],
   "source": [
    "mnb_score"
   ]
  },
  {
   "cell_type": "code",
   "execution_count": null,
   "id": "d9a9c4ce",
   "metadata": {},
   "outputs": [],
   "source": [
    "con_mat_mnb"
   ]
  },
  {
   "cell_type": "code",
   "execution_count": null,
   "id": "8b9f1f93",
   "metadata": {},
   "outputs": [],
   "source": [
    "class_report_mnb"
   ]
  },
  {
   "cell_type": "code",
   "execution_count": null,
   "id": "2af66174",
   "metadata": {},
   "outputs": [],
   "source": [
    "print(class_report)"
   ]
  },
  {
   "cell_type": "code",
   "execution_count": null,
   "id": "ba5e93b2",
   "metadata": {},
   "outputs": [],
   "source": []
  },
  {
   "cell_type": "markdown",
   "id": "d1af25f3",
   "metadata": {},
   "source": [
    "## 2)  K Neighbors Classifier\n",
    "        from sklearn.neighbors import KNeighborsClassifier\n",
    "        neigh=KNeighborsClassifier(n_neighbors=3)"
   ]
  },
  {
   "cell_type": "raw",
   "id": "2f3305f2",
   "metadata": {},
   "source": [
    "Mind this- it is neighbors not neighbours"
   ]
  },
  {
   "cell_type": "code",
   "execution_count": null,
   "id": "c84212e5",
   "metadata": {},
   "outputs": [],
   "source": [
    "from sklearn.neighbors import KNeighborsClassifier"
   ]
  },
  {
   "cell_type": "code",
   "execution_count": null,
   "id": "7414718e",
   "metadata": {},
   "outputs": [],
   "source": [
    "knn=KNeighborsClassifier(n_neighbors=5) #default n=5"
   ]
  },
  {
   "cell_type": "code",
   "execution_count": null,
   "id": "e3373d7b",
   "metadata": {},
   "outputs": [],
   "source": [
    "knn.fit(x_train,y_train)\n",
    "knn_score=knn.score(x_train,y_train)\n",
    "predknn=knn.predict(x_test)\n",
    "knn_ac_score=accuracy_score(y_test,predknn)\n",
    "con_mat_knn=confusion_matrix(y_test,predknn)\n",
    "class_report_knn=classification_report(y_test,predknn)"
   ]
  },
  {
   "cell_type": "code",
   "execution_count": null,
   "id": "c673bb48",
   "metadata": {},
   "outputs": [],
   "source": [
    "knn_ac_score"
   ]
  },
  {
   "cell_type": "code",
   "execution_count": null,
   "id": "a8854b4d",
   "metadata": {},
   "outputs": [],
   "source": [
    "print(con_mat_knn)"
   ]
  },
  {
   "cell_type": "code",
   "execution_count": null,
   "id": "f8e96f9e",
   "metadata": {},
   "outputs": [],
   "source": [
    "print(class_report_knn)"
   ]
  },
  {
   "cell_type": "code",
   "execution_count": null,
   "id": "a7e5c76a",
   "metadata": {},
   "outputs": [],
   "source": []
  },
  {
   "cell_type": "markdown",
   "id": "87cc0f35",
   "metadata": {},
   "source": [
    "## 3. Support Vector Classifier\n",
    "    Provides the margin/gap betweeen two given classificattion of categorical data\n",
    "    from sklearn.svm import SVC"
   ]
  },
  {
   "cell_type": "raw",
   "id": "cd48ddca",
   "metadata": {},
   "source": [
    "Support Vectors\n",
    "Support vectors are the data points,which are closest to the hyperplane.These points will define\n",
    "the separating line better by calculating margins.These points are more relevant to the construction\n",
    "of the classifier.\n",
    "Hyperplane\n",
    "A hyperplane is a decision plane which separates betweenaset of objects having different class\n",
    "memberships.\n",
    "Margin\n",
    "A margin is a gap between the two lines on the closest class points.This is calculated as the\n",
    "perpendicular distance from the line to support vectors or closest points.If the margin is larger in\n",
    "between the classes,then it is consideredagood margin,a smaller margin isabad margin."
   ]
  },
  {
   "cell_type": "code",
   "execution_count": null,
   "id": "234721f0",
   "metadata": {},
   "outputs": [],
   "source": [
    "from sklearn.svm import SVC"
   ]
  },
  {
   "cell_type": "code",
   "execution_count": null,
   "id": "b1bc91b5",
   "metadata": {},
   "outputs": [],
   "source": [
    "svc=SVC(kernel='rbf') #default value= rbf\n",
    "svc.fit(x_train,y_train)\n",
    "score_svc=svc.score(x_test, y_test)"
   ]
  },
  {
   "cell_type": "code",
   "execution_count": null,
   "id": "2d1a8458",
   "metadata": {},
   "outputs": [],
   "source": [
    "predsvc=svc.predict(x_test)\n",
    "score_ac_svc=accuracy_score(y_test,predsvc)\n",
    "con_mat_svc=confusion_matrix(y_test,predsvc)\n",
    "class_report_svc=classification_report(y_test,predsvc)"
   ]
  },
  {
   "cell_type": "code",
   "execution_count": null,
   "id": "1e87e49a",
   "metadata": {},
   "outputs": [],
   "source": [
    "score_svc"
   ]
  },
  {
   "cell_type": "code",
   "execution_count": null,
   "id": "f3a715c7",
   "metadata": {},
   "outputs": [],
   "source": [
    "score_ac_svc "
   ]
  },
  {
   "cell_type": "markdown",
   "id": "ab1d787d",
   "metadata": {},
   "source": [
    "score and accuracy score are not same"
   ]
  },
  {
   "cell_type": "code",
   "execution_count": null,
   "id": "9f2b64ca",
   "metadata": {},
   "outputs": [],
   "source": [
    "con_mat_svc"
   ]
  },
  {
   "cell_type": "code",
   "execution_count": null,
   "id": "5345b2d2",
   "metadata": {},
   "outputs": [],
   "source": [
    "print(class_report_svc)"
   ]
  },
  {
   "cell_type": "code",
   "execution_count": null,
   "id": "349ff9b8",
   "metadata": {},
   "outputs": [],
   "source": [
    "svc=SVC(kernel='poly') \n",
    "svc.fit(x_train,y_train)\n",
    "score_svc=svc.score(x_test, y_test)\n",
    "predsvc=svc.predict(x_test)\n",
    "score_ac_svc=accuracy_score(y_test,predsvc)\n",
    "con_mat_svc=confusion_matrix(y_test,predsvc)\n",
    "class_report_svc=classification_report(y_test,predsvc)"
   ]
  },
  {
   "cell_type": "code",
   "execution_count": null,
   "id": "5613ce0b",
   "metadata": {},
   "outputs": [],
   "source": [
    "print(score_ac_svc)\n",
    "print(con_mat_svc)\n",
    "print(class_report_svc)"
   ]
  },
  {
   "cell_type": "markdown",
   "id": "91766fb8",
   "metadata": {},
   "source": [
    "Kernel Poly is working better than kernel rbf !"
   ]
  },
  {
   "cell_type": "code",
   "execution_count": null,
   "id": "3220d6ac",
   "metadata": {},
   "outputs": [],
   "source": [
    "def svmkernel(ker):\n",
    "    svc=SVC(kernel=ker) \n",
    "    svc.fit(x_train,y_train)\n",
    "    score_svc=svc.score(x_test, y_test)\n",
    "    predsvc=svc.predict(x_test)\n",
    "    score_ac_svc=accuracy_score(y_test,predsvc)\n",
    "    con_mat_svc=confusion_matrix(y_test,predsvc)\n",
    "    class_report_svc=classification_report(y_test,predsvc)"
   ]
  },
  {
   "cell_type": "code",
   "execution_count": null,
   "id": "6f651d81",
   "metadata": {},
   "outputs": [],
   "source": [
    "svmkernel(\"rbf\")"
   ]
  },
  {
   "cell_type": "code",
   "execution_count": null,
   "id": "ad2724a7",
   "metadata": {},
   "outputs": [],
   "source": [
    "svmkernel(\"poly\")"
   ]
  },
  {
   "cell_type": "code",
   "execution_count": null,
   "id": "77b3daa6",
   "metadata": {},
   "outputs": [],
   "source": [
    "svmkernel(\"linear\")"
   ]
  },
  {
   "cell_type": "code",
   "execution_count": null,
   "id": "3e319a0d",
   "metadata": {},
   "outputs": [],
   "source": [
    "df1=pd.DataFrame(predsvc)\n",
    "df1"
   ]
  },
  {
   "cell_type": "code",
   "execution_count": null,
   "id": "bb1e1b24",
   "metadata": {},
   "outputs": [],
   "source": [
    "df1.to_csv('svmkernel2.csv')"
   ]
  },
  {
   "cell_type": "code",
   "execution_count": null,
   "id": "1c6d17c3",
   "metadata": {},
   "outputs": [],
   "source": [
    "pd.read_csv('svmkernel2.csv')"
   ]
  },
  {
   "cell_type": "code",
   "execution_count": 87,
   "id": "5b6518fd",
   "metadata": {},
   "outputs": [
    {
     "name": "stdout",
     "output_type": "stream",
     "text": [
      "-x--x--x--x--x--x--x--x--x--x--x--x--x--x--x--x--x--x--x--x--x--x--x--x--x--x--x--x--x--x--x--x--x--x--x-\n"
     ]
    }
   ],
   "source": [
    "print(\"-x-\"*35)"
   ]
  },
  {
   "cell_type": "code",
   "execution_count": null,
   "id": "13ae4860",
   "metadata": {},
   "outputs": [],
   "source": []
  }
 ],
 "metadata": {
  "kernelspec": {
   "display_name": "Python 3 (ipykernel)",
   "language": "python",
   "name": "python3"
  },
  "language_info": {
   "codemirror_mode": {
    "name": "ipython",
    "version": 3
   },
   "file_extension": ".py",
   "mimetype": "text/x-python",
   "name": "python",
   "nbconvert_exporter": "python",
   "pygments_lexer": "ipython3",
   "version": "3.9.7"
  }
 },
 "nbformat": 4,
 "nbformat_minor": 5
}

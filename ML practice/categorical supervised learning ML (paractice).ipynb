{
 "cells": [
  {
   "cell_type": "raw",
   "id": "3b1127b4",
   "metadata": {},
   "source": [
    "Aim: 1)If categorical data is given, how to categorise and analyse them\n",
    "     2)Saving the best ML model.\n",
    "     3)Encoding - scaling data"
   ]
  },
  {
   "cell_type": "code",
   "execution_count": 180,
   "id": "6d123b1e",
   "metadata": {},
   "outputs": [],
   "source": [
    "# label/target is categorical data here!"
   ]
  },
  {
   "cell_type": "raw",
   "id": "cbb12bf0",
   "metadata": {},
   "source": [
    " Classification analaysis:                            #23april\n",
    "     1.Navier Bayes Classifier\n",
    "     2.K Nearest Neighbour Classifier\n",
    "     3.Support Vector Classifier\n",
    "     4.Decision Tree Machine classifier"
   ]
  },
  {
   "cell_type": "raw",
   "id": "9431f4dc",
   "metadata": {},
   "source": [
    "6 steps of machine learning:\n",
    "\n",
    "knn.fit(x_train,y_train)\n",
    "#throwing data for training,Quadrant first and second\n",
    "\n",
    "knn_score=knn.score(x_train,y_train)\n",
    "#Checking the score of training\n",
    "\n",
    "predknn=knn.predict(x_test)\n",
    "# throwing data to predict to already known answers/labels, quadrant 3 and 4.\n",
    "\n",
    "knn_ac_score=accuracy_score(y_test,predknn)\n",
    "# checking the accuracy of prediction made, quadrant 4 and new predicted quadrant\n",
    "\n",
    "\n",
    "con_mat_knn=confusion_matrix(y_test,predknn)\n",
    "#Checking error and accuracy Off prediction made, quadrant 4 and a new predicted quadrant\n",
    "\n",
    "\n",
    "class_report_knn=classification_report(y_test,predknn)\n",
    "# preparing the report between the predicted values and what should be the actual predicted values that is quadrant 4"
   ]
  },
  {
   "cell_type": "markdown",
   "id": "629a727c",
   "metadata": {},
   "source": [
    "# 1. Navier Bayes Classifier\n",
    "    a) Multinomial Naiver Bayes- targets are more than 2 in numbers\n",
    "    b) Gaussian Naivier - targets are just 2 in numbers"
   ]
  },
  {
   "cell_type": "code",
   "execution_count": 181,
   "id": "7ed18f6a",
   "metadata": {},
   "outputs": [],
   "source": [
    "import pandas as pd\n",
    "import numpy as np\n",
    "import matplotlib.pyplot as plt\n",
    "import sklearn\n",
    "import seaborn as sns\n",
    "import warnings \n",
    "warnings.filterwarnings(\"ignore\")"
   ]
  },
  {
   "cell_type": "code",
   "execution_count": 182,
   "id": "1a57cabd",
   "metadata": {},
   "outputs": [],
   "source": [
    "from sklearn.datasets import load_iris"
   ]
  },
  {
   "cell_type": "code",
   "execution_count": 183,
   "id": "d33d8d9f",
   "metadata": {},
   "outputs": [],
   "source": [
    "from sklearn.model_selection import train_test_split\n",
    "from sklearn.metrics import accuracy_score, confusion_matrix, classification_report"
   ]
  },
  {
   "cell_type": "code",
   "execution_count": 184,
   "id": "fb991f43",
   "metadata": {},
   "outputs": [],
   "source": [
    "from sklearn.naive_bayes import MultinomialNB"
   ]
  },
  {
   "cell_type": "code",
   "execution_count": 185,
   "id": "76ccfc62",
   "metadata": {},
   "outputs": [
    {
     "data": {
      "text/plain": [
       "{'data': array([[5.1, 3.5, 1.4, 0.2],\n",
       "        [4.9, 3. , 1.4, 0.2],\n",
       "        [4.7, 3.2, 1.3, 0.2],\n",
       "        [4.6, 3.1, 1.5, 0.2],\n",
       "        [5. , 3.6, 1.4, 0.2],\n",
       "        [5.4, 3.9, 1.7, 0.4],\n",
       "        [4.6, 3.4, 1.4, 0.3],\n",
       "        [5. , 3.4, 1.5, 0.2],\n",
       "        [4.4, 2.9, 1.4, 0.2],\n",
       "        [4.9, 3.1, 1.5, 0.1],\n",
       "        [5.4, 3.7, 1.5, 0.2],\n",
       "        [4.8, 3.4, 1.6, 0.2],\n",
       "        [4.8, 3. , 1.4, 0.1],\n",
       "        [4.3, 3. , 1.1, 0.1],\n",
       "        [5.8, 4. , 1.2, 0.2],\n",
       "        [5.7, 4.4, 1.5, 0.4],\n",
       "        [5.4, 3.9, 1.3, 0.4],\n",
       "        [5.1, 3.5, 1.4, 0.3],\n",
       "        [5.7, 3.8, 1.7, 0.3],\n",
       "        [5.1, 3.8, 1.5, 0.3],\n",
       "        [5.4, 3.4, 1.7, 0.2],\n",
       "        [5.1, 3.7, 1.5, 0.4],\n",
       "        [4.6, 3.6, 1. , 0.2],\n",
       "        [5.1, 3.3, 1.7, 0.5],\n",
       "        [4.8, 3.4, 1.9, 0.2],\n",
       "        [5. , 3. , 1.6, 0.2],\n",
       "        [5. , 3.4, 1.6, 0.4],\n",
       "        [5.2, 3.5, 1.5, 0.2],\n",
       "        [5.2, 3.4, 1.4, 0.2],\n",
       "        [4.7, 3.2, 1.6, 0.2],\n",
       "        [4.8, 3.1, 1.6, 0.2],\n",
       "        [5.4, 3.4, 1.5, 0.4],\n",
       "        [5.2, 4.1, 1.5, 0.1],\n",
       "        [5.5, 4.2, 1.4, 0.2],\n",
       "        [4.9, 3.1, 1.5, 0.2],\n",
       "        [5. , 3.2, 1.2, 0.2],\n",
       "        [5.5, 3.5, 1.3, 0.2],\n",
       "        [4.9, 3.6, 1.4, 0.1],\n",
       "        [4.4, 3. , 1.3, 0.2],\n",
       "        [5.1, 3.4, 1.5, 0.2],\n",
       "        [5. , 3.5, 1.3, 0.3],\n",
       "        [4.5, 2.3, 1.3, 0.3],\n",
       "        [4.4, 3.2, 1.3, 0.2],\n",
       "        [5. , 3.5, 1.6, 0.6],\n",
       "        [5.1, 3.8, 1.9, 0.4],\n",
       "        [4.8, 3. , 1.4, 0.3],\n",
       "        [5.1, 3.8, 1.6, 0.2],\n",
       "        [4.6, 3.2, 1.4, 0.2],\n",
       "        [5.3, 3.7, 1.5, 0.2],\n",
       "        [5. , 3.3, 1.4, 0.2],\n",
       "        [7. , 3.2, 4.7, 1.4],\n",
       "        [6.4, 3.2, 4.5, 1.5],\n",
       "        [6.9, 3.1, 4.9, 1.5],\n",
       "        [5.5, 2.3, 4. , 1.3],\n",
       "        [6.5, 2.8, 4.6, 1.5],\n",
       "        [5.7, 2.8, 4.5, 1.3],\n",
       "        [6.3, 3.3, 4.7, 1.6],\n",
       "        [4.9, 2.4, 3.3, 1. ],\n",
       "        [6.6, 2.9, 4.6, 1.3],\n",
       "        [5.2, 2.7, 3.9, 1.4],\n",
       "        [5. , 2. , 3.5, 1. ],\n",
       "        [5.9, 3. , 4.2, 1.5],\n",
       "        [6. , 2.2, 4. , 1. ],\n",
       "        [6.1, 2.9, 4.7, 1.4],\n",
       "        [5.6, 2.9, 3.6, 1.3],\n",
       "        [6.7, 3.1, 4.4, 1.4],\n",
       "        [5.6, 3. , 4.5, 1.5],\n",
       "        [5.8, 2.7, 4.1, 1. ],\n",
       "        [6.2, 2.2, 4.5, 1.5],\n",
       "        [5.6, 2.5, 3.9, 1.1],\n",
       "        [5.9, 3.2, 4.8, 1.8],\n",
       "        [6.1, 2.8, 4. , 1.3],\n",
       "        [6.3, 2.5, 4.9, 1.5],\n",
       "        [6.1, 2.8, 4.7, 1.2],\n",
       "        [6.4, 2.9, 4.3, 1.3],\n",
       "        [6.6, 3. , 4.4, 1.4],\n",
       "        [6.8, 2.8, 4.8, 1.4],\n",
       "        [6.7, 3. , 5. , 1.7],\n",
       "        [6. , 2.9, 4.5, 1.5],\n",
       "        [5.7, 2.6, 3.5, 1. ],\n",
       "        [5.5, 2.4, 3.8, 1.1],\n",
       "        [5.5, 2.4, 3.7, 1. ],\n",
       "        [5.8, 2.7, 3.9, 1.2],\n",
       "        [6. , 2.7, 5.1, 1.6],\n",
       "        [5.4, 3. , 4.5, 1.5],\n",
       "        [6. , 3.4, 4.5, 1.6],\n",
       "        [6.7, 3.1, 4.7, 1.5],\n",
       "        [6.3, 2.3, 4.4, 1.3],\n",
       "        [5.6, 3. , 4.1, 1.3],\n",
       "        [5.5, 2.5, 4. , 1.3],\n",
       "        [5.5, 2.6, 4.4, 1.2],\n",
       "        [6.1, 3. , 4.6, 1.4],\n",
       "        [5.8, 2.6, 4. , 1.2],\n",
       "        [5. , 2.3, 3.3, 1. ],\n",
       "        [5.6, 2.7, 4.2, 1.3],\n",
       "        [5.7, 3. , 4.2, 1.2],\n",
       "        [5.7, 2.9, 4.2, 1.3],\n",
       "        [6.2, 2.9, 4.3, 1.3],\n",
       "        [5.1, 2.5, 3. , 1.1],\n",
       "        [5.7, 2.8, 4.1, 1.3],\n",
       "        [6.3, 3.3, 6. , 2.5],\n",
       "        [5.8, 2.7, 5.1, 1.9],\n",
       "        [7.1, 3. , 5.9, 2.1],\n",
       "        [6.3, 2.9, 5.6, 1.8],\n",
       "        [6.5, 3. , 5.8, 2.2],\n",
       "        [7.6, 3. , 6.6, 2.1],\n",
       "        [4.9, 2.5, 4.5, 1.7],\n",
       "        [7.3, 2.9, 6.3, 1.8],\n",
       "        [6.7, 2.5, 5.8, 1.8],\n",
       "        [7.2, 3.6, 6.1, 2.5],\n",
       "        [6.5, 3.2, 5.1, 2. ],\n",
       "        [6.4, 2.7, 5.3, 1.9],\n",
       "        [6.8, 3. , 5.5, 2.1],\n",
       "        [5.7, 2.5, 5. , 2. ],\n",
       "        [5.8, 2.8, 5.1, 2.4],\n",
       "        [6.4, 3.2, 5.3, 2.3],\n",
       "        [6.5, 3. , 5.5, 1.8],\n",
       "        [7.7, 3.8, 6.7, 2.2],\n",
       "        [7.7, 2.6, 6.9, 2.3],\n",
       "        [6. , 2.2, 5. , 1.5],\n",
       "        [6.9, 3.2, 5.7, 2.3],\n",
       "        [5.6, 2.8, 4.9, 2. ],\n",
       "        [7.7, 2.8, 6.7, 2. ],\n",
       "        [6.3, 2.7, 4.9, 1.8],\n",
       "        [6.7, 3.3, 5.7, 2.1],\n",
       "        [7.2, 3.2, 6. , 1.8],\n",
       "        [6.2, 2.8, 4.8, 1.8],\n",
       "        [6.1, 3. , 4.9, 1.8],\n",
       "        [6.4, 2.8, 5.6, 2.1],\n",
       "        [7.2, 3. , 5.8, 1.6],\n",
       "        [7.4, 2.8, 6.1, 1.9],\n",
       "        [7.9, 3.8, 6.4, 2. ],\n",
       "        [6.4, 2.8, 5.6, 2.2],\n",
       "        [6.3, 2.8, 5.1, 1.5],\n",
       "        [6.1, 2.6, 5.6, 1.4],\n",
       "        [7.7, 3. , 6.1, 2.3],\n",
       "        [6.3, 3.4, 5.6, 2.4],\n",
       "        [6.4, 3.1, 5.5, 1.8],\n",
       "        [6. , 3. , 4.8, 1.8],\n",
       "        [6.9, 3.1, 5.4, 2.1],\n",
       "        [6.7, 3.1, 5.6, 2.4],\n",
       "        [6.9, 3.1, 5.1, 2.3],\n",
       "        [5.8, 2.7, 5.1, 1.9],\n",
       "        [6.8, 3.2, 5.9, 2.3],\n",
       "        [6.7, 3.3, 5.7, 2.5],\n",
       "        [6.7, 3. , 5.2, 2.3],\n",
       "        [6.3, 2.5, 5. , 1.9],\n",
       "        [6.5, 3. , 5.2, 2. ],\n",
       "        [6.2, 3.4, 5.4, 2.3],\n",
       "        [5.9, 3. , 5.1, 1.8]]),\n",
       " 'target': array([0, 0, 0, 0, 0, 0, 0, 0, 0, 0, 0, 0, 0, 0, 0, 0, 0, 0, 0, 0, 0, 0,\n",
       "        0, 0, 0, 0, 0, 0, 0, 0, 0, 0, 0, 0, 0, 0, 0, 0, 0, 0, 0, 0, 0, 0,\n",
       "        0, 0, 0, 0, 0, 0, 1, 1, 1, 1, 1, 1, 1, 1, 1, 1, 1, 1, 1, 1, 1, 1,\n",
       "        1, 1, 1, 1, 1, 1, 1, 1, 1, 1, 1, 1, 1, 1, 1, 1, 1, 1, 1, 1, 1, 1,\n",
       "        1, 1, 1, 1, 1, 1, 1, 1, 1, 1, 1, 1, 2, 2, 2, 2, 2, 2, 2, 2, 2, 2,\n",
       "        2, 2, 2, 2, 2, 2, 2, 2, 2, 2, 2, 2, 2, 2, 2, 2, 2, 2, 2, 2, 2, 2,\n",
       "        2, 2, 2, 2, 2, 2, 2, 2, 2, 2, 2, 2, 2, 2, 2, 2, 2, 2]),\n",
       " 'frame': None,\n",
       " 'target_names': array(['setosa', 'versicolor', 'virginica'], dtype='<U10'),\n",
       " 'DESCR': '.. _iris_dataset:\\n\\nIris plants dataset\\n--------------------\\n\\n**Data Set Characteristics:**\\n\\n    :Number of Instances: 150 (50 in each of three classes)\\n    :Number of Attributes: 4 numeric, predictive attributes and the class\\n    :Attribute Information:\\n        - sepal length in cm\\n        - sepal width in cm\\n        - petal length in cm\\n        - petal width in cm\\n        - class:\\n                - Iris-Setosa\\n                - Iris-Versicolour\\n                - Iris-Virginica\\n                \\n    :Summary Statistics:\\n\\n    ============== ==== ==== ======= ===== ====================\\n                    Min  Max   Mean    SD   Class Correlation\\n    ============== ==== ==== ======= ===== ====================\\n    sepal length:   4.3  7.9   5.84   0.83    0.7826\\n    sepal width:    2.0  4.4   3.05   0.43   -0.4194\\n    petal length:   1.0  6.9   3.76   1.76    0.9490  (high!)\\n    petal width:    0.1  2.5   1.20   0.76    0.9565  (high!)\\n    ============== ==== ==== ======= ===== ====================\\n\\n    :Missing Attribute Values: None\\n    :Class Distribution: 33.3% for each of 3 classes.\\n    :Creator: R.A. Fisher\\n    :Donor: Michael Marshall (MARSHALL%PLU@io.arc.nasa.gov)\\n    :Date: July, 1988\\n\\nThe famous Iris database, first used by Sir R.A. Fisher. The dataset is taken\\nfrom Fisher\\'s paper. Note that it\\'s the same as in R, but not as in the UCI\\nMachine Learning Repository, which has two wrong data points.\\n\\nThis is perhaps the best known database to be found in the\\npattern recognition literature.  Fisher\\'s paper is a classic in the field and\\nis referenced frequently to this day.  (See Duda & Hart, for example.)  The\\ndata set contains 3 classes of 50 instances each, where each class refers to a\\ntype of iris plant.  One class is linearly separable from the other 2; the\\nlatter are NOT linearly separable from each other.\\n\\n.. topic:: References\\n\\n   - Fisher, R.A. \"The use of multiple measurements in taxonomic problems\"\\n     Annual Eugenics, 7, Part II, 179-188 (1936); also in \"Contributions to\\n     Mathematical Statistics\" (John Wiley, NY, 1950).\\n   - Duda, R.O., & Hart, P.E. (1973) Pattern Classification and Scene Analysis.\\n     (Q327.D83) John Wiley & Sons.  ISBN 0-471-22361-1.  See page 218.\\n   - Dasarathy, B.V. (1980) \"Nosing Around the Neighborhood: A New System\\n     Structure and Classification Rule for Recognition in Partially Exposed\\n     Environments\".  IEEE Transactions on Pattern Analysis and Machine\\n     Intelligence, Vol. PAMI-2, No. 1, 67-71.\\n   - Gates, G.W. (1972) \"The Reduced Nearest Neighbor Rule\".  IEEE Transactions\\n     on Information Theory, May 1972, 431-433.\\n   - See also: 1988 MLC Proceedings, 54-64.  Cheeseman et al\"s AUTOCLASS II\\n     conceptual clustering system finds 3 classes in the data.\\n   - Many, many more ...',\n",
       " 'feature_names': ['sepal length (cm)',\n",
       "  'sepal width (cm)',\n",
       "  'petal length (cm)',\n",
       "  'petal width (cm)'],\n",
       " 'filename': 'C:\\\\Users\\\\sunny\\\\anaconda3\\\\lib\\\\site-packages\\\\sklearn\\\\datasets\\\\data\\\\iris.csv'}"
      ]
     },
     "execution_count": 185,
     "metadata": {},
     "output_type": "execute_result"
    }
   ],
   "source": [
    "iris=load_iris()\n",
    "iris"
   ]
  },
  {
   "cell_type": "raw",
   "id": "bfec658e",
   "metadata": {},
   "source": [
    "#iris.keys\n",
    "keys-(data, feature_names, DESCR, target,frame, filename)"
   ]
  },
  {
   "cell_type": "code",
   "execution_count": 186,
   "id": "36d91375",
   "metadata": {},
   "outputs": [
    {
     "data": {
      "text/html": [
       "<div>\n",
       "<style scoped>\n",
       "    .dataframe tbody tr th:only-of-type {\n",
       "        vertical-align: middle;\n",
       "    }\n",
       "\n",
       "    .dataframe tbody tr th {\n",
       "        vertical-align: top;\n",
       "    }\n",
       "\n",
       "    .dataframe thead th {\n",
       "        text-align: right;\n",
       "    }\n",
       "</style>\n",
       "<table border=\"1\" class=\"dataframe\">\n",
       "  <thead>\n",
       "    <tr style=\"text-align: right;\">\n",
       "      <th></th>\n",
       "      <th>0</th>\n",
       "      <th>1</th>\n",
       "      <th>2</th>\n",
       "      <th>3</th>\n",
       "    </tr>\n",
       "  </thead>\n",
       "  <tbody>\n",
       "    <tr>\n",
       "      <th>113</th>\n",
       "      <td>5.7</td>\n",
       "      <td>2.5</td>\n",
       "      <td>5.0</td>\n",
       "      <td>2.0</td>\n",
       "    </tr>\n",
       "    <tr>\n",
       "      <th>22</th>\n",
       "      <td>4.6</td>\n",
       "      <td>3.6</td>\n",
       "      <td>1.0</td>\n",
       "      <td>0.2</td>\n",
       "    </tr>\n",
       "    <tr>\n",
       "      <th>118</th>\n",
       "      <td>7.7</td>\n",
       "      <td>2.6</td>\n",
       "      <td>6.9</td>\n",
       "      <td>2.3</td>\n",
       "    </tr>\n",
       "  </tbody>\n",
       "</table>\n",
       "</div>"
      ],
      "text/plain": [
       "       0    1    2    3\n",
       "113  5.7  2.5  5.0  2.0\n",
       "22   4.6  3.6  1.0  0.2\n",
       "118  7.7  2.6  6.9  2.3"
      ]
     },
     "execution_count": 186,
     "metadata": {},
     "output_type": "execute_result"
    }
   ],
   "source": [
    "ds=pd.DataFrame(iris.data)\n",
    "ds.sample(3)"
   ]
  },
  {
   "cell_type": "code",
   "execution_count": 187,
   "id": "8bb4c6c2",
   "metadata": {},
   "outputs": [],
   "source": [
    "#ds1=pd.DataFrame(data='iris.data', columns ='iris.feature_names')\n",
    "#ds1.sample(3)\n",
    "#ERROR"
   ]
  },
  {
   "cell_type": "code",
   "execution_count": 188,
   "id": "99c31be7",
   "metadata": {},
   "outputs": [],
   "source": [
    "x=iris.data\n",
    "y=iris.target"
   ]
  },
  {
   "cell_type": "code",
   "execution_count": 189,
   "id": "55fa2eb2",
   "metadata": {},
   "outputs": [
    {
     "data": {
      "text/plain": [
       "array([0, 0, 0, 0, 0, 0, 0, 0, 0, 0, 0, 0, 0, 0, 0, 0, 0, 0, 0, 0, 0, 0,\n",
       "       0, 0, 0, 0, 0, 0, 0, 0, 0, 0, 0, 0, 0, 0, 0, 0, 0, 0, 0, 0, 0, 0,\n",
       "       0, 0, 0, 0, 0, 0, 1, 1, 1, 1, 1, 1, 1, 1, 1, 1, 1, 1, 1, 1, 1, 1,\n",
       "       1, 1, 1, 1, 1, 1, 1, 1, 1, 1, 1, 1, 1, 1, 1, 1, 1, 1, 1, 1, 1, 1,\n",
       "       1, 1, 1, 1, 1, 1, 1, 1, 1, 1, 1, 1, 2, 2, 2, 2, 2, 2, 2, 2, 2, 2,\n",
       "       2, 2, 2, 2, 2, 2, 2, 2, 2, 2, 2, 2, 2, 2, 2, 2, 2, 2, 2, 2, 2, 2,\n",
       "       2, 2, 2, 2, 2, 2, 2, 2, 2, 2, 2, 2, 2, 2, 2, 2, 2, 2])"
      ]
     },
     "execution_count": 189,
     "metadata": {},
     "output_type": "execute_result"
    }
   ],
   "source": [
    "y #there are 3 targets"
   ]
  },
  {
   "cell_type": "code",
   "execution_count": 190,
   "id": "63a7ce9f",
   "metadata": {},
   "outputs": [],
   "source": [
    "x_train, x_test, y_train, y_test=train_test_split(x,y,test_size=.22, random_state=43)"
   ]
  },
  {
   "cell_type": "markdown",
   "id": "5d0f9cb1",
   "metadata": {},
   "source": [
    "### MultinomialNB"
   ]
  },
  {
   "cell_type": "code",
   "execution_count": 191,
   "id": "c21d2ee4",
   "metadata": {},
   "outputs": [],
   "source": [
    "mnb=MultinomialNB()\n",
    "mnb.fit(x_train,y_train)\n",
    "predmnb=mnb.predict(x_test)\n",
    "mnb_score=accuracy_score(y_test,predmnb)\n",
    "con_mat_mnb=confusion_matrix(y_test,predmnb)\n",
    "class_report_mnb=classification_report(y_test,predmnb)"
   ]
  },
  {
   "cell_type": "code",
   "execution_count": 192,
   "id": "596dc844",
   "metadata": {},
   "outputs": [
    {
     "data": {
      "text/plain": [
       "1.0"
      ]
     },
     "execution_count": 192,
     "metadata": {},
     "output_type": "execute_result"
    }
   ],
   "source": [
    "mnb_score"
   ]
  },
  {
   "cell_type": "code",
   "execution_count": 193,
   "id": "152623fe",
   "metadata": {},
   "outputs": [
    {
     "data": {
      "text/plain": [
       "array([[14,  0,  0],\n",
       "       [ 0, 10,  0],\n",
       "       [ 0,  0,  9]], dtype=int64)"
      ]
     },
     "execution_count": 193,
     "metadata": {},
     "output_type": "execute_result"
    }
   ],
   "source": [
    "con_mat_mnb"
   ]
  },
  {
   "cell_type": "code",
   "execution_count": 194,
   "id": "2e0b2bf9",
   "metadata": {},
   "outputs": [
    {
     "data": {
      "text/plain": [
       "'              precision    recall  f1-score   support\\n\\n           0       1.00      1.00      1.00        14\\n           1       1.00      1.00      1.00        10\\n           2       1.00      1.00      1.00         9\\n\\n    accuracy                           1.00        33\\n   macro avg       1.00      1.00      1.00        33\\nweighted avg       1.00      1.00      1.00        33\\n'"
      ]
     },
     "execution_count": 194,
     "metadata": {},
     "output_type": "execute_result"
    }
   ],
   "source": [
    "class_report_mnb"
   ]
  },
  {
   "cell_type": "code",
   "execution_count": 195,
   "id": "9864d326",
   "metadata": {},
   "outputs": [
    {
     "name": "stdout",
     "output_type": "stream",
     "text": [
      "              precision    recall  f1-score   support\n",
      "\n",
      "           0       1.00      1.00      1.00        14\n",
      "           1       0.83      1.00      0.91        10\n",
      "           2       1.00      0.78      0.88         9\n",
      "\n",
      "    accuracy                           0.94        33\n",
      "   macro avg       0.94      0.93      0.93        33\n",
      "weighted avg       0.95      0.94      0.94        33\n",
      "\n"
     ]
    }
   ],
   "source": [
    "print(class_report)"
   ]
  },
  {
   "cell_type": "code",
   "execution_count": null,
   "id": "67da5281",
   "metadata": {},
   "outputs": [],
   "source": []
  },
  {
   "cell_type": "markdown",
   "id": "a3f65257",
   "metadata": {},
   "source": [
    "## 2)  K Neighbors Classifier\n",
    "        from sklearn.neighbors import KNeighborsClassifier\n",
    "        neigh=KNeighborsClassifier(n_neighbors=3)"
   ]
  },
  {
   "cell_type": "raw",
   "id": "cc01de24",
   "metadata": {},
   "source": [
    "Mind this- it is neighbors not neighbours"
   ]
  },
  {
   "cell_type": "code",
   "execution_count": 196,
   "id": "2200b576",
   "metadata": {},
   "outputs": [],
   "source": [
    "from sklearn.neighbors import KNeighborsClassifier"
   ]
  },
  {
   "cell_type": "code",
   "execution_count": 197,
   "id": "1f7c1a54",
   "metadata": {},
   "outputs": [],
   "source": [
    "knn=KNeighborsClassifier(n_neighbors=5) #default n=5"
   ]
  },
  {
   "cell_type": "code",
   "execution_count": 198,
   "id": "ef148c63",
   "metadata": {},
   "outputs": [],
   "source": [
    "knn.fit(x_train,y_train)\n",
    "knn_score=knn.score(x_train,y_train)\n",
    "predknn=knn.predict(x_test)\n",
    "knn_ac_score=accuracy_score(y_test,predknn)\n",
    "con_mat_knn=confusion_matrix(y_test,predknn)\n",
    "class_report_knn=classification_report(y_test,predknn)"
   ]
  },
  {
   "cell_type": "code",
   "execution_count": 199,
   "id": "8303ff69",
   "metadata": {},
   "outputs": [
    {
     "data": {
      "text/plain": [
       "0.9658119658119658"
      ]
     },
     "execution_count": 199,
     "metadata": {},
     "output_type": "execute_result"
    }
   ],
   "source": [
    "knn_score"
   ]
  },
  {
   "cell_type": "code",
   "execution_count": 200,
   "id": "427dff19",
   "metadata": {},
   "outputs": [
    {
     "data": {
      "text/plain": [
       "1.0"
      ]
     },
     "execution_count": 200,
     "metadata": {},
     "output_type": "execute_result"
    }
   ],
   "source": [
    "knn_ac_score"
   ]
  },
  {
   "cell_type": "code",
   "execution_count": 201,
   "id": "b67968eb",
   "metadata": {},
   "outputs": [
    {
     "name": "stdout",
     "output_type": "stream",
     "text": [
      "[[14  0  0]\n",
      " [ 0 10  0]\n",
      " [ 0  0  9]]\n"
     ]
    }
   ],
   "source": [
    "print(con_mat_knn)"
   ]
  },
  {
   "cell_type": "code",
   "execution_count": 202,
   "id": "49dec57b",
   "metadata": {},
   "outputs": [
    {
     "name": "stdout",
     "output_type": "stream",
     "text": [
      "              precision    recall  f1-score   support\n",
      "\n",
      "           0       1.00      1.00      1.00        14\n",
      "           1       1.00      1.00      1.00        10\n",
      "           2       1.00      1.00      1.00         9\n",
      "\n",
      "    accuracy                           1.00        33\n",
      "   macro avg       1.00      1.00      1.00        33\n",
      "weighted avg       1.00      1.00      1.00        33\n",
      "\n"
     ]
    }
   ],
   "source": [
    "print(class_report_knn)"
   ]
  },
  {
   "cell_type": "code",
   "execution_count": null,
   "id": "0c06bf14",
   "metadata": {},
   "outputs": [],
   "source": []
  },
  {
   "cell_type": "markdown",
   "id": "6ecc90bf",
   "metadata": {},
   "source": [
    "## 3. Support Vector Classifier\n",
    "    Provides the margin/gap betweeen two given classificattion of categorical data\n",
    "    from sklearn.svm import SVC"
   ]
  },
  {
   "cell_type": "raw",
   "id": "5b083c81",
   "metadata": {},
   "source": [
    "Support Vectors\n",
    "Support vectors are the data points,which are closest to the hyperplane.These points will define\n",
    "the separating line better by calculating margins.These points are more relevant to the construction\n",
    "of the classifier.\n",
    "Hyperplane\n",
    "A hyperplane is a decision plane which separates betweenaset of objects having different class\n",
    "memberships.\n",
    "Margin\n",
    "A margin is a gap between the two lines on the closest class points.This is calculated as the\n",
    "perpendicular distance from the line to support vectors or closest points.If the margin is larger in\n",
    "between the classes,then it is consideredagood margin,a smaller margin isabad margin."
   ]
  },
  {
   "cell_type": "code",
   "execution_count": 203,
   "id": "8755cf91",
   "metadata": {},
   "outputs": [],
   "source": [
    "from sklearn.svm import SVC"
   ]
  },
  {
   "cell_type": "code",
   "execution_count": 204,
   "id": "b08c66f7",
   "metadata": {},
   "outputs": [],
   "source": [
    "svc=SVC(kernel='rbf') #default value= rbf\n",
    "svc.fit(x_train,y_train)\n",
    "score_svc=svc.score(x_test, y_test)"
   ]
  },
  {
   "cell_type": "code",
   "execution_count": 205,
   "id": "9d6fd538",
   "metadata": {},
   "outputs": [],
   "source": [
    "predsvc=svc.predict(x_test)\n",
    "score_ac_svc=accuracy_score(y_test,predsvc)\n",
    "con_mat_svc=confusion_matrix(y_test,predsvc)\n",
    "class_report_svc=classification_report(y_test,predsvc)"
   ]
  },
  {
   "cell_type": "code",
   "execution_count": 206,
   "id": "42d6ea8e",
   "metadata": {},
   "outputs": [
    {
     "data": {
      "text/plain": [
       "0.9393939393939394"
      ]
     },
     "execution_count": 206,
     "metadata": {},
     "output_type": "execute_result"
    }
   ],
   "source": [
    "score_svc"
   ]
  },
  {
   "cell_type": "code",
   "execution_count": 207,
   "id": "c9f74832",
   "metadata": {},
   "outputs": [
    {
     "data": {
      "text/plain": [
       "0.9393939393939394"
      ]
     },
     "execution_count": 207,
     "metadata": {},
     "output_type": "execute_result"
    }
   ],
   "source": [
    "score_ac_svc "
   ]
  },
  {
   "cell_type": "markdown",
   "id": "e528a681",
   "metadata": {},
   "source": [
    "score and accuracy score are not same"
   ]
  },
  {
   "cell_type": "code",
   "execution_count": 208,
   "id": "d1121cd7",
   "metadata": {},
   "outputs": [
    {
     "data": {
      "text/plain": [
       "array([[14,  0,  0],\n",
       "       [ 0, 10,  0],\n",
       "       [ 0,  2,  7]], dtype=int64)"
      ]
     },
     "execution_count": 208,
     "metadata": {},
     "output_type": "execute_result"
    }
   ],
   "source": [
    "con_mat_svc"
   ]
  },
  {
   "cell_type": "code",
   "execution_count": 209,
   "id": "eea82e98",
   "metadata": {},
   "outputs": [
    {
     "name": "stdout",
     "output_type": "stream",
     "text": [
      "              precision    recall  f1-score   support\n",
      "\n",
      "           0       1.00      1.00      1.00        14\n",
      "           1       0.83      1.00      0.91        10\n",
      "           2       1.00      0.78      0.88         9\n",
      "\n",
      "    accuracy                           0.94        33\n",
      "   macro avg       0.94      0.93      0.93        33\n",
      "weighted avg       0.95      0.94      0.94        33\n",
      "\n"
     ]
    }
   ],
   "source": [
    "print(class_report_svc)"
   ]
  },
  {
   "cell_type": "code",
   "execution_count": 210,
   "id": "4d3ee685",
   "metadata": {},
   "outputs": [],
   "source": [
    "svc=SVC(kernel='poly') \n",
    "svc.fit(x_train,y_train)\n",
    "score_svc=svc.score(x_test, y_test)\n",
    "predsvc=svc.predict(x_test)\n",
    "score_ac_svc=accuracy_score(y_test,predsvc)\n",
    "con_mat_svc=confusion_matrix(y_test,predsvc)\n",
    "class_report_svc=classification_report(y_test,predsvc)"
   ]
  },
  {
   "cell_type": "code",
   "execution_count": 211,
   "id": "4aa17f8d",
   "metadata": {},
   "outputs": [
    {
     "name": "stdout",
     "output_type": "stream",
     "text": [
      "1.0\n",
      "[[14  0  0]\n",
      " [ 0 10  0]\n",
      " [ 0  0  9]]\n",
      "              precision    recall  f1-score   support\n",
      "\n",
      "           0       1.00      1.00      1.00        14\n",
      "           1       1.00      1.00      1.00        10\n",
      "           2       1.00      1.00      1.00         9\n",
      "\n",
      "    accuracy                           1.00        33\n",
      "   macro avg       1.00      1.00      1.00        33\n",
      "weighted avg       1.00      1.00      1.00        33\n",
      "\n"
     ]
    }
   ],
   "source": [
    "print(score_ac_svc)\n",
    "print(con_mat_svc)\n",
    "print(class_report_svc)"
   ]
  },
  {
   "cell_type": "markdown",
   "id": "33ca0306",
   "metadata": {},
   "source": [
    "Kernel Poly is working better than kernel rbf !"
   ]
  },
  {
   "cell_type": "code",
   "execution_count": 212,
   "id": "09499184",
   "metadata": {},
   "outputs": [],
   "source": [
    "def svmkernel(ker):\n",
    "    svc=SVC(kernel=ker) \n",
    "    svc.fit(x_train,y_train)\n",
    "    score_svc=svc.score(x_test, y_test)\n",
    "    predsvc=svc.predict(x_test)\n",
    "    score_ac_svc=accuracy_score(y_test,predsvc)\n",
    "    con_mat_svc=confusion_matrix(y_test,predsvc)\n",
    "    class_report_svc=classification_report(y_test,predsvc)"
   ]
  },
  {
   "cell_type": "code",
   "execution_count": 213,
   "id": "878f8d46",
   "metadata": {},
   "outputs": [
    {
     "data": {
      "text/plain": [
       "1.0"
      ]
     },
     "execution_count": 213,
     "metadata": {},
     "output_type": "execute_result"
    }
   ],
   "source": [
    "score_svc"
   ]
  },
  {
   "cell_type": "code",
   "execution_count": 214,
   "id": "19c1119b",
   "metadata": {},
   "outputs": [],
   "source": [
    "svmkernel(\"rbf\")"
   ]
  },
  {
   "cell_type": "code",
   "execution_count": 215,
   "id": "c70bb2ed",
   "metadata": {},
   "outputs": [],
   "source": [
    "svmkernel(\"poly\")"
   ]
  },
  {
   "cell_type": "code",
   "execution_count": 216,
   "id": "b92d9c74",
   "metadata": {},
   "outputs": [],
   "source": [
    "svmkernel(\"linear\")"
   ]
  },
  {
   "cell_type": "code",
   "execution_count": 217,
   "id": "15141744",
   "metadata": {},
   "outputs": [
    {
     "data": {
      "text/html": [
       "<div>\n",
       "<style scoped>\n",
       "    .dataframe tbody tr th:only-of-type {\n",
       "        vertical-align: middle;\n",
       "    }\n",
       "\n",
       "    .dataframe tbody tr th {\n",
       "        vertical-align: top;\n",
       "    }\n",
       "\n",
       "    .dataframe thead th {\n",
       "        text-align: right;\n",
       "    }\n",
       "</style>\n",
       "<table border=\"1\" class=\"dataframe\">\n",
       "  <thead>\n",
       "    <tr style=\"text-align: right;\">\n",
       "      <th></th>\n",
       "      <th>0</th>\n",
       "    </tr>\n",
       "  </thead>\n",
       "  <tbody>\n",
       "    <tr>\n",
       "      <th>0</th>\n",
       "      <td>0</td>\n",
       "    </tr>\n",
       "    <tr>\n",
       "      <th>1</th>\n",
       "      <td>0</td>\n",
       "    </tr>\n",
       "    <tr>\n",
       "      <th>2</th>\n",
       "      <td>2</td>\n",
       "    </tr>\n",
       "    <tr>\n",
       "      <th>3</th>\n",
       "      <td>1</td>\n",
       "    </tr>\n",
       "    <tr>\n",
       "      <th>4</th>\n",
       "      <td>2</td>\n",
       "    </tr>\n",
       "    <tr>\n",
       "      <th>5</th>\n",
       "      <td>0</td>\n",
       "    </tr>\n",
       "    <tr>\n",
       "      <th>6</th>\n",
       "      <td>2</td>\n",
       "    </tr>\n",
       "    <tr>\n",
       "      <th>7</th>\n",
       "      <td>1</td>\n",
       "    </tr>\n",
       "    <tr>\n",
       "      <th>8</th>\n",
       "      <td>1</td>\n",
       "    </tr>\n",
       "    <tr>\n",
       "      <th>9</th>\n",
       "      <td>1</td>\n",
       "    </tr>\n",
       "    <tr>\n",
       "      <th>10</th>\n",
       "      <td>0</td>\n",
       "    </tr>\n",
       "    <tr>\n",
       "      <th>11</th>\n",
       "      <td>1</td>\n",
       "    </tr>\n",
       "    <tr>\n",
       "      <th>12</th>\n",
       "      <td>2</td>\n",
       "    </tr>\n",
       "    <tr>\n",
       "      <th>13</th>\n",
       "      <td>0</td>\n",
       "    </tr>\n",
       "    <tr>\n",
       "      <th>14</th>\n",
       "      <td>1</td>\n",
       "    </tr>\n",
       "    <tr>\n",
       "      <th>15</th>\n",
       "      <td>1</td>\n",
       "    </tr>\n",
       "    <tr>\n",
       "      <th>16</th>\n",
       "      <td>0</td>\n",
       "    </tr>\n",
       "    <tr>\n",
       "      <th>17</th>\n",
       "      <td>0</td>\n",
       "    </tr>\n",
       "    <tr>\n",
       "      <th>18</th>\n",
       "      <td>2</td>\n",
       "    </tr>\n",
       "    <tr>\n",
       "      <th>19</th>\n",
       "      <td>2</td>\n",
       "    </tr>\n",
       "    <tr>\n",
       "      <th>20</th>\n",
       "      <td>0</td>\n",
       "    </tr>\n",
       "    <tr>\n",
       "      <th>21</th>\n",
       "      <td>0</td>\n",
       "    </tr>\n",
       "    <tr>\n",
       "      <th>22</th>\n",
       "      <td>0</td>\n",
       "    </tr>\n",
       "    <tr>\n",
       "      <th>23</th>\n",
       "      <td>2</td>\n",
       "    </tr>\n",
       "    <tr>\n",
       "      <th>24</th>\n",
       "      <td>2</td>\n",
       "    </tr>\n",
       "    <tr>\n",
       "      <th>25</th>\n",
       "      <td>2</td>\n",
       "    </tr>\n",
       "    <tr>\n",
       "      <th>26</th>\n",
       "      <td>0</td>\n",
       "    </tr>\n",
       "    <tr>\n",
       "      <th>27</th>\n",
       "      <td>1</td>\n",
       "    </tr>\n",
       "    <tr>\n",
       "      <th>28</th>\n",
       "      <td>0</td>\n",
       "    </tr>\n",
       "    <tr>\n",
       "      <th>29</th>\n",
       "      <td>0</td>\n",
       "    </tr>\n",
       "    <tr>\n",
       "      <th>30</th>\n",
       "      <td>1</td>\n",
       "    </tr>\n",
       "    <tr>\n",
       "      <th>31</th>\n",
       "      <td>0</td>\n",
       "    </tr>\n",
       "    <tr>\n",
       "      <th>32</th>\n",
       "      <td>1</td>\n",
       "    </tr>\n",
       "  </tbody>\n",
       "</table>\n",
       "</div>"
      ],
      "text/plain": [
       "    0\n",
       "0   0\n",
       "1   0\n",
       "2   2\n",
       "3   1\n",
       "4   2\n",
       "5   0\n",
       "6   2\n",
       "7   1\n",
       "8   1\n",
       "9   1\n",
       "10  0\n",
       "11  1\n",
       "12  2\n",
       "13  0\n",
       "14  1\n",
       "15  1\n",
       "16  0\n",
       "17  0\n",
       "18  2\n",
       "19  2\n",
       "20  0\n",
       "21  0\n",
       "22  0\n",
       "23  2\n",
       "24  2\n",
       "25  2\n",
       "26  0\n",
       "27  1\n",
       "28  0\n",
       "29  0\n",
       "30  1\n",
       "31  0\n",
       "32  1"
      ]
     },
     "execution_count": 217,
     "metadata": {},
     "output_type": "execute_result"
    }
   ],
   "source": [
    "df1=pd.DataFrame(predsvc)\n",
    "df1"
   ]
  },
  {
   "cell_type": "code",
   "execution_count": 218,
   "id": "0e859e06",
   "metadata": {},
   "outputs": [],
   "source": [
    "df1.to_csv('svmkernel2.csv')"
   ]
  },
  {
   "cell_type": "code",
   "execution_count": 219,
   "id": "11f6329d",
   "metadata": {},
   "outputs": [
    {
     "data": {
      "text/html": [
       "<div>\n",
       "<style scoped>\n",
       "    .dataframe tbody tr th:only-of-type {\n",
       "        vertical-align: middle;\n",
       "    }\n",
       "\n",
       "    .dataframe tbody tr th {\n",
       "        vertical-align: top;\n",
       "    }\n",
       "\n",
       "    .dataframe thead th {\n",
       "        text-align: right;\n",
       "    }\n",
       "</style>\n",
       "<table border=\"1\" class=\"dataframe\">\n",
       "  <thead>\n",
       "    <tr style=\"text-align: right;\">\n",
       "      <th></th>\n",
       "      <th>Unnamed: 0</th>\n",
       "      <th>0</th>\n",
       "    </tr>\n",
       "  </thead>\n",
       "  <tbody>\n",
       "    <tr>\n",
       "      <th>0</th>\n",
       "      <td>0</td>\n",
       "      <td>0</td>\n",
       "    </tr>\n",
       "    <tr>\n",
       "      <th>1</th>\n",
       "      <td>1</td>\n",
       "      <td>0</td>\n",
       "    </tr>\n",
       "    <tr>\n",
       "      <th>2</th>\n",
       "      <td>2</td>\n",
       "      <td>2</td>\n",
       "    </tr>\n",
       "    <tr>\n",
       "      <th>3</th>\n",
       "      <td>3</td>\n",
       "      <td>1</td>\n",
       "    </tr>\n",
       "    <tr>\n",
       "      <th>4</th>\n",
       "      <td>4</td>\n",
       "      <td>2</td>\n",
       "    </tr>\n",
       "    <tr>\n",
       "      <th>5</th>\n",
       "      <td>5</td>\n",
       "      <td>0</td>\n",
       "    </tr>\n",
       "    <tr>\n",
       "      <th>6</th>\n",
       "      <td>6</td>\n",
       "      <td>2</td>\n",
       "    </tr>\n",
       "    <tr>\n",
       "      <th>7</th>\n",
       "      <td>7</td>\n",
       "      <td>1</td>\n",
       "    </tr>\n",
       "    <tr>\n",
       "      <th>8</th>\n",
       "      <td>8</td>\n",
       "      <td>1</td>\n",
       "    </tr>\n",
       "    <tr>\n",
       "      <th>9</th>\n",
       "      <td>9</td>\n",
       "      <td>1</td>\n",
       "    </tr>\n",
       "    <tr>\n",
       "      <th>10</th>\n",
       "      <td>10</td>\n",
       "      <td>0</td>\n",
       "    </tr>\n",
       "    <tr>\n",
       "      <th>11</th>\n",
       "      <td>11</td>\n",
       "      <td>1</td>\n",
       "    </tr>\n",
       "    <tr>\n",
       "      <th>12</th>\n",
       "      <td>12</td>\n",
       "      <td>2</td>\n",
       "    </tr>\n",
       "    <tr>\n",
       "      <th>13</th>\n",
       "      <td>13</td>\n",
       "      <td>0</td>\n",
       "    </tr>\n",
       "    <tr>\n",
       "      <th>14</th>\n",
       "      <td>14</td>\n",
       "      <td>1</td>\n",
       "    </tr>\n",
       "    <tr>\n",
       "      <th>15</th>\n",
       "      <td>15</td>\n",
       "      <td>1</td>\n",
       "    </tr>\n",
       "    <tr>\n",
       "      <th>16</th>\n",
       "      <td>16</td>\n",
       "      <td>0</td>\n",
       "    </tr>\n",
       "    <tr>\n",
       "      <th>17</th>\n",
       "      <td>17</td>\n",
       "      <td>0</td>\n",
       "    </tr>\n",
       "    <tr>\n",
       "      <th>18</th>\n",
       "      <td>18</td>\n",
       "      <td>2</td>\n",
       "    </tr>\n",
       "    <tr>\n",
       "      <th>19</th>\n",
       "      <td>19</td>\n",
       "      <td>2</td>\n",
       "    </tr>\n",
       "    <tr>\n",
       "      <th>20</th>\n",
       "      <td>20</td>\n",
       "      <td>0</td>\n",
       "    </tr>\n",
       "    <tr>\n",
       "      <th>21</th>\n",
       "      <td>21</td>\n",
       "      <td>0</td>\n",
       "    </tr>\n",
       "    <tr>\n",
       "      <th>22</th>\n",
       "      <td>22</td>\n",
       "      <td>0</td>\n",
       "    </tr>\n",
       "    <tr>\n",
       "      <th>23</th>\n",
       "      <td>23</td>\n",
       "      <td>2</td>\n",
       "    </tr>\n",
       "    <tr>\n",
       "      <th>24</th>\n",
       "      <td>24</td>\n",
       "      <td>2</td>\n",
       "    </tr>\n",
       "    <tr>\n",
       "      <th>25</th>\n",
       "      <td>25</td>\n",
       "      <td>2</td>\n",
       "    </tr>\n",
       "    <tr>\n",
       "      <th>26</th>\n",
       "      <td>26</td>\n",
       "      <td>0</td>\n",
       "    </tr>\n",
       "    <tr>\n",
       "      <th>27</th>\n",
       "      <td>27</td>\n",
       "      <td>1</td>\n",
       "    </tr>\n",
       "    <tr>\n",
       "      <th>28</th>\n",
       "      <td>28</td>\n",
       "      <td>0</td>\n",
       "    </tr>\n",
       "    <tr>\n",
       "      <th>29</th>\n",
       "      <td>29</td>\n",
       "      <td>0</td>\n",
       "    </tr>\n",
       "    <tr>\n",
       "      <th>30</th>\n",
       "      <td>30</td>\n",
       "      <td>1</td>\n",
       "    </tr>\n",
       "    <tr>\n",
       "      <th>31</th>\n",
       "      <td>31</td>\n",
       "      <td>0</td>\n",
       "    </tr>\n",
       "    <tr>\n",
       "      <th>32</th>\n",
       "      <td>32</td>\n",
       "      <td>1</td>\n",
       "    </tr>\n",
       "  </tbody>\n",
       "</table>\n",
       "</div>"
      ],
      "text/plain": [
       "    Unnamed: 0  0\n",
       "0            0  0\n",
       "1            1  0\n",
       "2            2  2\n",
       "3            3  1\n",
       "4            4  2\n",
       "5            5  0\n",
       "6            6  2\n",
       "7            7  1\n",
       "8            8  1\n",
       "9            9  1\n",
       "10          10  0\n",
       "11          11  1\n",
       "12          12  2\n",
       "13          13  0\n",
       "14          14  1\n",
       "15          15  1\n",
       "16          16  0\n",
       "17          17  0\n",
       "18          18  2\n",
       "19          19  2\n",
       "20          20  0\n",
       "21          21  0\n",
       "22          22  0\n",
       "23          23  2\n",
       "24          24  2\n",
       "25          25  2\n",
       "26          26  0\n",
       "27          27  1\n",
       "28          28  0\n",
       "29          29  0\n",
       "30          30  1\n",
       "31          31  0\n",
       "32          32  1"
      ]
     },
     "execution_count": 219,
     "metadata": {},
     "output_type": "execute_result"
    }
   ],
   "source": [
    "pd.read_csv('svmkernel2.csv')"
   ]
  },
  {
   "cell_type": "code",
   "execution_count": null,
   "id": "803c5c01",
   "metadata": {},
   "outputs": [],
   "source": []
  },
  {
   "cell_type": "markdown",
   "id": "14a2d69c",
   "metadata": {},
   "source": [
    "# Entropy (E)                                               \n",
    "Randomness presrnt in the data.Only hetrogenous data are good for training models."
   ]
  },
  {
   "cell_type": "markdown",
   "id": "8612a9ac",
   "metadata": {},
   "source": [
    "from sklearn.tree import DecisionTreeClassifier"
   ]
  },
  {
   "cell_type": "raw",
   "id": "c4e3c3cf",
   "metadata": {},
   "source": [
    "Entropy varies from 0 to 1: 1 is max, 0 is least(all values are simply same)             #24april"
   ]
  },
  {
   "cell_type": "raw",
   "id": "3303ae3e",
   "metadata": {},
   "source": [
    "Impurity is nothing but Randomness."
   ]
  },
  {
   "cell_type": "raw",
   "id": "6ddad646",
   "metadata": {},
   "source": [
    "S=Sample of the training examples"
   ]
  },
  {
   "cell_type": "markdown",
   "id": "989318dd",
   "metadata": {},
   "source": [
    "# Gini Index"
   ]
  },
  {
   "cell_type": "raw",
   "id": "6e4dacfa",
   "metadata": {},
   "source": [
    "Calculated for attributes(columns)\n",
    "It is the default value in Decision Tree Classifier"
   ]
  },
  {
   "cell_type": "markdown",
   "id": "d97a34a4",
   "metadata": {},
   "source": [
    "## 4.Decision Tree Machine classifier"
   ]
  },
  {
   "cell_type": "raw",
   "id": "dda06643",
   "metadata": {},
   "source": [
    "Always consider Entropy, highest entropy in the column, it will calculate the information gain.\n",
    "Informantion gain leads to creation of Decision Tree."
   ]
  },
  {
   "cell_type": "raw",
   "id": "515ce62e",
   "metadata": {},
   "source": [
    "Gain(S,A)= Informtion Gain: expeted reduction in entropy due to sorting s on attribute A.\n",
    "The Infomation gain is based on the decrease in entropy agter a dataset is split on an attribute."
   ]
  },
  {
   "cell_type": "raw",
   "id": "a6b52970",
   "metadata": {},
   "source": [
    "we check entropy for target column, then for each column."
   ]
  },
  {
   "cell_type": "code",
   "execution_count": null,
   "id": "e338d9c4",
   "metadata": {},
   "outputs": [],
   "source": [
    "#ID3 algorithim"
   ]
  },
  {
   "cell_type": "code",
   "execution_count": null,
   "id": "2dc44b61",
   "metadata": {},
   "outputs": [],
   "source": [
    "from sklearn.tree import DecisionTreeClassifier"
   ]
  },
  {
   "cell_type": "code",
   "execution_count": null,
   "id": "1b10cd4f",
   "metadata": {},
   "outputs": [],
   "source": [
    "dtc=DecisionTreeClassifier() # default criteria was not entropy was GINNI\n",
    "dtc.fit(x_train, y_train)\n",
    "score_dtc=dtc.score(x_train, y_train)\n",
    "preddtc=dtc.predict(x_test)\n",
    "score_ac_dtc=accuracy_score(y_test,preddtc)\n",
    "con_mat_dtc=confusion_matrix(y_test, preddtc)\n",
    "class_report_dtc=classification_report(y_test, preddtc)"
   ]
  },
  {
   "cell_type": "code",
   "execution_count": null,
   "id": "f304ceea",
   "metadata": {},
   "outputs": [],
   "source": [
    "score_dtc"
   ]
  },
  {
   "cell_type": "code",
   "execution_count": null,
   "id": "af4e671c",
   "metadata": {},
   "outputs": [],
   "source": [
    "score_ac_dtc"
   ]
  },
  {
   "cell_type": "code",
   "execution_count": null,
   "id": "dbc18117",
   "metadata": {},
   "outputs": [],
   "source": [
    "preddtc"
   ]
  },
  {
   "cell_type": "code",
   "execution_count": null,
   "id": "b5c53b04",
   "metadata": {},
   "outputs": [],
   "source": [
    "con_mat_dtc"
   ]
  },
  {
   "cell_type": "code",
   "execution_count": null,
   "id": "3c5885ba",
   "metadata": {},
   "outputs": [],
   "source": [
    "print(class_report_dtc)"
   ]
  },
  {
   "cell_type": "raw",
   "id": "b7d9932f",
   "metadata": {},
   "source": [
    "dtc=DecisionTreeClassifier(criterion=\"ginni\") # default criteria was not entropy was GINNI\n",
    "dtc.fit(x_train, y_train)\n",
    "score_dtc=dtc.score(x_train, y_train)\n",
    "preddtc=dtc.predict(x_test)\n",
    "score_ac_dtc=accuracy_score(y_test,preddtc)\n",
    "con_mat_dtc=confusion_matrix(y_test, preddtc)\n",
    "class_report_dtc=classification_report(y_test, preddtc)"
   ]
  },
  {
   "cell_type": "markdown",
   "id": "e38cdfc1",
   "metadata": {},
   "source": [
    "We need to check both the criteria off the decision tree classifier and must choose the best model that is of least error"
   ]
  },
  {
   "cell_type": "markdown",
   "id": "c2208a70",
   "metadata": {},
   "source": [
    "We need to check all the 4 classifier of category supervision machine learning and look out for the best model that is,least error and most accurate one."
   ]
  },
  {
   "cell_type": "code",
   "execution_count": null,
   "id": "857b8111",
   "metadata": {
    "scrolled": true
   },
   "outputs": [],
   "source": [
    "print(\"-x-\"*35)"
   ]
  },
  {
   "cell_type": "code",
   "execution_count": null,
   "id": "be43aac1",
   "metadata": {},
   "outputs": [],
   "source": []
  },
  {
   "cell_type": "markdown",
   "id": "73ccb94a",
   "metadata": {},
   "source": [
    "## Saving the Best Model"
   ]
  },
  {
   "cell_type": "raw",
   "id": "385b5cbe",
   "metadata": {},
   "source": [
    "We choose that model whoose accuracy is the best and save it so that we can use it further or another purpose or production model."
   ]
  },
  {
   "cell_type": "raw",
   "id": "6f685454",
   "metadata": {},
   "source": [
    "If we need out to drag any object from jupyter notebook, and keep it in binary file(streaming file), we can take it out.\n"
   ]
  },
  {
   "cell_type": "raw",
   "id": "79041f1e",
   "metadata": {},
   "source": [
    " 2 methods for saving the ML model:\n",
    "        1. JOBLIB\n",
    "        2. PICKLE\n",
    "        \n",
    "These models are saved with .obj extention"
   ]
  },
  {
   "cell_type": "code",
   "execution_count": null,
   "id": "eecef0c0",
   "metadata": {},
   "outputs": [],
   "source": [
    "#mtd1 \n",
    "import joblib\n",
    "joblib.dump(dtc,\"dtcfile.obj\") #serilizartion\n"
   ]
  },
  {
   "cell_type": "code",
   "execution_count": null,
   "id": "8ea08adc",
   "metadata": {},
   "outputs": [],
   "source": [
    "dtc_from_joblib=joblib.load(\"dtcfile.obj\")  #deserilization\n",
    "dtc_from_joblib.predict(x_test)"
   ]
  },
  {
   "cell_type": "code",
   "execution_count": null,
   "id": "7b5ed451",
   "metadata": {},
   "outputs": [],
   "source": [
    "#2nd method\n",
    "import pickle\n",
    "filename=\"pickledtcfile.pkl\"\n",
    "pickle.dump(dtc,open(filename,\"wb\"))  #serilization"
   ]
  },
  {
   "cell_type": "code",
   "execution_count": null,
   "id": "91f2ba5c",
   "metadata": {},
   "outputs": [],
   "source": [
    "load_model=pickle.load(open(filename,\"rb\"))  #deserilization\n",
    "load_model.predict(x_test)"
   ]
  },
  {
   "cell_type": "code",
   "execution_count": null,
   "id": "18b98cf1",
   "metadata": {},
   "outputs": [],
   "source": [
    "#p=np.array([2,3,4,5,4,4])\n",
    "#p.reshape(-1,1)\n",
    "#dtc.predict(p)\n",
    "#load_model.predict(p)"
   ]
  },
  {
   "cell_type": "raw",
   "id": "ac2e7e29",
   "metadata": {},
   "source": [
    "Concept of one column many row and many column one row"
   ]
  },
  {
   "cell_type": "markdown",
   "id": "4ea8945b",
   "metadata": {},
   "source": [
    "(1,-1): one row many column"
   ]
  },
  {
   "cell_type": "markdown",
   "id": "b2388eb9",
   "metadata": {},
   "source": [
    "# Encoding\n",
    "To scale different columns data to same scale"
   ]
  },
  {
   "cell_type": "raw",
   "id": "008e5635",
   "metadata": {},
   "source": [
    "Standard Scaler Encoding: Mean becomes 0 and Std.Dev becomes +/-1\n",
    "\n",
    "\n",
    "Min Max Scaler Encoding : When Range is HUGE.Entire data would be b/w 0 to 1"
   ]
  },
  {
   "cell_type": "raw",
   "id": "52bfbeb9",
   "metadata": {},
   "source": []
  },
  {
   "cell_type": "code",
   "execution_count": null,
   "id": "9cf4bcc1",
   "metadata": {},
   "outputs": [],
   "source": [
    "from sklearn.preprocessing import StandardScaler"
   ]
  },
  {
   "cell_type": "code",
   "execution_count": null,
   "id": "2c67c66d",
   "metadata": {},
   "outputs": [],
   "source": [
    "y=y.reshape(-1,1)"
   ]
  },
  {
   "cell_type": "code",
   "execution_count": null,
   "id": "090235e0",
   "metadata": {
    "scrolled": false
   },
   "outputs": [],
   "source": [
    "sts=StandardScaler()\n",
    "z=sts.fit_transform(y)\n",
    "z"
   ]
  },
  {
   "cell_type": "code",
   "execution_count": null,
   "id": "c6e251ea",
   "metadata": {},
   "outputs": [],
   "source": [
    "from sklearn.preprocessing import MinMaxScaler\n",
    "stm=MinMaxScaler()\n",
    "x=stm.fit_transform(x)\n",
    "x"
   ]
  },
  {
   "cell_type": "code",
   "execution_count": null,
   "id": "37e1eab8",
   "metadata": {},
   "outputs": [],
   "source": [
    "trian_x\n",
    "score\n",
    "fit\n",
    "pred\n",
    "accuacy score\n",
    "confuion matrix\n",
    "classification report\n"
   ]
  }
 ],
 "metadata": {
  "kernelspec": {
   "display_name": "Python 3 (ipykernel)",
   "language": "python",
   "name": "python3"
  },
  "language_info": {
   "codemirror_mode": {
    "name": "ipython",
    "version": 3
   },
   "file_extension": ".py",
   "mimetype": "text/x-python",
   "name": "python",
   "nbconvert_exporter": "python",
   "pygments_lexer": "ipython3",
   "version": "3.9.7"
  }
 },
 "nbformat": 4,
 "nbformat_minor": 5
}

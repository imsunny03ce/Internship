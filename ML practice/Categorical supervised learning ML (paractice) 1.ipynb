{
 "cells": [
  {
   "cell_type": "markdown",
   "id": "fb29bf39",
   "metadata": {},
   "source": [
    "##### Aim: 1)If categorical data is given, how to categorise and analyse them\n",
    "     2)Saving the best ML model.\n",
    "     3)Encoding - scaling data"
   ]
  },
  {
   "cell_type": "code",
   "execution_count": null,
   "id": "ccfc614f",
   "metadata": {},
   "outputs": [],
   "source": [
    "# label/target is categorical data here!"
   ]
  },
  {
   "cell_type": "markdown",
   "id": "5a10db0e",
   "metadata": {},
   "source": [
    "###### Classification analaysis:                            #23april\n",
    "     1.Navier Bayes Classifier\n",
    "     2.K Nearest Neighbour Classifier\n",
    "     3.Support Vector Classifier\n",
    "     4.Decision Tree Machine classifier"
   ]
  },
  {
   "cell_type": "markdown",
   "id": "8658f022",
   "metadata": {},
   "source": [
    "##### 6 steps of machine learning:\n",
    "\n",
    "knn.fit(x_train,y_train)--\n",
    "throwing data for training,Quadrant first and second\n",
    "\n",
    "knn_score=knn.score(x_train,y_train)--\n",
    "Checking the score of training\n",
    "\n",
    "predknn=knn.predict(x_test)--\n",
    " throwing data to predict to already known answers/labels, quadrant 3 and 4.\n",
    "\n",
    "knn_ac_score=accuracy_score(y_test,predknn)--\n",
    " checking the accuracy of prediction made, quadrant 4 and new predicted quadrant\n",
    "\n",
    "\n",
    "con_mat_knn=confusion_matrix(y_test,predknn)--\n",
    "#Checking error and accuracy Off prediction made, quadrant 4 and a new predicted quadrant\n",
    "\n",
    "\n",
    "class_report_knn=classification_report(y_test,predknn)--\n",
    " preparing the report between the predicted values and what should be the actual predicted values that is quadrant 4"
   ]
  },
  {
   "cell_type": "markdown",
   "id": "511a9889",
   "metadata": {},
   "source": [
    "# 1. Navier Bayes Classifier\n",
    "    a) Multinomial Naiver Bayes- targets are more than 2 in numbers\n",
    "    b) Gaussian Naivier - targets are just 2 in numbers"
   ]
  },
  {
   "cell_type": "code",
   "execution_count": null,
   "id": "7c47733d",
   "metadata": {},
   "outputs": [],
   "source": [
    "import pandas as pd\n",
    "import numpy as np\n",
    "import matplotlib.pyplot as plt\n",
    "import sklearn\n",
    "import seaborn as sns\n",
    "import warnings \n",
    "warnings.filterwarnings(\"ignore\")"
   ]
  },
  {
   "cell_type": "code",
   "execution_count": null,
   "id": "48c82859",
   "metadata": {},
   "outputs": [],
   "source": [
    "from sklearn.datasets import load_iris"
   ]
  },
  {
   "cell_type": "code",
   "execution_count": null,
   "id": "a4c6fea4",
   "metadata": {},
   "outputs": [],
   "source": [
    "from sklearn.model_selection import train_test_split\n",
    "from sklearn.metrics import accuracy_score, confusion_matrix, classification_report"
   ]
  },
  {
   "cell_type": "code",
   "execution_count": null,
   "id": "9c35a9b0",
   "metadata": {},
   "outputs": [],
   "source": [
    "from sklearn.naive_bayes import MultinomialNB"
   ]
  },
  {
   "cell_type": "code",
   "execution_count": null,
   "id": "0ea88495",
   "metadata": {},
   "outputs": [],
   "source": [
    "iris=load_iris()\n",
    "iris"
   ]
  },
  {
   "cell_type": "markdown",
   "id": "132ac999",
   "metadata": {},
   "source": [
    "###### iris.keys\n",
    "keys-(data, feature_names, DESCR, target,frame, filename)"
   ]
  },
  {
   "cell_type": "code",
   "execution_count": null,
   "id": "3c0464be",
   "metadata": {},
   "outputs": [],
   "source": [
    "ds=pd.DataFrame(iris.data)\n",
    "ds.sample(3)"
   ]
  },
  {
   "cell_type": "code",
   "execution_count": null,
   "id": "e0a7618e",
   "metadata": {},
   "outputs": [],
   "source": [
    "#ds1=pd.DataFrame(data='iris.data', columns ='iris.feature_names')\n",
    "#ds1.sample(3)\n",
    "#ERROR"
   ]
  },
  {
   "cell_type": "code",
   "execution_count": null,
   "id": "1fc54177",
   "metadata": {},
   "outputs": [],
   "source": [
    "x=iris.data\n",
    "y=iris.target"
   ]
  },
  {
   "cell_type": "code",
   "execution_count": null,
   "id": "2fc45899",
   "metadata": {},
   "outputs": [],
   "source": [
    "y #there are 3 targets"
   ]
  },
  {
   "cell_type": "code",
   "execution_count": null,
   "id": "74527d4b",
   "metadata": {},
   "outputs": [],
   "source": [
    "x_train, x_test, y_train, y_test=train_test_split(x,y,test_size=.22, random_state=43)"
   ]
  },
  {
   "cell_type": "markdown",
   "id": "5f60dff9",
   "metadata": {},
   "source": [
    "### MultinomialNB"
   ]
  },
  {
   "cell_type": "code",
   "execution_count": 239,
   "id": "c098af04",
   "metadata": {},
   "outputs": [],
   "source": [
    "mnb=MultinomialNB()\n",
    "mnb.fit(x_train,y_train)\n",
    "predmnb=mnb.predict(x_test)\n",
    "mnb_score=accuracy_score(y_test,predmnb)\n",
    "con_mat_mnb=confusion_matrix(y_test,predmnb)\n",
    "class_report_mnb=classification_report(y_test,predmnb)"
   ]
  },
  {
   "cell_type": "code",
   "execution_count": null,
   "id": "5e2f0f5d",
   "metadata": {},
   "outputs": [],
   "source": [
    "mnb_score"
   ]
  },
  {
   "cell_type": "code",
   "execution_count": null,
   "id": "5c7f01d0",
   "metadata": {},
   "outputs": [],
   "source": [
    "con_mat_mnb"
   ]
  },
  {
   "cell_type": "code",
   "execution_count": null,
   "id": "8b8b1e64",
   "metadata": {},
   "outputs": [],
   "source": [
    "class_report_mnb"
   ]
  },
  {
   "cell_type": "code",
   "execution_count": null,
   "id": "ad47f0da",
   "metadata": {},
   "outputs": [],
   "source": [
    "print(class_report)"
   ]
  },
  {
   "cell_type": "code",
   "execution_count": null,
   "id": "3c075b11",
   "metadata": {},
   "outputs": [],
   "source": []
  },
  {
   "cell_type": "markdown",
   "id": "3b963a71",
   "metadata": {},
   "source": [
    "## 2)  K Neighbors Classifier\n",
    "        from sklearn.neighbors import KNeighborsClassifier\n",
    "        neigh=KNeighborsClassifier(n_neighbors=3)"
   ]
  },
  {
   "cell_type": "markdown",
   "id": "e9247506",
   "metadata": {},
   "source": [
    "###### Mind this- it is neighbors not neighbours"
   ]
  },
  {
   "cell_type": "code",
   "execution_count": null,
   "id": "320f0e8a",
   "metadata": {},
   "outputs": [],
   "source": [
    "from sklearn.neighbors import KNeighborsClassifier"
   ]
  },
  {
   "cell_type": "code",
   "execution_count": null,
   "id": "af0a85dc",
   "metadata": {},
   "outputs": [],
   "source": [
    "knn=KNeighborsClassifier(n_neighbors=5) #default n=5"
   ]
  },
  {
   "cell_type": "code",
   "execution_count": null,
   "id": "f57e7250",
   "metadata": {},
   "outputs": [],
   "source": [
    "knn.fit(x_train,y_train)\n",
    "knn_score=knn.score(x_train,y_train)\n",
    "predknn=knn.predict(x_test)\n",
    "knn_ac_score=accuracy_score(y_test,predknn)\n",
    "con_mat_knn=confusion_matrix(y_test,predknn)\n",
    "class_report_knn=classification_report(y_test,predknn)"
   ]
  },
  {
   "cell_type": "code",
   "execution_count": null,
   "id": "a36ec502",
   "metadata": {},
   "outputs": [],
   "source": [
    "knn_score"
   ]
  },
  {
   "cell_type": "code",
   "execution_count": null,
   "id": "027bdcb0",
   "metadata": {},
   "outputs": [],
   "source": [
    "knn_ac_score"
   ]
  },
  {
   "cell_type": "code",
   "execution_count": null,
   "id": "8f8a0f68",
   "metadata": {},
   "outputs": [],
   "source": [
    "print(con_mat_knn)"
   ]
  },
  {
   "cell_type": "code",
   "execution_count": null,
   "id": "9d27409f",
   "metadata": {},
   "outputs": [],
   "source": [
    "print(class_report_knn)"
   ]
  },
  {
   "cell_type": "code",
   "execution_count": null,
   "id": "e69f3dd9",
   "metadata": {},
   "outputs": [],
   "source": []
  },
  {
   "cell_type": "markdown",
   "id": "cb7dd68c",
   "metadata": {},
   "source": [
    "## 3. Support Vector Classifier\n",
    "    Provides the margin/gap betweeen two given classificattion of categorical data\n",
    "    from sklearn.svm import SVC"
   ]
  },
  {
   "cell_type": "markdown",
   "id": "e65448dc",
   "metadata": {},
   "source": [
    "### Support Vectors\n",
    "Support vectors are the data points,which are closest to the hyperplane.These points will define\n",
    "the separating line better by calculating margins.These points are more relevant to the construction\n",
    "of the classifier.\n",
    "\n",
    "### Hyperplane\n",
    "A hyperplane is a decision plane which separates betweenaset of objects having different class\n",
    "memberships.\n",
    "\n",
    "### Margin\n",
    "A margin is a gap between the two lines on the closest class points.This is calculated as the\n",
    "perpendicular distance from the line to support vectors or closest points.If the margin is larger in\n",
    "between the classes,then it is consideredagood margin,a smaller margin isabad margin."
   ]
  },
  {
   "cell_type": "code",
   "execution_count": null,
   "id": "d8b5f137",
   "metadata": {},
   "outputs": [],
   "source": [
    "from sklearn.svm import SVC"
   ]
  },
  {
   "cell_type": "code",
   "execution_count": null,
   "id": "a2d413a6",
   "metadata": {},
   "outputs": [],
   "source": [
    "svc=SVC(kernel='rbf') #default value= rbf\n",
    "svc.fit(x_train,y_train)\n",
    "score_svc=svc.score(x_test, y_test)"
   ]
  },
  {
   "cell_type": "code",
   "execution_count": null,
   "id": "734bb9ce",
   "metadata": {},
   "outputs": [],
   "source": [
    "predsvc=svc.predict(x_test)\n",
    "score_ac_svc=accuracy_score(y_test,predsvc)\n",
    "con_mat_svc=confusion_matrix(y_test,predsvc)\n",
    "class_report_svc=classification_report(y_test,predsvc)"
   ]
  },
  {
   "cell_type": "code",
   "execution_count": null,
   "id": "2e3cd288",
   "metadata": {},
   "outputs": [],
   "source": [
    "score_svc"
   ]
  },
  {
   "cell_type": "code",
   "execution_count": null,
   "id": "503acefa",
   "metadata": {},
   "outputs": [],
   "source": [
    "score_ac_svc "
   ]
  },
  {
   "cell_type": "markdown",
   "id": "065590e8",
   "metadata": {},
   "source": [
    "score and accuracy score are not same"
   ]
  },
  {
   "cell_type": "code",
   "execution_count": null,
   "id": "bd5a1d74",
   "metadata": {},
   "outputs": [],
   "source": [
    "con_mat_svc"
   ]
  },
  {
   "cell_type": "code",
   "execution_count": null,
   "id": "85d330b8",
   "metadata": {},
   "outputs": [],
   "source": [
    "print(class_report_svc)"
   ]
  },
  {
   "cell_type": "code",
   "execution_count": null,
   "id": "255ed3ec",
   "metadata": {},
   "outputs": [],
   "source": [
    "svc=SVC(kernel='poly') \n",
    "svc.fit(x_train,y_train)\n",
    "score_svc=svc.score(x_test, y_test)\n",
    "predsvc=svc.predict(x_test)\n",
    "score_ac_svc=accuracy_score(y_test,predsvc)\n",
    "con_mat_svc=confusion_matrix(y_test,predsvc)\n",
    "class_report_svc=classification_report(y_test,predsvc)"
   ]
  },
  {
   "cell_type": "code",
   "execution_count": null,
   "id": "08562316",
   "metadata": {},
   "outputs": [],
   "source": [
    "print(score_ac_svc)\n",
    "print(con_mat_svc)\n",
    "print(class_report_svc)"
   ]
  },
  {
   "cell_type": "markdown",
   "id": "4b3375b2",
   "metadata": {},
   "source": [
    "Kernel Poly is working better than kernel rbf !"
   ]
  },
  {
   "cell_type": "code",
   "execution_count": null,
   "id": "05139d94",
   "metadata": {},
   "outputs": [],
   "source": [
    "def svmkernel(ker):\n",
    "    svc=SVC(kernel=ker) \n",
    "    svc.fit(x_train,y_train)\n",
    "    score_svc=svc.score(x_test, y_test)\n",
    "    predsvc=svc.predict(x_test)\n",
    "    score_ac_svc=accuracy_score(y_test,predsvc)\n",
    "    con_mat_svc=confusion_matrix(y_test,predsvc)\n",
    "    class_report_svc=classification_report(y_test,predsvc)"
   ]
  },
  {
   "cell_type": "code",
   "execution_count": null,
   "id": "2be7b1fe",
   "metadata": {},
   "outputs": [],
   "source": [
    "score_svc"
   ]
  },
  {
   "cell_type": "code",
   "execution_count": null,
   "id": "f7b95224",
   "metadata": {},
   "outputs": [],
   "source": [
    "svmkernel(\"rbf\")"
   ]
  },
  {
   "cell_type": "code",
   "execution_count": null,
   "id": "b346741c",
   "metadata": {},
   "outputs": [],
   "source": [
    "svmkernel(\"poly\")"
   ]
  },
  {
   "cell_type": "code",
   "execution_count": null,
   "id": "03a78617",
   "metadata": {},
   "outputs": [],
   "source": [
    "svmkernel(\"linear\")"
   ]
  },
  {
   "cell_type": "code",
   "execution_count": null,
   "id": "08f7f4a3",
   "metadata": {},
   "outputs": [],
   "source": [
    "df1=pd.DataFrame(predsvc)\n",
    "df1"
   ]
  },
  {
   "cell_type": "code",
   "execution_count": null,
   "id": "7ae9094f",
   "metadata": {},
   "outputs": [],
   "source": [
    "df1.to_csv('svmkernel2.csv')"
   ]
  },
  {
   "cell_type": "code",
   "execution_count": null,
   "id": "05a6fc79",
   "metadata": {},
   "outputs": [],
   "source": [
    "pd.read_csv('svmkernel2.csv')"
   ]
  },
  {
   "cell_type": "code",
   "execution_count": null,
   "id": "bee6a204",
   "metadata": {},
   "outputs": [],
   "source": []
  },
  {
   "cell_type": "markdown",
   "id": "c2a5d85e",
   "metadata": {},
   "source": [
    "# Entropy (E)                                               \n",
    "Randomness presrnt in the data.Only hetrogenous data are good for training models."
   ]
  },
  {
   "cell_type": "markdown",
   "id": "c6238cd9",
   "metadata": {},
   "source": [
    "from sklearn.tree import DecisionTreeClassifier"
   ]
  },
  {
   "cell_type": "markdown",
   "id": "30e1fd56",
   "metadata": {},
   "source": [
    "Entropy varies from 0 to 1: 1 is max, 0 is least(all values are simply same)             #24april"
   ]
  },
  {
   "cell_type": "markdown",
   "id": "962327d3",
   "metadata": {},
   "source": [
    "Impurity is nothing but Randomness."
   ]
  },
  {
   "cell_type": "markdown",
   "id": "49b877f4",
   "metadata": {},
   "source": [
    "S=Sample of the training examples"
   ]
  },
  {
   "cell_type": "markdown",
   "id": "e638df8d",
   "metadata": {},
   "source": [
    "# Gini Index"
   ]
  },
  {
   "cell_type": "markdown",
   "id": "0fbafc5e",
   "metadata": {},
   "source": [
    "Calculated for attributes(columns).\n",
    "It is the default value in Decision Tree Classifier"
   ]
  },
  {
   "cell_type": "markdown",
   "id": "97e67cd9",
   "metadata": {},
   "source": [
    "## 4.Decision Tree Machine classifier"
   ]
  },
  {
   "cell_type": "markdown",
   "id": "5fa87df1",
   "metadata": {},
   "source": [
    "Always consider Entropy, highest entropy in the column, it will calculate the information gain.\n",
    "Informantion gain leads to creation of Decision Tree."
   ]
  },
  {
   "cell_type": "markdown",
   "id": "de86a9dd",
   "metadata": {},
   "source": [
    "Gain(S,A)= Informtion Gain: expeted reduction in entropy due to sorting s on attribute A.\n",
    "The Infomation gain is based on the decrease in entropy agter a dataset is split on an attribute."
   ]
  },
  {
   "cell_type": "markdown",
   "id": "1307f2a8",
   "metadata": {},
   "source": [
    "we check entropy for target column, then for each column."
   ]
  },
  {
   "cell_type": "code",
   "execution_count": null,
   "id": "3a4c79da",
   "metadata": {},
   "outputs": [],
   "source": [
    "#ID3 algorithim"
   ]
  },
  {
   "cell_type": "code",
   "execution_count": null,
   "id": "5e88cc79",
   "metadata": {},
   "outputs": [],
   "source": [
    "from sklearn.tree import DecisionTreeClassifier"
   ]
  },
  {
   "cell_type": "code",
   "execution_count": null,
   "id": "c8e5b23a",
   "metadata": {},
   "outputs": [],
   "source": [
    "dtc=DecisionTreeClassifier() # default criteria was not entropy was GINNI\n",
    "dtc.fit(x_train, y_train)\n",
    "score_dtc=dtc.score(x_train, y_train)\n",
    "preddtc=dtc.predict(x_test)\n",
    "score_ac_dtc=accuracy_score(y_test,preddtc)\n",
    "con_mat_dtc=confusion_matrix(y_test, preddtc)\n",
    "class_report_dtc=classification_report(y_test, preddtc)"
   ]
  },
  {
   "cell_type": "code",
   "execution_count": null,
   "id": "05c1b558",
   "metadata": {},
   "outputs": [],
   "source": [
    "score_dtc"
   ]
  },
  {
   "cell_type": "code",
   "execution_count": null,
   "id": "671148d6",
   "metadata": {},
   "outputs": [],
   "source": [
    "score_ac_dtc"
   ]
  },
  {
   "cell_type": "code",
   "execution_count": null,
   "id": "85c94002",
   "metadata": {},
   "outputs": [],
   "source": [
    "preddtc"
   ]
  },
  {
   "cell_type": "code",
   "execution_count": null,
   "id": "9e548257",
   "metadata": {},
   "outputs": [],
   "source": [
    "con_mat_dtc"
   ]
  },
  {
   "cell_type": "code",
   "execution_count": null,
   "id": "e78c400d",
   "metadata": {},
   "outputs": [],
   "source": [
    "print(class_report_dtc)"
   ]
  },
  {
   "cell_type": "raw",
   "id": "d08ebdb1",
   "metadata": {},
   "source": [
    "dtc=DecisionTreeClassifier(criterion=\"ginni\") # default criteria was not entropy was GINNI\n",
    "dtc.fit(x_train, y_train)\n",
    "score_dtc=dtc.score(x_train, y_train)\n",
    "preddtc=dtc.predict(x_test)\n",
    "score_ac_dtc=accuracy_score(y_test,preddtc)\n",
    "con_mat_dtc=confusion_matrix(y_test, preddtc)\n",
    "class_report_dtc=classification_report(y_test, preddtc)"
   ]
  },
  {
   "cell_type": "markdown",
   "id": "2853bc56",
   "metadata": {},
   "source": [
    "We need to check both the criteria off the decision tree classifier and must choose the best model that is of least error"
   ]
  },
  {
   "cell_type": "markdown",
   "id": "2f9b35c5",
   "metadata": {},
   "source": [
    "We need to check all the 4 classifier of category supervision machine learning and look out for the best model that is,least error and most accurate one."
   ]
  },
  {
   "cell_type": "code",
   "execution_count": null,
   "id": "386da899",
   "metadata": {
    "scrolled": true
   },
   "outputs": [],
   "source": [
    "print(\"-x-\"*35)"
   ]
  },
  {
   "cell_type": "code",
   "execution_count": null,
   "id": "2fcf6780",
   "metadata": {},
   "outputs": [],
   "source": []
  },
  {
   "cell_type": "markdown",
   "id": "48933c28",
   "metadata": {},
   "source": [
    "## Saving the Best Model"
   ]
  },
  {
   "cell_type": "markdown",
   "id": "cf3fcbf7",
   "metadata": {},
   "source": [
    "We choose that model whoose accuracy is the best and save it so that we can use it further or another purpose or production model."
   ]
  },
  {
   "cell_type": "markdown",
   "id": "1b900119",
   "metadata": {},
   "source": [
    "If we need out to drag any object from jupyter notebook, and keep it in binary file(streaming file), we can take it out.\n"
   ]
  },
  {
   "cell_type": "markdown",
   "id": "d2b567ae",
   "metadata": {},
   "source": [
    " 2 methods for saving the ML model:\n",
    "        1. JOBLIB\n",
    "        2. PICKLE\n",
    "        \n",
    "These models are saved with .obj extention"
   ]
  },
  {
   "cell_type": "code",
   "execution_count": null,
   "id": "94977548",
   "metadata": {},
   "outputs": [],
   "source": [
    "#mtd1 \n",
    "import joblib\n",
    "joblib.dump(dtc,\"dtcfile.obj\") #serilizartion\n"
   ]
  },
  {
   "cell_type": "code",
   "execution_count": null,
   "id": "8ccc787d",
   "metadata": {},
   "outputs": [],
   "source": [
    "dtc_from_joblib=joblib.load(\"dtcfile.obj\")  #deserilization\n",
    "dtc_from_joblib.predict(x_test)"
   ]
  },
  {
   "cell_type": "code",
   "execution_count": null,
   "id": "4b7ab842",
   "metadata": {},
   "outputs": [],
   "source": [
    "#2nd method\n",
    "import pickle\n",
    "filename=\"pickledtcfile.pkl\"\n",
    "pickle.dump(dtc,open(filename,\"wb\"))  #serilization"
   ]
  },
  {
   "cell_type": "code",
   "execution_count": null,
   "id": "f55e406e",
   "metadata": {},
   "outputs": [],
   "source": [
    "load_model=pickle.load(open(filename,\"rb\"))  #deserilization\n",
    "load_model.predict(x_test)"
   ]
  },
  {
   "cell_type": "code",
   "execution_count": null,
   "id": "c9af1117",
   "metadata": {},
   "outputs": [],
   "source": [
    "#p=np.array([2,3,4,5,4,4])\n",
    "#p.reshape(-1,1)\n",
    "#dtc.predict(p)\n",
    "#load_model.predict(p)"
   ]
  },
  {
   "cell_type": "markdown",
   "id": "9b9846ce",
   "metadata": {},
   "source": [
    "Concept of one column many row and many column one row"
   ]
  },
  {
   "cell_type": "markdown",
   "id": "1ef409a7",
   "metadata": {},
   "source": [
    "(1,-1): one row many column"
   ]
  },
  {
   "cell_type": "markdown",
   "id": "b94b7583",
   "metadata": {},
   "source": [
    "# Encoding\n",
    "To scale different columns data to same scale"
   ]
  },
  {
   "cell_type": "markdown",
   "id": "fc27a3e8",
   "metadata": {},
   "source": [
    "Standard Scaler Encoding: Mean becomes 0 and Std.Dev becomes +/-1\n",
    "\n",
    "\n",
    "Min Max Scaler Encoding : When Range is HUGE.Entire data would be b/w 0 to 1"
   ]
  },
  {
   "cell_type": "markdown",
   "id": "2fb84819",
   "metadata": {},
   "source": []
  },
  {
   "cell_type": "code",
   "execution_count": null,
   "id": "6dd7e48d",
   "metadata": {},
   "outputs": [],
   "source": [
    "from sklearn.preprocessing import StandardScaler"
   ]
  },
  {
   "cell_type": "code",
   "execution_count": null,
   "id": "a5573a08",
   "metadata": {},
   "outputs": [],
   "source": [
    "y=y.reshape(-1,1)"
   ]
  },
  {
   "cell_type": "code",
   "execution_count": null,
   "id": "48b6d577",
   "metadata": {
    "scrolled": false
   },
   "outputs": [],
   "source": [
    "sts=StandardScaler()\n",
    "z=sts.fit_transform(y)\n",
    "z"
   ]
  },
  {
   "cell_type": "code",
   "execution_count": null,
   "id": "cd219cff",
   "metadata": {},
   "outputs": [],
   "source": [
    "from sklearn.preprocessing import MinMaxScaler\n",
    "stm=MinMaxScaler()\n",
    "x=stm.fit_transform(x)\n",
    "x"
   ]
  },
  {
   "cell_type": "markdown",
   "id": "44aa6438",
   "metadata": {},
   "source": [
    "trian_x\n",
    "score\n",
    "fit\n",
    "pred\n",
    "accuacy score\n",
    "confuion matrix\n",
    "classification report\n",
    "#usual procedure\n"
   ]
  },
  {
   "cell_type": "code",
   "execution_count": null,
   "id": "d7a39ce5",
   "metadata": {},
   "outputs": [],
   "source": []
  }
 ],
 "metadata": {
  "kernelspec": {
   "display_name": "Python 3 (ipykernel)",
   "language": "python",
   "name": "python3"
  },
  "language_info": {
   "codemirror_mode": {
    "name": "ipython",
    "version": 3
   },
   "file_extension": ".py",
   "mimetype": "text/x-python",
   "name": "python",
   "nbconvert_exporter": "python",
   "pygments_lexer": "ipython3",
   "version": "3.9.7"
  }
 },
 "nbformat": 4,
 "nbformat_minor": 5
}

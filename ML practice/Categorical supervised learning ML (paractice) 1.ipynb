{
 "cells": [
  {
   "cell_type": "markdown",
   "id": "5dc95c4a",
   "metadata": {},
   "source": [
    "##### Aim: 1)If categorical data is given, how to categorise and analyse them\n",
    "     2)Saving the best ML model.\n",
    "     3)Encoding - scaling data"
   ]
  },
  {
   "cell_type": "code",
   "execution_count": null,
   "id": "446b4fd8",
   "metadata": {},
   "outputs": [],
   "source": [
    "# label/target is categorical data here!"
   ]
  },
  {
   "cell_type": "markdown",
   "id": "cc477ae4",
   "metadata": {},
   "source": [
    "###### Classification analaysis:                            #23april\n",
    "     1.Navier Bayes Classifier\n",
    "     2.K Nearest Neighbour Classifier\n",
    "     3.Support Vector Classifier\n",
    "     4.Decision Tree Machine classifier"
   ]
  },
  {
   "cell_type": "markdown",
   "id": "33449e07",
   "metadata": {},
   "source": [
    "##### 6 steps of machine learning:\n",
    "\n",
    "knn.fit(x_train,y_train)--\n",
    "throwing data for training,Quadrant first and second\n",
    "\n",
    "knn_score=knn.score(x_train,y_train)--\n",
    "Checking the score of training\n",
    "\n",
    "predknn=knn.predict(x_test)--\n",
    " throwing data to predict to already known answers/labels, quadrant 3 and 4.\n",
    "\n",
    "knn_ac_score=accuracy_score(y_test,predknn)--\n",
    " checking the accuracy of prediction made, quadrant 4 and new predicted quadrant\n",
    "\n",
    "\n",
    "con_mat_knn=confusion_matrix(y_test,predknn)--\n",
    "#Checking error and accuracy Off prediction made, quadrant 4 and a new predicted quadrant\n",
    "\n",
    "\n",
    "class_report_knn=classification_report(y_test,predknn)--\n",
    " preparing the report between the predicted values and what should be the actual predicted values that is quadrant 4"
   ]
  },
  {
   "cell_type": "markdown",
   "id": "d9c9f0df",
   "metadata": {},
   "source": [
    "# 1. Navier Bayes Classifier\n",
    "    a) Multinomial Naiver Bayes- targets are more than 2 in numbers\n",
    "    b) Gaussian Naivier - targets are just 2 in numbers"
   ]
  },
  {
   "cell_type": "code",
   "execution_count": null,
   "id": "97212a7d",
   "metadata": {},
   "outputs": [],
   "source": [
    "import pandas as pd\n",
    "import numpy as np\n",
    "import matplotlib.pyplot as plt\n",
    "import sklearn\n",
    "import seaborn as sns\n",
    "import warnings \n",
    "warnings.filterwarnings(\"ignore\")"
   ]
  },
  {
   "cell_type": "code",
   "execution_count": null,
   "id": "b4db9f5a",
   "metadata": {},
   "outputs": [],
   "source": [
    "from sklearn.datasets import load_iris"
   ]
  },
  {
   "cell_type": "code",
   "execution_count": null,
   "id": "d0605660",
   "metadata": {},
   "outputs": [],
   "source": [
    "from sklearn.model_selection import train_test_split\n",
    "from sklearn.metrics import accuracy_score, confusion_matrix, classification_report"
   ]
  },
  {
   "cell_type": "code",
   "execution_count": null,
   "id": "60747d19",
   "metadata": {},
   "outputs": [],
   "source": [
    "from sklearn.naive_bayes import MultinomialNB"
   ]
  },
  {
   "cell_type": "code",
   "execution_count": null,
   "id": "1d94a470",
   "metadata": {},
   "outputs": [],
   "source": [
    "iris=load_iris()\n",
    "iris"
   ]
  },
  {
   "cell_type": "markdown",
   "id": "e7f2b988",
   "metadata": {},
   "source": [
    "###### iris.keys\n",
    "keys-(data, feature_names, DESCR, target,frame, filename)"
   ]
  },
  {
   "cell_type": "code",
   "execution_count": null,
   "id": "8cfa4205",
   "metadata": {},
   "outputs": [],
   "source": [
    "ds=pd.DataFrame(iris.data)\n",
    "ds.sample(3)"
   ]
  },
  {
   "cell_type": "code",
   "execution_count": null,
   "id": "fa2c3487",
   "metadata": {},
   "outputs": [],
   "source": [
    "#ds1=pd.DataFrame(data='iris.data', columns ='iris.feature_names')\n",
    "#ds1.sample(3)\n",
    "#ERROR"
   ]
  },
  {
   "cell_type": "code",
   "execution_count": null,
   "id": "a08d0d38",
   "metadata": {},
   "outputs": [],
   "source": [
    "x=iris.data\n",
    "y=iris.target"
   ]
  },
  {
   "cell_type": "code",
   "execution_count": null,
   "id": "ac2e3fb2",
   "metadata": {},
   "outputs": [],
   "source": [
    "y #there are 3 targets"
   ]
  },
  {
   "cell_type": "code",
   "execution_count": null,
   "id": "23d6b14e",
   "metadata": {},
   "outputs": [],
   "source": [
    "x_train, x_test, y_train, y_test=train_test_split(x,y,test_size=.22, random_state=43)"
   ]
  },
  {
   "cell_type": "markdown",
   "id": "4328aff1",
   "metadata": {},
   "source": [
    "### MultinomialNB"
   ]
  },
  {
   "cell_type": "code",
   "execution_count": 239,
   "id": "0a57b6f1",
   "metadata": {},
   "outputs": [],
   "source": [
    "mnb=MultinomialNB()\n",
    "mnb.fit(x_train,y_train)\n",
    "predmnb=mnb.predict(x_test)\n",
    "mnb_score=accuracy_score(y_test,predmnb)\n",
    "con_mat_mnb=confusion_matrix(y_test,predmnb)\n",
    "class_report_mnb=classification_report(y_test,predmnb)"
   ]
  },
  {
   "cell_type": "code",
   "execution_count": null,
   "id": "0e41aeaf",
   "metadata": {},
   "outputs": [],
   "source": [
    "mnb_score"
   ]
  },
  {
   "cell_type": "code",
   "execution_count": null,
   "id": "ae8b7752",
   "metadata": {},
   "outputs": [],
   "source": [
    "con_mat_mnb"
   ]
  },
  {
   "cell_type": "code",
   "execution_count": null,
   "id": "b8367cec",
   "metadata": {},
   "outputs": [],
   "source": [
    "class_report_mnb"
   ]
  },
  {
   "cell_type": "code",
   "execution_count": null,
   "id": "558d3c5c",
   "metadata": {},
   "outputs": [],
   "source": [
    "print(class_report)"
   ]
  },
  {
   "cell_type": "code",
   "execution_count": null,
   "id": "539ce9e1",
   "metadata": {},
   "outputs": [],
   "source": []
  },
  {
   "cell_type": "markdown",
   "id": "727d8a4f",
   "metadata": {},
   "source": [
    "## 2)  K Neighbors Classifier\n",
    "        from sklearn.neighbors import KNeighborsClassifier\n",
    "        neigh=KNeighborsClassifier(n_neighbors=3)"
   ]
  },
  {
   "cell_type": "markdown",
   "id": "57b13261",
   "metadata": {},
   "source": [
    "###### Mind this- it is neighbors not neighbours"
   ]
  },
  {
   "cell_type": "code",
   "execution_count": null,
   "id": "11791eb7",
   "metadata": {},
   "outputs": [],
   "source": [
    "from sklearn.neighbors import KNeighborsClassifier"
   ]
  },
  {
   "cell_type": "code",
   "execution_count": null,
   "id": "479ac4d1",
   "metadata": {},
   "outputs": [],
   "source": [
    "knn=KNeighborsClassifier(n_neighbors=5) #default n=5"
   ]
  },
  {
   "cell_type": "code",
   "execution_count": null,
   "id": "f549a46e",
   "metadata": {},
   "outputs": [],
   "source": [
    "knn.fit(x_train,y_train)\n",
    "knn_score=knn.score(x_train,y_train)\n",
    "predknn=knn.predict(x_test)\n",
    "knn_ac_score=accuracy_score(y_test,predknn)\n",
    "con_mat_knn=confusion_matrix(y_test,predknn)\n",
    "class_report_knn=classification_report(y_test,predknn)"
   ]
  },
  {
   "cell_type": "code",
   "execution_count": null,
   "id": "5c266ac9",
   "metadata": {},
   "outputs": [],
   "source": [
    "knn_score"
   ]
  },
  {
   "cell_type": "code",
   "execution_count": null,
   "id": "88c918d3",
   "metadata": {},
   "outputs": [],
   "source": [
    "knn_ac_score"
   ]
  },
  {
   "cell_type": "code",
   "execution_count": null,
   "id": "60e48c18",
   "metadata": {},
   "outputs": [],
   "source": [
    "print(con_mat_knn)"
   ]
  },
  {
   "cell_type": "code",
   "execution_count": null,
   "id": "60fefce0",
   "metadata": {},
   "outputs": [],
   "source": [
    "print(class_report_knn)"
   ]
  },
  {
   "cell_type": "code",
   "execution_count": null,
   "id": "ba90029a",
   "metadata": {},
   "outputs": [],
   "source": []
  },
  {
   "cell_type": "markdown",
   "id": "6e358f17",
   "metadata": {},
   "source": [
    "## 3. Support Vector Classifier\n",
    "    Provides the margin/gap betweeen two given classificattion of categorical data\n",
    "    from sklearn.svm import SVC"
   ]
  },
  {
   "cell_type": "markdown",
   "id": "e091afe1",
   "metadata": {},
   "source": [
    "### Support Vectors\n",
    "Support vectors are the data points,which are closest to the hyperplane.These points will define\n",
    "the separating line better by calculating margins.These points are more relevant to the construction\n",
    "of the classifier.\n",
    "\n",
    "### Hyperplane\n",
    "A hyperplane is a decision plane which separates betweenaset of objects having different class\n",
    "memberships.\n",
    "\n",
    "### Margin\n",
    "A margin is a gap between the two lines on the closest class points.This is calculated as the\n",
    "perpendicular distance from the line to support vectors or closest points.If the margin is larger in\n",
    "between the classes,then it is consideredagood margin,a smaller margin isabad margin."
   ]
  },
  {
   "cell_type": "code",
   "execution_count": null,
   "id": "6fdb9eb9",
   "metadata": {},
   "outputs": [],
   "source": [
    "from sklearn.svm import SVC"
   ]
  },
  {
   "cell_type": "code",
   "execution_count": null,
   "id": "a64754fe",
   "metadata": {},
   "outputs": [],
   "source": [
    "svc=SVC(kernel='rbf') #default value= rbf\n",
    "svc.fit(x_train,y_train)\n",
    "score_svc=svc.score(x_test, y_test)"
   ]
  },
  {
   "cell_type": "code",
   "execution_count": null,
   "id": "4a35317a",
   "metadata": {},
   "outputs": [],
   "source": [
    "predsvc=svc.predict(x_test)\n",
    "score_ac_svc=accuracy_score(y_test,predsvc)\n",
    "con_mat_svc=confusion_matrix(y_test,predsvc)\n",
    "class_report_svc=classification_report(y_test,predsvc)"
   ]
  },
  {
   "cell_type": "code",
   "execution_count": null,
   "id": "58cf9fee",
   "metadata": {},
   "outputs": [],
   "source": [
    "score_svc"
   ]
  },
  {
   "cell_type": "code",
   "execution_count": null,
   "id": "edfac909",
   "metadata": {},
   "outputs": [],
   "source": [
    "score_ac_svc "
   ]
  },
  {
   "cell_type": "markdown",
   "id": "86d3a000",
   "metadata": {},
   "source": [
    "score and accuracy score are not same"
   ]
  },
  {
   "cell_type": "code",
   "execution_count": null,
   "id": "ff2fc12d",
   "metadata": {},
   "outputs": [],
   "source": [
    "con_mat_svc"
   ]
  },
  {
   "cell_type": "code",
   "execution_count": null,
   "id": "7fa4eea7",
   "metadata": {},
   "outputs": [],
   "source": [
    "print(class_report_svc)"
   ]
  },
  {
   "cell_type": "code",
   "execution_count": null,
   "id": "af22b992",
   "metadata": {},
   "outputs": [],
   "source": [
    "svc=SVC(kernel='poly') \n",
    "svc.fit(x_train,y_train)\n",
    "score_svc=svc.score(x_test, y_test)\n",
    "predsvc=svc.predict(x_test)\n",
    "score_ac_svc=accuracy_score(y_test,predsvc)\n",
    "con_mat_svc=confusion_matrix(y_test,predsvc)\n",
    "class_report_svc=classification_report(y_test,predsvc)"
   ]
  },
  {
   "cell_type": "code",
   "execution_count": null,
   "id": "73fc49db",
   "metadata": {},
   "outputs": [],
   "source": [
    "print(score_ac_svc)\n",
    "print(con_mat_svc)\n",
    "print(class_report_svc)"
   ]
  },
  {
   "cell_type": "markdown",
   "id": "b547e6d1",
   "metadata": {},
   "source": [
    "Kernel Poly is working better than kernel rbf !"
   ]
  },
  {
   "cell_type": "code",
   "execution_count": null,
   "id": "ec4aacab",
   "metadata": {},
   "outputs": [],
   "source": [
    "def svmkernel(ker):\n",
    "    svc=SVC(kernel=ker) \n",
    "    svc.fit(x_train,y_train)\n",
    "    score_svc=svc.score(x_test, y_test)\n",
    "    predsvc=svc.predict(x_test)\n",
    "    score_ac_svc=accuracy_score(y_test,predsvc)\n",
    "    con_mat_svc=confusion_matrix(y_test,predsvc)\n",
    "    class_report_svc=classification_report(y_test,predsvc)"
   ]
  },
  {
   "cell_type": "code",
   "execution_count": null,
   "id": "de4d0e36",
   "metadata": {},
   "outputs": [],
   "source": [
    "score_svc"
   ]
  },
  {
   "cell_type": "code",
   "execution_count": null,
   "id": "98901c11",
   "metadata": {},
   "outputs": [],
   "source": [
    "svmkernel(\"rbf\")"
   ]
  },
  {
   "cell_type": "code",
   "execution_count": null,
   "id": "6863d6ba",
   "metadata": {},
   "outputs": [],
   "source": [
    "svmkernel(\"poly\")"
   ]
  },
  {
   "cell_type": "code",
   "execution_count": null,
   "id": "559ea613",
   "metadata": {},
   "outputs": [],
   "source": [
    "svmkernel(\"linear\")"
   ]
  },
  {
   "cell_type": "code",
   "execution_count": null,
   "id": "19b5bf21",
   "metadata": {},
   "outputs": [],
   "source": [
    "df1=pd.DataFrame(predsvc)\n",
    "df1"
   ]
  },
  {
   "cell_type": "code",
   "execution_count": null,
   "id": "7c25c95e",
   "metadata": {},
   "outputs": [],
   "source": [
    "df1.to_csv('svmkernel2.csv')"
   ]
  },
  {
   "cell_type": "code",
   "execution_count": null,
   "id": "a561b86a",
   "metadata": {},
   "outputs": [],
   "source": [
    "pd.read_csv('svmkernel2.csv')"
   ]
  },
  {
   "cell_type": "code",
   "execution_count": null,
   "id": "f764df19",
   "metadata": {},
   "outputs": [],
   "source": []
  },
  {
   "cell_type": "markdown",
   "id": "a6fe0ef2",
   "metadata": {},
   "source": [
    "# Entropy (E)                                               \n",
    "Randomness presrnt in the data.Only hetrogenous data are good for training models."
   ]
  },
  {
   "cell_type": "markdown",
   "id": "d2da098a",
   "metadata": {},
   "source": [
    "from sklearn.tree import DecisionTreeClassifier"
   ]
  },
  {
   "cell_type": "markdown",
   "id": "c4a15b7a",
   "metadata": {},
   "source": [
    "Entropy varies from 0 to 1: 1 is max, 0 is least(all values are simply same)             #24april"
   ]
  },
  {
   "cell_type": "markdown",
   "id": "d94c087b",
   "metadata": {},
   "source": [
    "Impurity is nothing but Randomness."
   ]
  },
  {
   "cell_type": "markdown",
   "id": "f2c5c30c",
   "metadata": {},
   "source": [
    "S=Sample of the training examples"
   ]
  },
  {
   "cell_type": "markdown",
   "id": "a74eb943",
   "metadata": {},
   "source": [
    "# Gini Index"
   ]
  },
  {
   "cell_type": "markdown",
   "id": "66060056",
   "metadata": {},
   "source": [
    "Calculated for attributes(columns).\n",
    "It is the default value in Decision Tree Classifier"
   ]
  },
  {
   "cell_type": "markdown",
   "id": "299ad3a3",
   "metadata": {},
   "source": [
    "## 4.Decision Tree Machine classifier"
   ]
  },
  {
   "cell_type": "markdown",
   "id": "b86b0f60",
   "metadata": {},
   "source": [
    "Always consider Entropy, highest entropy in the column, it will calculate the information gain.\n",
    "Informantion gain leads to creation of Decision Tree."
   ]
  },
  {
   "cell_type": "markdown",
   "id": "3caac66c",
   "metadata": {},
   "source": [
    "Gain(S,A)= Informtion Gain: expeted reduction in entropy due to sorting s on attribute A.\n",
    "The Infomation gain is based on the decrease in entropy agter a dataset is split on an attribute."
   ]
  },
  {
   "cell_type": "markdown",
   "id": "53c501af",
   "metadata": {},
   "source": [
    "we check entropy for target column, then for each column."
   ]
  },
  {
   "cell_type": "code",
   "execution_count": null,
   "id": "b9e85ca1",
   "metadata": {},
   "outputs": [],
   "source": [
    "#ID3 algorithim"
   ]
  },
  {
   "cell_type": "code",
   "execution_count": null,
   "id": "f002c59c",
   "metadata": {},
   "outputs": [],
   "source": [
    "from sklearn.tree import DecisionTreeClassifier"
   ]
  },
  {
   "cell_type": "code",
   "execution_count": null,
   "id": "ff29231e",
   "metadata": {},
   "outputs": [],
   "source": [
    "dtc=DecisionTreeClassifier() # default criteria was not entropy was GINNI\n",
    "dtc.fit(x_train, y_train)\n",
    "score_dtc=dtc.score(x_train, y_train)\n",
    "preddtc=dtc.predict(x_test)\n",
    "score_ac_dtc=accuracy_score(y_test,preddtc)\n",
    "con_mat_dtc=confusion_matrix(y_test, preddtc)\n",
    "class_report_dtc=classification_report(y_test, preddtc)"
   ]
  },
  {
   "cell_type": "code",
   "execution_count": null,
   "id": "e14448f5",
   "metadata": {},
   "outputs": [],
   "source": [
    "score_dtc"
   ]
  },
  {
   "cell_type": "code",
   "execution_count": null,
   "id": "c19bd654",
   "metadata": {},
   "outputs": [],
   "source": [
    "score_ac_dtc"
   ]
  },
  {
   "cell_type": "code",
   "execution_count": null,
   "id": "0ada9968",
   "metadata": {},
   "outputs": [],
   "source": [
    "preddtc"
   ]
  },
  {
   "cell_type": "code",
   "execution_count": null,
   "id": "ae1ee7b9",
   "metadata": {},
   "outputs": [],
   "source": [
    "con_mat_dtc"
   ]
  },
  {
   "cell_type": "code",
   "execution_count": null,
   "id": "a4a4b9d0",
   "metadata": {},
   "outputs": [],
   "source": [
    "print(class_report_dtc)"
   ]
  },
  {
   "cell_type": "raw",
   "id": "16e6f42b",
   "metadata": {},
   "source": [
    "dtc=DecisionTreeClassifier(criterion=\"ginni\") # default criteria was not entropy was GINNI\n",
    "dtc.fit(x_train, y_train)\n",
    "score_dtc=dtc.score(x_train, y_train)\n",
    "preddtc=dtc.predict(x_test)\n",
    "score_ac_dtc=accuracy_score(y_test,preddtc)\n",
    "con_mat_dtc=confusion_matrix(y_test, preddtc)\n",
    "class_report_dtc=classification_report(y_test, preddtc)"
   ]
  },
  {
   "cell_type": "markdown",
   "id": "6beebfd4",
   "metadata": {},
   "source": [
    "We need to check both the criteria off the decision tree classifier and must choose the best model that is of least error"
   ]
  },
  {
   "cell_type": "markdown",
   "id": "8ebe8287",
   "metadata": {},
   "source": [
    "We need to check all the 4 classifier of category supervision machine learning and look out for the best model that is,least error and most accurate one."
   ]
  },
  {
   "cell_type": "code",
   "execution_count": null,
   "id": "599cd571",
   "metadata": {
    "scrolled": true
   },
   "outputs": [],
   "source": [
    "print(\"-x-\"*35)"
   ]
  },
  {
   "cell_type": "code",
   "execution_count": null,
   "id": "0f486b53",
   "metadata": {},
   "outputs": [],
   "source": []
  },
  {
   "cell_type": "markdown",
   "id": "4b85e59e",
   "metadata": {},
   "source": [
    "## Saving the Best Model"
   ]
  },
  {
   "cell_type": "markdown",
   "id": "96a51837",
   "metadata": {},
   "source": [
    "We choose that model whoose accuracy is the best and save it so that we can use it further or another purpose or production model."
   ]
  },
  {
   "cell_type": "markdown",
   "id": "bfd89810",
   "metadata": {},
   "source": [
    "If we need out to drag any object from jupyter notebook, and keep it in binary file(streaming file), we can take it out.\n"
   ]
  },
  {
   "cell_type": "markdown",
   "id": "7eaefef1",
   "metadata": {},
   "source": [
    " 2 methods for saving the ML model:\n",
    "        1. JOBLIB\n",
    "        2. PICKLE\n",
    "        \n",
    "These models are saved with .obj extention"
   ]
  },
  {
   "cell_type": "code",
   "execution_count": null,
   "id": "510f0f30",
   "metadata": {},
   "outputs": [],
   "source": [
    "#mtd1 \n",
    "import joblib\n",
    "joblib.dump(dtc,\"dtcfile.obj\") #serilizartion\n"
   ]
  },
  {
   "cell_type": "code",
   "execution_count": null,
   "id": "565d8bcf",
   "metadata": {},
   "outputs": [],
   "source": [
    "dtc_from_joblib=joblib.load(\"dtcfile.obj\")  #deserilization\n",
    "dtc_from_joblib.predict(x_test)"
   ]
  },
  {
   "cell_type": "code",
   "execution_count": null,
   "id": "b33d3274",
   "metadata": {},
   "outputs": [],
   "source": [
    "#2nd method\n",
    "import pickle\n",
    "filename=\"pickledtcfile.pkl\"\n",
    "pickle.dump(dtc,open(filename,\"wb\"))  #serilization"
   ]
  },
  {
   "cell_type": "code",
   "execution_count": null,
   "id": "ec0af30e",
   "metadata": {},
   "outputs": [],
   "source": [
    "load_model=pickle.load(open(filename,\"rb\"))  #deserilization\n",
    "load_model.predict(x_test)"
   ]
  },
  {
   "cell_type": "code",
   "execution_count": null,
   "id": "353024cf",
   "metadata": {},
   "outputs": [],
   "source": [
    "#p=np.array([2,3,4,5,4,4])\n",
    "#p.reshape(-1,1)\n",
    "#dtc.predict(p)\n",
    "#load_model.predict(p)"
   ]
  },
  {
   "cell_type": "markdown",
   "id": "fe4d645b",
   "metadata": {},
   "source": [
    "Concept of one column many row and many column one row"
   ]
  },
  {
   "cell_type": "markdown",
   "id": "cac16712",
   "metadata": {},
   "source": [
    "(1,-1): one row many column"
   ]
  },
  {
   "cell_type": "markdown",
   "id": "30d64d2b",
   "metadata": {},
   "source": [
    "# Encoding\n",
    "To scale different columns data to same scale"
   ]
  },
  {
   "cell_type": "markdown",
   "id": "0f24b2d2",
   "metadata": {},
   "source": [
    "Standard Scaler Encoding: Mean becomes 0 and Std.Dev becomes +/-1\n",
    "\n",
    "\n",
    "Min Max Scaler Encoding : When Range is HUGE.Entire data would be b/w 0 to 1"
   ]
  },
  {
   "cell_type": "markdown",
   "id": "ee10b9df",
   "metadata": {},
   "source": []
  },
  {
   "cell_type": "code",
   "execution_count": null,
   "id": "e4330e5b",
   "metadata": {},
   "outputs": [],
   "source": [
    "from sklearn.preprocessing import StandardScaler"
   ]
  },
  {
   "cell_type": "code",
   "execution_count": null,
   "id": "bfef2571",
   "metadata": {},
   "outputs": [],
   "source": [
    "y=y.reshape(-1,1)"
   ]
  },
  {
   "cell_type": "code",
   "execution_count": null,
   "id": "3dcfecb1",
   "metadata": {
    "scrolled": false
   },
   "outputs": [],
   "source": [
    "sts=StandardScaler()\n",
    "z=sts.fit_transform(y)\n",
    "z"
   ]
  },
  {
   "cell_type": "code",
   "execution_count": null,
   "id": "f282e44a",
   "metadata": {},
   "outputs": [],
   "source": [
    "from sklearn.preprocessing import MinMaxScaler\n",
    "stm=MinMaxScaler()\n",
    "x=stm.fit_transform(x)\n",
    "x"
   ]
  },
  {
   "cell_type": "markdown",
   "id": "37c327f7",
   "metadata": {},
   "source": [
    "trian_x\n",
    "score\n",
    "fit\n",
    "pred\n",
    "accuacy score\n",
    "confuion matrix\n",
    "classification report\n",
    "#usual procedure\n"
   ]
  },
  {
   "cell_type": "code",
   "execution_count": null,
   "id": "1c31d74b",
   "metadata": {},
   "outputs": [],
   "source": []
  }
 ],
 "metadata": {
  "kernelspec": {
   "display_name": "Python 3 (ipykernel)",
   "language": "python",
   "name": "python3"
  },
  "language_info": {
   "codemirror_mode": {
    "name": "ipython",
    "version": 3
   },
   "file_extension": ".py",
   "mimetype": "text/x-python",
   "name": "python",
   "nbconvert_exporter": "python",
   "pygments_lexer": "ipython3",
   "version": "3.9.7"
  }
 },
 "nbformat": 4,
 "nbformat_minor": 5
}

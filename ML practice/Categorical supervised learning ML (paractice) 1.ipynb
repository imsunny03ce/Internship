{
 "cells": [
  {
   "cell_type": "markdown",
   "id": "01a91025",
   "metadata": {},
   "source": [
    "##### Aim: 1)If categorical data is given, how to categorise and analyse them\n",
    "     2)Saving the best ML model.\n",
    "     3)Encoding - scaling data"
   ]
  },
  {
   "cell_type": "code",
   "execution_count": null,
   "id": "f3fbdfa0",
   "metadata": {},
   "outputs": [],
   "source": [
    "# label/target is categorical data here!"
   ]
  },
  {
   "cell_type": "markdown",
   "id": "12624a45",
   "metadata": {},
   "source": [
    "###### Classification analaysis:                            #23april\n",
    "     1.Navier Bayes Classifier\n",
    "     2.K Nearest Neighbour Classifier\n",
    "     3.Support Vector Classifier\n",
    "     4.Decision Tree Machine classifier"
   ]
  },
  {
   "cell_type": "markdown",
   "id": "dec0d692",
   "metadata": {},
   "source": [
    "##### 6 steps of machine learning:\n",
    "\n",
    "knn.fit(x_train,y_train)-----\n",
    "throwing data for training,Quadrant first and second\n",
    "\n",
    "knn_score=knn.score(x_train,y_train)-----\n",
    "Checking the score of training\n",
    "\n",
    "predknn=knn.predict(x_test)-----\n",
    "throwing data to predict to already known answers/labels, quadrant 3 and 4.\n",
    "\n",
    "knn_ac_score=accuracy_score(y_test,predknn)-----\n",
    "checking the accuracy of prediction made, quadrant 4 and new predicted quadrant\n",
    "\n",
    "\n",
    "con_mat_knn=confusion_matrix(y_test,predknn)-----\n",
    "Checking error and accuracy Off prediction made, quadrant 4 and a new predicted quadrant\n",
    "\n",
    "\n",
    "class_report_knn=classification_report(y_test,predknn)-----\n",
    "preparing the report between the predicted values and what should be the actual predicted values that is quadrant 4"
   ]
  },
  {
   "cell_type": "markdown",
   "id": "4e117ed4",
   "metadata": {},
   "source": [
    "# 1. Navier Bayes Classifier\n",
    "    a) Multinomial Naiver Bayes- targets are more than 2 in numbers\n",
    "    b) Gaussian Naivier - targets are just 2 in numbers"
   ]
  },
  {
   "cell_type": "code",
   "execution_count": null,
   "id": "353b293e",
   "metadata": {},
   "outputs": [],
   "source": [
    "import pandas as pd\n",
    "import numpy as np\n",
    "import matplotlib.pyplot as plt\n",
    "import sklearn\n",
    "import seaborn as sns\n",
    "import warnings \n",
    "warnings.filterwarnings(\"ignore\")"
   ]
  },
  {
   "cell_type": "code",
   "execution_count": null,
   "id": "b9ba1460",
   "metadata": {},
   "outputs": [],
   "source": [
    "from sklearn.datasets import load_iris"
   ]
  },
  {
   "cell_type": "code",
   "execution_count": null,
   "id": "6514e106",
   "metadata": {},
   "outputs": [],
   "source": [
    "from sklearn.model_selection import train_test_split\n",
    "from sklearn.metrics import accuracy_score, confusion_matrix, classification_report"
   ]
  },
  {
   "cell_type": "code",
   "execution_count": null,
   "id": "d16b1d66",
   "metadata": {},
   "outputs": [],
   "source": [
    "from sklearn.naive_bayes import MultinomialNB"
   ]
  },
  {
   "cell_type": "code",
   "execution_count": null,
   "id": "f7f9865d",
   "metadata": {},
   "outputs": [],
   "source": [
    "iris=load_iris()\n",
    "iris"
   ]
  },
  {
   "cell_type": "markdown",
   "id": "2583b67e",
   "metadata": {},
   "source": [
    "###### iris.keys\n",
    "keys-(data, feature_names, DESCR, target,frame, filename)"
   ]
  },
  {
   "cell_type": "code",
   "execution_count": null,
   "id": "658f5007",
   "metadata": {},
   "outputs": [],
   "source": [
    "ds=pd.DataFrame(iris.data)\n",
    "ds.sample(3)"
   ]
  },
  {
   "cell_type": "code",
   "execution_count": null,
   "id": "1a44e4b1",
   "metadata": {},
   "outputs": [],
   "source": [
    "#ds1=pd.DataFrame(data='iris.data', columns ='iris.feature_names')\n",
    "#ds1.sample(3)\n",
    "#ERROR"
   ]
  },
  {
   "cell_type": "code",
   "execution_count": null,
   "id": "f44ecb79",
   "metadata": {},
   "outputs": [],
   "source": [
    "x=iris.data\n",
    "y=iris.target"
   ]
  },
  {
   "cell_type": "code",
   "execution_count": null,
   "id": "192c7fdc",
   "metadata": {},
   "outputs": [],
   "source": [
    "y #there are 3 targets"
   ]
  },
  {
   "cell_type": "code",
   "execution_count": null,
   "id": "f04b6a5b",
   "metadata": {},
   "outputs": [],
   "source": [
    "x_train, x_test, y_train, y_test=train_test_split(x,y,test_size=.22, random_state=43)"
   ]
  },
  {
   "cell_type": "markdown",
   "id": "fdfb385a",
   "metadata": {},
   "source": [
    "### MultinomialNB"
   ]
  },
  {
   "cell_type": "code",
   "execution_count": 239,
   "id": "949278fb",
   "metadata": {},
   "outputs": [],
   "source": [
    "mnb=MultinomialNB()\n",
    "mnb.fit(x_train,y_train)\n",
    "predmnb=mnb.predict(x_test)\n",
    "mnb_score=accuracy_score(y_test,predmnb)\n",
    "con_mat_mnb=confusion_matrix(y_test,predmnb)\n",
    "class_report_mnb=classification_report(y_test,predmnb)"
   ]
  },
  {
   "cell_type": "code",
   "execution_count": null,
   "id": "96c356ed",
   "metadata": {},
   "outputs": [],
   "source": [
    "mnb_score"
   ]
  },
  {
   "cell_type": "code",
   "execution_count": null,
   "id": "f963b0b3",
   "metadata": {},
   "outputs": [],
   "source": [
    "con_mat_mnb"
   ]
  },
  {
   "cell_type": "code",
   "execution_count": null,
   "id": "e1cb00cb",
   "metadata": {},
   "outputs": [],
   "source": [
    "class_report_mnb"
   ]
  },
  {
   "cell_type": "code",
   "execution_count": null,
   "id": "04ee78a5",
   "metadata": {},
   "outputs": [],
   "source": [
    "print(class_report)"
   ]
  },
  {
   "cell_type": "code",
   "execution_count": null,
   "id": "ba94c649",
   "metadata": {},
   "outputs": [],
   "source": []
  },
  {
   "cell_type": "markdown",
   "id": "559a4912",
   "metadata": {},
   "source": [
    "## 2)  K Neighbors Classifier\n",
    "        from sklearn.neighbors import KNeighborsClassifier\n",
    "        neigh=KNeighborsClassifier(n_neighbors=3)"
   ]
  },
  {
   "cell_type": "markdown",
   "id": "c0513610",
   "metadata": {},
   "source": [
    "###### Mind this- it is neighbors not neighbours"
   ]
  },
  {
   "cell_type": "code",
   "execution_count": null,
   "id": "b378b89b",
   "metadata": {},
   "outputs": [],
   "source": [
    "from sklearn.neighbors import KNeighborsClassifier"
   ]
  },
  {
   "cell_type": "code",
   "execution_count": null,
   "id": "811450e1",
   "metadata": {},
   "outputs": [],
   "source": [
    "knn=KNeighborsClassifier(n_neighbors=5) #default n=5"
   ]
  },
  {
   "cell_type": "code",
   "execution_count": null,
   "id": "a26e205d",
   "metadata": {},
   "outputs": [],
   "source": [
    "knn.fit(x_train,y_train)\n",
    "knn_score=knn.score(x_train,y_train)\n",
    "predknn=knn.predict(x_test)\n",
    "knn_ac_score=accuracy_score(y_test,predknn)\n",
    "con_mat_knn=confusion_matrix(y_test,predknn)\n",
    "class_report_knn=classification_report(y_test,predknn)"
   ]
  },
  {
   "cell_type": "code",
   "execution_count": null,
   "id": "faceff67",
   "metadata": {},
   "outputs": [],
   "source": [
    "knn_score"
   ]
  },
  {
   "cell_type": "code",
   "execution_count": null,
   "id": "5e43fe51",
   "metadata": {},
   "outputs": [],
   "source": [
    "knn_ac_score"
   ]
  },
  {
   "cell_type": "code",
   "execution_count": null,
   "id": "1b900b54",
   "metadata": {},
   "outputs": [],
   "source": [
    "print(con_mat_knn)"
   ]
  },
  {
   "cell_type": "code",
   "execution_count": null,
   "id": "d1c4f745",
   "metadata": {},
   "outputs": [],
   "source": [
    "print(class_report_knn)"
   ]
  },
  {
   "cell_type": "code",
   "execution_count": null,
   "id": "45a0552a",
   "metadata": {},
   "outputs": [],
   "source": []
  },
  {
   "cell_type": "markdown",
   "id": "8efa7cd2",
   "metadata": {},
   "source": [
    "## 3. Support Vector Classifier\n",
    "    Provides the margin/gap betweeen two given classificattion of categorical data\n",
    "    from sklearn.svm import SVC"
   ]
  },
  {
   "cell_type": "markdown",
   "id": "0d769b29",
   "metadata": {},
   "source": [
    "### Support Vectors\n",
    "Support vectors are the data points,which are closest to the hyperplane.These points will define\n",
    "the separating line better by calculating margins.These points are more relevant to the construction\n",
    "of the classifier.\n",
    "\n",
    "### Hyperplane\n",
    "A hyperplane is a decision plane which separates betweenaset of objects having different class\n",
    "memberships.\n",
    "\n",
    "### Margin\n",
    "A margin is a gap between the two lines on the closest class points.This is calculated as the\n",
    "perpendicular distance from the line to support vectors or closest points.If the margin is larger in\n",
    "between the classes,then it is consideredagood margin,a smaller margin isabad margin."
   ]
  },
  {
   "cell_type": "code",
   "execution_count": null,
   "id": "83243eae",
   "metadata": {},
   "outputs": [],
   "source": [
    "from sklearn.svm import SVC"
   ]
  },
  {
   "cell_type": "code",
   "execution_count": null,
   "id": "1cd32577",
   "metadata": {},
   "outputs": [],
   "source": [
    "svc=SVC(kernel='rbf') #default value= rbf\n",
    "svc.fit(x_train,y_train)\n",
    "score_svc=svc.score(x_test, y_test)"
   ]
  },
  {
   "cell_type": "code",
   "execution_count": null,
   "id": "9159b366",
   "metadata": {},
   "outputs": [],
   "source": [
    "predsvc=svc.predict(x_test)\n",
    "score_ac_svc=accuracy_score(y_test,predsvc)\n",
    "con_mat_svc=confusion_matrix(y_test,predsvc)\n",
    "class_report_svc=classification_report(y_test,predsvc)"
   ]
  },
  {
   "cell_type": "code",
   "execution_count": null,
   "id": "255b2428",
   "metadata": {},
   "outputs": [],
   "source": [
    "score_svc"
   ]
  },
  {
   "cell_type": "code",
   "execution_count": null,
   "id": "2553eef1",
   "metadata": {},
   "outputs": [],
   "source": [
    "score_ac_svc "
   ]
  },
  {
   "cell_type": "markdown",
   "id": "65d78d82",
   "metadata": {},
   "source": [
    "score and accuracy score are not same"
   ]
  },
  {
   "cell_type": "code",
   "execution_count": null,
   "id": "d9c801da",
   "metadata": {},
   "outputs": [],
   "source": [
    "con_mat_svc"
   ]
  },
  {
   "cell_type": "code",
   "execution_count": null,
   "id": "57cda4d1",
   "metadata": {},
   "outputs": [],
   "source": [
    "print(class_report_svc)"
   ]
  },
  {
   "cell_type": "code",
   "execution_count": null,
   "id": "ea4253e9",
   "metadata": {},
   "outputs": [],
   "source": [
    "svc=SVC(kernel='poly') \n",
    "svc.fit(x_train,y_train)\n",
    "score_svc=svc.score(x_test, y_test)\n",
    "predsvc=svc.predict(x_test)\n",
    "score_ac_svc=accuracy_score(y_test,predsvc)\n",
    "con_mat_svc=confusion_matrix(y_test,predsvc)\n",
    "class_report_svc=classification_report(y_test,predsvc)"
   ]
  },
  {
   "cell_type": "code",
   "execution_count": null,
   "id": "8872d391",
   "metadata": {},
   "outputs": [],
   "source": [
    "print(score_ac_svc)\n",
    "print(con_mat_svc)\n",
    "print(class_report_svc)"
   ]
  },
  {
   "cell_type": "markdown",
   "id": "59b4bd88",
   "metadata": {},
   "source": [
    "Kernel Poly is working better than kernel rbf !"
   ]
  },
  {
   "cell_type": "code",
   "execution_count": null,
   "id": "52e2bcd1",
   "metadata": {},
   "outputs": [],
   "source": [
    "def svmkernel(ker):\n",
    "    svc=SVC(kernel=ker) \n",
    "    svc.fit(x_train,y_train)\n",
    "    score_svc=svc.score(x_test, y_test)\n",
    "    predsvc=svc.predict(x_test)\n",
    "    score_ac_svc=accuracy_score(y_test,predsvc)\n",
    "    con_mat_svc=confusion_matrix(y_test,predsvc)\n",
    "    class_report_svc=classification_report(y_test,predsvc)"
   ]
  },
  {
   "cell_type": "code",
   "execution_count": null,
   "id": "afbdbf6e",
   "metadata": {},
   "outputs": [],
   "source": [
    "score_svc"
   ]
  },
  {
   "cell_type": "code",
   "execution_count": null,
   "id": "dc698ae8",
   "metadata": {},
   "outputs": [],
   "source": [
    "svmkernel(\"rbf\")"
   ]
  },
  {
   "cell_type": "code",
   "execution_count": null,
   "id": "c88df773",
   "metadata": {},
   "outputs": [],
   "source": [
    "svmkernel(\"poly\")"
   ]
  },
  {
   "cell_type": "code",
   "execution_count": null,
   "id": "7a933456",
   "metadata": {},
   "outputs": [],
   "source": [
    "svmkernel(\"linear\")"
   ]
  },
  {
   "cell_type": "code",
   "execution_count": null,
   "id": "a11492c5",
   "metadata": {},
   "outputs": [],
   "source": [
    "df1=pd.DataFrame(predsvc)\n",
    "df1"
   ]
  },
  {
   "cell_type": "code",
   "execution_count": null,
   "id": "7c1439e6",
   "metadata": {},
   "outputs": [],
   "source": [
    "df1.to_csv('svmkernel2.csv')"
   ]
  },
  {
   "cell_type": "code",
   "execution_count": null,
   "id": "b714a792",
   "metadata": {},
   "outputs": [],
   "source": [
    "pd.read_csv('svmkernel2.csv')"
   ]
  },
  {
   "cell_type": "code",
   "execution_count": null,
   "id": "8c0deb6b",
   "metadata": {},
   "outputs": [],
   "source": []
  },
  {
   "cell_type": "markdown",
   "id": "d265420d",
   "metadata": {},
   "source": [
    "# Entropy (E)                                               \n",
    "Randomness presrnt in the data.Only hetrogenous data are good for training models."
   ]
  },
  {
   "cell_type": "markdown",
   "id": "9fe34c2d",
   "metadata": {},
   "source": [
    "from sklearn.tree import DecisionTreeClassifier"
   ]
  },
  {
   "cell_type": "markdown",
   "id": "c194e156",
   "metadata": {},
   "source": [
    "Entropy varies from 0 to 1: 1 is max, 0 is least(all values are simply same)             #24april"
   ]
  },
  {
   "cell_type": "markdown",
   "id": "8f514f30",
   "metadata": {},
   "source": [
    "Impurity is nothing but Randomness."
   ]
  },
  {
   "cell_type": "markdown",
   "id": "7d2c5f85",
   "metadata": {},
   "source": [
    "S=Sample of the training examples"
   ]
  },
  {
   "cell_type": "markdown",
   "id": "6538ec6a",
   "metadata": {},
   "source": [
    "# Gini Index"
   ]
  },
  {
   "cell_type": "markdown",
   "id": "cf240537",
   "metadata": {},
   "source": [
    "Calculated for attributes(columns).\n",
    "It is the default value in Decision Tree Classifier"
   ]
  },
  {
   "cell_type": "markdown",
   "id": "8c95afa5",
   "metadata": {},
   "source": [
    "## 4.Decision Tree Machine classifier"
   ]
  },
  {
   "cell_type": "markdown",
   "id": "6d228030",
   "metadata": {},
   "source": [
    "Always consider Entropy, highest entropy in the column, it will calculate the information gain.\n",
    "Informantion gain leads to creation of Decision Tree."
   ]
  },
  {
   "cell_type": "markdown",
   "id": "5c762b4b",
   "metadata": {},
   "source": [
    "Gain(S,A)= Informtion Gain: expeted reduction in entropy due to sorting s on attribute A.\n",
    "The Infomation gain is based on the decrease in entropy agter a dataset is split on an attribute."
   ]
  },
  {
   "cell_type": "markdown",
   "id": "639aceb4",
   "metadata": {},
   "source": [
    "we check entropy for target column, then for each column."
   ]
  },
  {
   "cell_type": "code",
   "execution_count": null,
   "id": "46d7fdf2",
   "metadata": {},
   "outputs": [],
   "source": [
    "#ID3 algorithim"
   ]
  },
  {
   "cell_type": "code",
   "execution_count": null,
   "id": "b62e6674",
   "metadata": {},
   "outputs": [],
   "source": [
    "from sklearn.tree import DecisionTreeClassifier"
   ]
  },
  {
   "cell_type": "code",
   "execution_count": null,
   "id": "e12d00e1",
   "metadata": {},
   "outputs": [],
   "source": [
    "dtc=DecisionTreeClassifier() # default criteria was not entropy was GINNI\n",
    "dtc.fit(x_train, y_train)\n",
    "score_dtc=dtc.score(x_train, y_train)\n",
    "preddtc=dtc.predict(x_test)\n",
    "score_ac_dtc=accuracy_score(y_test,preddtc)\n",
    "con_mat_dtc=confusion_matrix(y_test, preddtc)\n",
    "class_report_dtc=classification_report(y_test, preddtc)"
   ]
  },
  {
   "cell_type": "code",
   "execution_count": null,
   "id": "3b33777e",
   "metadata": {},
   "outputs": [],
   "source": [
    "score_dtc"
   ]
  },
  {
   "cell_type": "code",
   "execution_count": null,
   "id": "cff179fe",
   "metadata": {},
   "outputs": [],
   "source": [
    "score_ac_dtc"
   ]
  },
  {
   "cell_type": "code",
   "execution_count": null,
   "id": "ee6d5c62",
   "metadata": {},
   "outputs": [],
   "source": [
    "preddtc"
   ]
  },
  {
   "cell_type": "code",
   "execution_count": null,
   "id": "38f142b9",
   "metadata": {},
   "outputs": [],
   "source": [
    "con_mat_dtc"
   ]
  },
  {
   "cell_type": "code",
   "execution_count": null,
   "id": "cf54ab0c",
   "metadata": {},
   "outputs": [],
   "source": [
    "print(class_report_dtc)"
   ]
  },
  {
   "cell_type": "raw",
   "id": "ab6672c7",
   "metadata": {},
   "source": [
    "dtc=DecisionTreeClassifier(criterion=\"ginni\") # default criteria was not entropy was GINNI\n",
    "dtc.fit(x_train, y_train)\n",
    "score_dtc=dtc.score(x_train, y_train)\n",
    "preddtc=dtc.predict(x_test)\n",
    "score_ac_dtc=accuracy_score(y_test,preddtc)\n",
    "con_mat_dtc=confusion_matrix(y_test, preddtc)\n",
    "class_report_dtc=classification_report(y_test, preddtc)"
   ]
  },
  {
   "cell_type": "markdown",
   "id": "92b80f0c",
   "metadata": {},
   "source": [
    "We need to check both the criteria off the decision tree classifier and must choose the best model that is of least error"
   ]
  },
  {
   "cell_type": "markdown",
   "id": "0c690b56",
   "metadata": {},
   "source": [
    "We need to check all the 4 classifier of category supervision machine learning and look out for the best model that is,least error and most accurate one."
   ]
  },
  {
   "cell_type": "code",
   "execution_count": null,
   "id": "5ce5ad21",
   "metadata": {
    "scrolled": true
   },
   "outputs": [],
   "source": [
    "print(\"-x-\"*35)"
   ]
  },
  {
   "cell_type": "code",
   "execution_count": null,
   "id": "9b8b6259",
   "metadata": {},
   "outputs": [],
   "source": []
  },
  {
   "cell_type": "markdown",
   "id": "951cd103",
   "metadata": {},
   "source": [
    "## Saving the Best Model"
   ]
  },
  {
   "cell_type": "markdown",
   "id": "e05210ec",
   "metadata": {},
   "source": [
    "We choose that model whoose accuracy is the best and save it so that we can use it further or another purpose or production model."
   ]
  },
  {
   "cell_type": "markdown",
   "id": "928580f8",
   "metadata": {},
   "source": [
    "If we need out to drag any object from jupyter notebook, and keep it in binary file(streaming file), we can take it out.\n"
   ]
  },
  {
   "cell_type": "markdown",
   "id": "cd8f9525",
   "metadata": {},
   "source": [
    " 2 methods for saving the ML model:\n",
    "        1. JOBLIB\n",
    "        2. PICKLE\n",
    "        \n",
    "These models are saved with .obj extention"
   ]
  },
  {
   "cell_type": "code",
   "execution_count": null,
   "id": "1e79ad71",
   "metadata": {},
   "outputs": [],
   "source": [
    "#mtd1 \n",
    "import joblib\n",
    "joblib.dump(dtc,\"dtcfile.obj\") #serilizartion\n"
   ]
  },
  {
   "cell_type": "code",
   "execution_count": null,
   "id": "42211011",
   "metadata": {},
   "outputs": [],
   "source": [
    "dtc_from_joblib=joblib.load(\"dtcfile.obj\")  #deserilization\n",
    "dtc_from_joblib.predict(x_test)"
   ]
  },
  {
   "cell_type": "code",
   "execution_count": null,
   "id": "815b7d57",
   "metadata": {},
   "outputs": [],
   "source": [
    "#2nd method\n",
    "import pickle\n",
    "filename=\"pickledtcfile.pkl\"\n",
    "pickle.dump(dtc,open(filename,\"wb\"))  #serilization"
   ]
  },
  {
   "cell_type": "code",
   "execution_count": null,
   "id": "4df1a58d",
   "metadata": {},
   "outputs": [],
   "source": [
    "load_model=pickle.load(open(filename,\"rb\"))  #deserilization\n",
    "load_model.predict(x_test)"
   ]
  },
  {
   "cell_type": "code",
   "execution_count": null,
   "id": "58f56d71",
   "metadata": {},
   "outputs": [],
   "source": [
    "#p=np.array([2,3,4,5,4,4])\n",
    "#p.reshape(-1,1)\n",
    "#dtc.predict(p)\n",
    "#load_model.predict(p)"
   ]
  },
  {
   "cell_type": "markdown",
   "id": "a52f9a49",
   "metadata": {},
   "source": [
    "Concept of one column many row and many column one row"
   ]
  },
  {
   "cell_type": "markdown",
   "id": "b044e65e",
   "metadata": {},
   "source": [
    "(1,-1): one row many column"
   ]
  },
  {
   "cell_type": "markdown",
   "id": "fedcc17c",
   "metadata": {},
   "source": [
    "# Encoding\n",
    "To scale different columns data to same scale"
   ]
  },
  {
   "cell_type": "markdown",
   "id": "b4164d31",
   "metadata": {},
   "source": [
    "Standard Scaler Encoding: Mean becomes 0 and Std.Dev becomes +/-1\n",
    "\n",
    "\n",
    "Min Max Scaler Encoding : When Range is HUGE.Entire data would be b/w 0 to 1"
   ]
  },
  {
   "cell_type": "markdown",
   "id": "08920c3a",
   "metadata": {},
   "source": []
  },
  {
   "cell_type": "code",
   "execution_count": null,
   "id": "a57ffb17",
   "metadata": {},
   "outputs": [],
   "source": [
    "from sklearn.preprocessing import StandardScaler"
   ]
  },
  {
   "cell_type": "code",
   "execution_count": null,
   "id": "acd8144a",
   "metadata": {},
   "outputs": [],
   "source": [
    "y=y.reshape(-1,1)"
   ]
  },
  {
   "cell_type": "code",
   "execution_count": null,
   "id": "9359c9e2",
   "metadata": {
    "scrolled": false
   },
   "outputs": [],
   "source": [
    "sts=StandardScaler()\n",
    "z=sts.fit_transform(y)\n",
    "z"
   ]
  },
  {
   "cell_type": "code",
   "execution_count": null,
   "id": "d0b6eab1",
   "metadata": {},
   "outputs": [],
   "source": [
    "from sklearn.preprocessing import MinMaxScaler\n",
    "stm=MinMaxScaler()\n",
    "x=stm.fit_transform(x)\n",
    "x"
   ]
  },
  {
   "cell_type": "markdown",
   "id": "6738eaf3",
   "metadata": {},
   "source": [
    "trian_x\n",
    "score\n",
    "fit\n",
    "pred\n",
    "accuacy score\n",
    "confuion matrix\n",
    "classification report\n",
    "#usual procedure\n"
   ]
  },
  {
   "cell_type": "code",
   "execution_count": null,
   "id": "6693167c",
   "metadata": {},
   "outputs": [],
   "source": []
  }
 ],
 "metadata": {
  "kernelspec": {
   "display_name": "Python 3 (ipykernel)",
   "language": "python",
   "name": "python3"
  },
  "language_info": {
   "codemirror_mode": {
    "name": "ipython",
    "version": 3
   },
   "file_extension": ".py",
   "mimetype": "text/x-python",
   "name": "python",
   "nbconvert_exporter": "python",
   "pygments_lexer": "ipython3",
   "version": "3.9.7"
  }
 },
 "nbformat": 4,
 "nbformat_minor": 5
}

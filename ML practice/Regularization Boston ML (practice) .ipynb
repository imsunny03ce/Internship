{
 "cells": [
  {
   "cell_type": "code",
   "execution_count": 126,
   "id": "d76ee049",
   "metadata": {},
   "outputs": [],
   "source": [
    "import numpy as np\n",
    "import pandas as pd\n",
    "import matplotlib.pyplot as plt\n",
    "import sklearn\n",
    "from sklearn.linear_model import LinearRegression\n",
    "from sklearn.model_selection import train_test_split\n",
    "from sklearn.metrics import mean_squared_error"
   ]
  },
  {
   "cell_type": "code",
   "execution_count": 127,
   "id": "19450398",
   "metadata": {},
   "outputs": [],
   "source": [
    "from sklearn.datasets import load_boston"
   ]
  },
  {
   "cell_type": "code",
   "execution_count": 128,
   "id": "7da83d8e",
   "metadata": {},
   "outputs": [
    {
     "data": {
      "text/plain": [
       "<function sklearn.datasets._base.load_boston(*, return_X_y=False)>"
      ]
     },
     "execution_count": 128,
     "metadata": {},
     "output_type": "execute_result"
    }
   ],
   "source": [
    "boston=load_boston\n",
    "boston"
   ]
  },
  {
   "cell_type": "code",
   "execution_count": 129,
   "id": "e538fa6b",
   "metadata": {},
   "outputs": [
    {
     "data": {
      "text/plain": [
       "{'data': array([[6.3200e-03, 1.8000e+01, 2.3100e+00, ..., 1.5300e+01, 3.9690e+02,\n",
       "         4.9800e+00],\n",
       "        [2.7310e-02, 0.0000e+00, 7.0700e+00, ..., 1.7800e+01, 3.9690e+02,\n",
       "         9.1400e+00],\n",
       "        [2.7290e-02, 0.0000e+00, 7.0700e+00, ..., 1.7800e+01, 3.9283e+02,\n",
       "         4.0300e+00],\n",
       "        ...,\n",
       "        [6.0760e-02, 0.0000e+00, 1.1930e+01, ..., 2.1000e+01, 3.9690e+02,\n",
       "         5.6400e+00],\n",
       "        [1.0959e-01, 0.0000e+00, 1.1930e+01, ..., 2.1000e+01, 3.9345e+02,\n",
       "         6.4800e+00],\n",
       "        [4.7410e-02, 0.0000e+00, 1.1930e+01, ..., 2.1000e+01, 3.9690e+02,\n",
       "         7.8800e+00]]),\n",
       " 'target': array([24. , 21.6, 34.7, 33.4, 36.2, 28.7, 22.9, 27.1, 16.5, 18.9, 15. ,\n",
       "        18.9, 21.7, 20.4, 18.2, 19.9, 23.1, 17.5, 20.2, 18.2, 13.6, 19.6,\n",
       "        15.2, 14.5, 15.6, 13.9, 16.6, 14.8, 18.4, 21. , 12.7, 14.5, 13.2,\n",
       "        13.1, 13.5, 18.9, 20. , 21. , 24.7, 30.8, 34.9, 26.6, 25.3, 24.7,\n",
       "        21.2, 19.3, 20. , 16.6, 14.4, 19.4, 19.7, 20.5, 25. , 23.4, 18.9,\n",
       "        35.4, 24.7, 31.6, 23.3, 19.6, 18.7, 16. , 22.2, 25. , 33. , 23.5,\n",
       "        19.4, 22. , 17.4, 20.9, 24.2, 21.7, 22.8, 23.4, 24.1, 21.4, 20. ,\n",
       "        20.8, 21.2, 20.3, 28. , 23.9, 24.8, 22.9, 23.9, 26.6, 22.5, 22.2,\n",
       "        23.6, 28.7, 22.6, 22. , 22.9, 25. , 20.6, 28.4, 21.4, 38.7, 43.8,\n",
       "        33.2, 27.5, 26.5, 18.6, 19.3, 20.1, 19.5, 19.5, 20.4, 19.8, 19.4,\n",
       "        21.7, 22.8, 18.8, 18.7, 18.5, 18.3, 21.2, 19.2, 20.4, 19.3, 22. ,\n",
       "        20.3, 20.5, 17.3, 18.8, 21.4, 15.7, 16.2, 18. , 14.3, 19.2, 19.6,\n",
       "        23. , 18.4, 15.6, 18.1, 17.4, 17.1, 13.3, 17.8, 14. , 14.4, 13.4,\n",
       "        15.6, 11.8, 13.8, 15.6, 14.6, 17.8, 15.4, 21.5, 19.6, 15.3, 19.4,\n",
       "        17. , 15.6, 13.1, 41.3, 24.3, 23.3, 27. , 50. , 50. , 50. , 22.7,\n",
       "        25. , 50. , 23.8, 23.8, 22.3, 17.4, 19.1, 23.1, 23.6, 22.6, 29.4,\n",
       "        23.2, 24.6, 29.9, 37.2, 39.8, 36.2, 37.9, 32.5, 26.4, 29.6, 50. ,\n",
       "        32. , 29.8, 34.9, 37. , 30.5, 36.4, 31.1, 29.1, 50. , 33.3, 30.3,\n",
       "        34.6, 34.9, 32.9, 24.1, 42.3, 48.5, 50. , 22.6, 24.4, 22.5, 24.4,\n",
       "        20. , 21.7, 19.3, 22.4, 28.1, 23.7, 25. , 23.3, 28.7, 21.5, 23. ,\n",
       "        26.7, 21.7, 27.5, 30.1, 44.8, 50. , 37.6, 31.6, 46.7, 31.5, 24.3,\n",
       "        31.7, 41.7, 48.3, 29. , 24. , 25.1, 31.5, 23.7, 23.3, 22. , 20.1,\n",
       "        22.2, 23.7, 17.6, 18.5, 24.3, 20.5, 24.5, 26.2, 24.4, 24.8, 29.6,\n",
       "        42.8, 21.9, 20.9, 44. , 50. , 36. , 30.1, 33.8, 43.1, 48.8, 31. ,\n",
       "        36.5, 22.8, 30.7, 50. , 43.5, 20.7, 21.1, 25.2, 24.4, 35.2, 32.4,\n",
       "        32. , 33.2, 33.1, 29.1, 35.1, 45.4, 35.4, 46. , 50. , 32.2, 22. ,\n",
       "        20.1, 23.2, 22.3, 24.8, 28.5, 37.3, 27.9, 23.9, 21.7, 28.6, 27.1,\n",
       "        20.3, 22.5, 29. , 24.8, 22. , 26.4, 33.1, 36.1, 28.4, 33.4, 28.2,\n",
       "        22.8, 20.3, 16.1, 22.1, 19.4, 21.6, 23.8, 16.2, 17.8, 19.8, 23.1,\n",
       "        21. , 23.8, 23.1, 20.4, 18.5, 25. , 24.6, 23. , 22.2, 19.3, 22.6,\n",
       "        19.8, 17.1, 19.4, 22.2, 20.7, 21.1, 19.5, 18.5, 20.6, 19. , 18.7,\n",
       "        32.7, 16.5, 23.9, 31.2, 17.5, 17.2, 23.1, 24.5, 26.6, 22.9, 24.1,\n",
       "        18.6, 30.1, 18.2, 20.6, 17.8, 21.7, 22.7, 22.6, 25. , 19.9, 20.8,\n",
       "        16.8, 21.9, 27.5, 21.9, 23.1, 50. , 50. , 50. , 50. , 50. , 13.8,\n",
       "        13.8, 15. , 13.9, 13.3, 13.1, 10.2, 10.4, 10.9, 11.3, 12.3,  8.8,\n",
       "         7.2, 10.5,  7.4, 10.2, 11.5, 15.1, 23.2,  9.7, 13.8, 12.7, 13.1,\n",
       "        12.5,  8.5,  5. ,  6.3,  5.6,  7.2, 12.1,  8.3,  8.5,  5. , 11.9,\n",
       "        27.9, 17.2, 27.5, 15. , 17.2, 17.9, 16.3,  7. ,  7.2,  7.5, 10.4,\n",
       "         8.8,  8.4, 16.7, 14.2, 20.8, 13.4, 11.7,  8.3, 10.2, 10.9, 11. ,\n",
       "         9.5, 14.5, 14.1, 16.1, 14.3, 11.7, 13.4,  9.6,  8.7,  8.4, 12.8,\n",
       "        10.5, 17.1, 18.4, 15.4, 10.8, 11.8, 14.9, 12.6, 14.1, 13. , 13.4,\n",
       "        15.2, 16.1, 17.8, 14.9, 14.1, 12.7, 13.5, 14.9, 20. , 16.4, 17.7,\n",
       "        19.5, 20.2, 21.4, 19.9, 19. , 19.1, 19.1, 20.1, 19.9, 19.6, 23.2,\n",
       "        29.8, 13.8, 13.3, 16.7, 12. , 14.6, 21.4, 23. , 23.7, 25. , 21.8,\n",
       "        20.6, 21.2, 19.1, 20.6, 15.2,  7. ,  8.1, 13.6, 20.1, 21.8, 24.5,\n",
       "        23.1, 19.7, 18.3, 21.2, 17.5, 16.8, 22.4, 20.6, 23.9, 22. , 11.9]),\n",
       " 'feature_names': array(['CRIM', 'ZN', 'INDUS', 'CHAS', 'NOX', 'RM', 'AGE', 'DIS', 'RAD',\n",
       "        'TAX', 'PTRATIO', 'B', 'LSTAT'], dtype='<U7'),\n",
       " 'DESCR': \".. _boston_dataset:\\n\\nBoston house prices dataset\\n---------------------------\\n\\n**Data Set Characteristics:**  \\n\\n    :Number of Instances: 506 \\n\\n    :Number of Attributes: 13 numeric/categorical predictive. Median Value (attribute 14) is usually the target.\\n\\n    :Attribute Information (in order):\\n        - CRIM     per capita crime rate by town\\n        - ZN       proportion of residential land zoned for lots over 25,000 sq.ft.\\n        - INDUS    proportion of non-retail business acres per town\\n        - CHAS     Charles River dummy variable (= 1 if tract bounds river; 0 otherwise)\\n        - NOX      nitric oxides concentration (parts per 10 million)\\n        - RM       average number of rooms per dwelling\\n        - AGE      proportion of owner-occupied units built prior to 1940\\n        - DIS      weighted distances to five Boston employment centres\\n        - RAD      index of accessibility to radial highways\\n        - TAX      full-value property-tax rate per $10,000\\n        - PTRATIO  pupil-teacher ratio by town\\n        - B        1000(Bk - 0.63)^2 where Bk is the proportion of black people by town\\n        - LSTAT    % lower status of the population\\n        - MEDV     Median value of owner-occupied homes in $1000's\\n\\n    :Missing Attribute Values: None\\n\\n    :Creator: Harrison, D. and Rubinfeld, D.L.\\n\\nThis is a copy of UCI ML housing dataset.\\nhttps://archive.ics.uci.edu/ml/machine-learning-databases/housing/\\n\\n\\nThis dataset was taken from the StatLib library which is maintained at Carnegie Mellon University.\\n\\nThe Boston house-price data of Harrison, D. and Rubinfeld, D.L. 'Hedonic\\nprices and the demand for clean air', J. Environ. Economics & Management,\\nvol.5, 81-102, 1978.   Used in Belsley, Kuh & Welsch, 'Regression diagnostics\\n...', Wiley, 1980.   N.B. Various transformations are used in the table on\\npages 244-261 of the latter.\\n\\nThe Boston house-price data has been used in many machine learning papers that address regression\\nproblems.   \\n     \\n.. topic:: References\\n\\n   - Belsley, Kuh & Welsch, 'Regression diagnostics: Identifying Influential Data and Sources of Collinearity', Wiley, 1980. 244-261.\\n   - Quinlan,R. (1993). Combining Instance-Based and Model-Based Learning. In Proceedings on the Tenth International Conference of Machine Learning, 236-243, University of Massachusetts, Amherst. Morgan Kaufmann.\\n\",\n",
       " 'filename': 'C:\\\\Users\\\\sunny\\\\anaconda3\\\\lib\\\\site-packages\\\\sklearn\\\\datasets\\\\data\\\\boston_house_prices.csv'}"
      ]
     },
     "execution_count": 129,
     "metadata": {},
     "output_type": "execute_result"
    }
   ],
   "source": [
    "bos=load_boston()\n",
    "bos"
   ]
  },
  {
   "cell_type": "code",
   "execution_count": 130,
   "id": "ae1278b7",
   "metadata": {},
   "outputs": [
    {
     "data": {
      "text/plain": [
       "dict_keys(['data', 'target', 'feature_names', 'DESCR', 'filename'])"
      ]
     },
     "execution_count": 130,
     "metadata": {},
     "output_type": "execute_result"
    }
   ],
   "source": [
    "bos.keys()"
   ]
  },
  {
   "cell_type": "code",
   "execution_count": 131,
   "id": "b8f3978a",
   "metadata": {},
   "outputs": [
    {
     "data": {
      "text/plain": [
       "array([[6.3200e-03, 1.8000e+01, 2.3100e+00, ..., 1.5300e+01, 3.9690e+02,\n",
       "        4.9800e+00],\n",
       "       [2.7310e-02, 0.0000e+00, 7.0700e+00, ..., 1.7800e+01, 3.9690e+02,\n",
       "        9.1400e+00],\n",
       "       [2.7290e-02, 0.0000e+00, 7.0700e+00, ..., 1.7800e+01, 3.9283e+02,\n",
       "        4.0300e+00],\n",
       "       ...,\n",
       "       [6.0760e-02, 0.0000e+00, 1.1930e+01, ..., 2.1000e+01, 3.9690e+02,\n",
       "        5.6400e+00],\n",
       "       [1.0959e-01, 0.0000e+00, 1.1930e+01, ..., 2.1000e+01, 3.9345e+02,\n",
       "        6.4800e+00],\n",
       "       [4.7410e-02, 0.0000e+00, 1.1930e+01, ..., 2.1000e+01, 3.9690e+02,\n",
       "        7.8800e+00]])"
      ]
     },
     "execution_count": 131,
     "metadata": {},
     "output_type": "execute_result"
    }
   ],
   "source": [
    "bos.data"
   ]
  },
  {
   "cell_type": "raw",
   "id": "2bc460ac",
   "metadata": {},
   "source": [
    "question: what is the significance of () writtten at end?"
   ]
  },
  {
   "cell_type": "raw",
   "id": "b8ff8549",
   "metadata": {},
   "source": [
    "\n",
    "\n",
    "\n",
    "\n"
   ]
  },
  {
   "cell_type": "code",
   "execution_count": 132,
   "id": "9e5f2180",
   "metadata": {},
   "outputs": [],
   "source": [
    "#bos.target"
   ]
  },
  {
   "cell_type": "code",
   "execution_count": 133,
   "id": "3540aed0",
   "metadata": {},
   "outputs": [],
   "source": [
    "x=bos.data"
   ]
  },
  {
   "cell_type": "code",
   "execution_count": 134,
   "id": "c4b1fc30",
   "metadata": {},
   "outputs": [],
   "source": [
    "y=bos.target"
   ]
  },
  {
   "cell_type": "code",
   "execution_count": 135,
   "id": "bbbfd0b6",
   "metadata": {},
   "outputs": [
    {
     "data": {
      "text/html": [
       "<div>\n",
       "<style scoped>\n",
       "    .dataframe tbody tr th:only-of-type {\n",
       "        vertical-align: middle;\n",
       "    }\n",
       "\n",
       "    .dataframe tbody tr th {\n",
       "        vertical-align: top;\n",
       "    }\n",
       "\n",
       "    .dataframe thead th {\n",
       "        text-align: right;\n",
       "    }\n",
       "</style>\n",
       "<table border=\"1\" class=\"dataframe\">\n",
       "  <thead>\n",
       "    <tr style=\"text-align: right;\">\n",
       "      <th></th>\n",
       "      <th>0</th>\n",
       "      <th>1</th>\n",
       "      <th>2</th>\n",
       "      <th>3</th>\n",
       "      <th>4</th>\n",
       "      <th>5</th>\n",
       "      <th>6</th>\n",
       "      <th>7</th>\n",
       "      <th>8</th>\n",
       "      <th>9</th>\n",
       "      <th>10</th>\n",
       "      <th>11</th>\n",
       "      <th>12</th>\n",
       "    </tr>\n",
       "  </thead>\n",
       "  <tbody>\n",
       "    <tr>\n",
       "      <th>240</th>\n",
       "      <td>0.11329</td>\n",
       "      <td>30.0</td>\n",
       "      <td>4.93</td>\n",
       "      <td>0.0</td>\n",
       "      <td>0.428</td>\n",
       "      <td>6.897</td>\n",
       "      <td>54.3</td>\n",
       "      <td>6.3361</td>\n",
       "      <td>6.0</td>\n",
       "      <td>300.0</td>\n",
       "      <td>16.6</td>\n",
       "      <td>391.25</td>\n",
       "      <td>11.38</td>\n",
       "    </tr>\n",
       "    <tr>\n",
       "      <th>320</th>\n",
       "      <td>0.16760</td>\n",
       "      <td>0.0</td>\n",
       "      <td>7.38</td>\n",
       "      <td>0.0</td>\n",
       "      <td>0.493</td>\n",
       "      <td>6.426</td>\n",
       "      <td>52.3</td>\n",
       "      <td>4.5404</td>\n",
       "      <td>5.0</td>\n",
       "      <td>287.0</td>\n",
       "      <td>19.6</td>\n",
       "      <td>396.90</td>\n",
       "      <td>7.20</td>\n",
       "    </tr>\n",
       "    <tr>\n",
       "      <th>444</th>\n",
       "      <td>12.80230</td>\n",
       "      <td>0.0</td>\n",
       "      <td>18.10</td>\n",
       "      <td>0.0</td>\n",
       "      <td>0.740</td>\n",
       "      <td>5.854</td>\n",
       "      <td>96.6</td>\n",
       "      <td>1.8956</td>\n",
       "      <td>24.0</td>\n",
       "      <td>666.0</td>\n",
       "      <td>20.2</td>\n",
       "      <td>240.52</td>\n",
       "      <td>23.79</td>\n",
       "    </tr>\n",
       "  </tbody>\n",
       "</table>\n",
       "</div>"
      ],
      "text/plain": [
       "           0     1      2    3      4      5     6       7     8      9   \\\n",
       "240   0.11329  30.0   4.93  0.0  0.428  6.897  54.3  6.3361   6.0  300.0   \n",
       "320   0.16760   0.0   7.38  0.0  0.493  6.426  52.3  4.5404   5.0  287.0   \n",
       "444  12.80230   0.0  18.10  0.0  0.740  5.854  96.6  1.8956  24.0  666.0   \n",
       "\n",
       "       10      11     12  \n",
       "240  16.6  391.25  11.38  \n",
       "320  19.6  396.90   7.20  \n",
       "444  20.2  240.52  23.79  "
      ]
     },
     "execution_count": 135,
     "metadata": {},
     "output_type": "execute_result"
    }
   ],
   "source": [
    "check1=pd.DataFrame(bos.data)  #checking the data in boston dataset\n",
    "check1.sample(3)"
   ]
  },
  {
   "cell_type": "markdown",
   "id": "22143187",
   "metadata": {},
   "source": [
    "### Spiliting of data for test and train purpose"
   ]
  },
  {
   "cell_type": "code",
   "execution_count": 136,
   "id": "10fb8e33",
   "metadata": {},
   "outputs": [],
   "source": [
    "vx_train, x_test,y_train, y_test=train_test_split(x,y,test_size=.33,random_state=47)"
   ]
  },
  {
   "cell_type": "code",
   "execution_count": 137,
   "id": "1829e729",
   "metadata": {},
   "outputs": [
    {
     "data": {
      "text/plain": [
       "(339, 13)"
      ]
     },
     "execution_count": 137,
     "metadata": {},
     "output_type": "execute_result"
    }
   ],
   "source": [
    "x_train.shape"
   ]
  },
  {
   "cell_type": "code",
   "execution_count": 138,
   "id": "1482606f",
   "metadata": {},
   "outputs": [
    {
     "data": {
      "text/plain": [
       "(167, 13)"
      ]
     },
     "execution_count": 138,
     "metadata": {},
     "output_type": "execute_result"
    }
   ],
   "source": [
    "x_test.shape"
   ]
  },
  {
   "cell_type": "code",
   "execution_count": 139,
   "id": "edcb7f5a",
   "metadata": {},
   "outputs": [
    {
     "data": {
      "text/plain": [
       "(339,)"
      ]
     },
     "execution_count": 139,
     "metadata": {},
     "output_type": "execute_result"
    }
   ],
   "source": [
    "y_train.shape"
   ]
  },
  {
   "cell_type": "code",
   "execution_count": 140,
   "id": "ce4eaba2",
   "metadata": {},
   "outputs": [
    {
     "data": {
      "text/plain": [
       "(167,)"
      ]
     },
     "execution_count": 140,
     "metadata": {},
     "output_type": "execute_result"
    }
   ],
   "source": [
    "y_test.shape"
   ]
  },
  {
   "cell_type": "code",
   "execution_count": 141,
   "id": "a9659354",
   "metadata": {},
   "outputs": [],
   "source": [
    "lm=LinearRegression() #using linear regression to train the model"
   ]
  },
  {
   "cell_type": "code",
   "execution_count": 142,
   "id": "23d1a826",
   "metadata": {},
   "outputs": [
    {
     "data": {
      "text/plain": [
       "LinearRegression()"
      ]
     },
     "execution_count": 142,
     "metadata": {},
     "output_type": "execute_result"
    }
   ],
   "source": [
    "lm.fit(x_train,y_train) #training the data here"
   ]
  },
  {
   "cell_type": "code",
   "execution_count": 143,
   "id": "1c9562c3",
   "metadata": {},
   "outputs": [
    {
     "data": {
      "text/plain": [
       "0.7665529829880267"
      ]
     },
     "execution_count": 143,
     "metadata": {},
     "output_type": "execute_result"
    }
   ],
   "source": [
    "score_lm=lm.score(x_train,y_train)\n",
    "score_lm"
   ]
  },
  {
   "cell_type": "code",
   "execution_count": 144,
   "id": "a888e9eb",
   "metadata": {},
   "outputs": [
    {
     "data": {
      "text/plain": [
       "array([-1.10843155e-01,  3.66995321e-02,  8.74460015e-03,  3.32218225e+00,\n",
       "       -1.71846638e+01,  4.81511727e+00, -1.38022222e-02, -1.44146494e+00,\n",
       "        2.63392383e-01, -1.17496784e-02, -9.25130518e-01,  9.07087108e-03,\n",
       "       -4.12146398e-01])"
      ]
     },
     "execution_count": 144,
     "metadata": {},
     "output_type": "execute_result"
    }
   ],
   "source": [
    "lm.coef_"
   ]
  },
  {
   "cell_type": "code",
   "execution_count": 145,
   "id": "e350f474",
   "metadata": {},
   "outputs": [
    {
     "data": {
      "text/plain": [
       "array(['CRIM', 'ZN', 'INDUS', 'CHAS', 'NOX', 'RM', 'AGE', 'DIS', 'RAD',\n",
       "       'TAX', 'PTRATIO', 'B', 'LSTAT'], dtype='<U7')"
      ]
     },
     "execution_count": 145,
     "metadata": {},
     "output_type": "execute_result"
    }
   ],
   "source": [
    "bos.feature_names"
   ]
  },
  {
   "cell_type": "code",
   "execution_count": 146,
   "id": "17445436",
   "metadata": {},
   "outputs": [
    {
     "data": {
      "text/plain": [
       "array([15.84192559, 32.20569827, 24.42230605, 30.84928633, 27.31927564,\n",
       "       19.65311852, 23.05432432, 31.7229619 , 32.45933432, 22.63205367,\n",
       "       24.91948411, 27.15339443, 20.16729816, 27.95837435, 32.02171343,\n",
       "       10.19889234, 36.05901216, 14.96179519, 11.66767994, 15.55657875,\n",
       "       35.22194463, 22.20185653, 38.8142947 , 20.4290284 , 28.49163796,\n",
       "       19.08044635, 24.02797912, 20.78907881, 19.65030776, 26.41697272,\n",
       "       14.14117934, 25.89121978, 17.77544803,  8.02793933, 32.83228276,\n",
       "       19.02926719, 12.35104367, 27.13926668, 22.64549403, 18.75190375,\n",
       "       23.67614267, 25.19654715, 37.31343761, 21.2740326 , 32.30876439,\n",
       "       20.32537386,  7.41789113, 28.06144027, 36.28142462, 21.53339694,\n",
       "       28.92419026, 23.82647841,  7.34739041, 24.23067937,  6.12843722,\n",
       "       21.90316166, 18.29285279, 13.19056989,  5.99004693, 30.08061674,\n",
       "       12.37541899, 17.83046748, 18.15297944, 19.08005857, 42.19993227,\n",
       "       22.50076808, 20.52857282, 23.9328331 , 25.64429237, 27.51546185,\n",
       "       29.74089548, 19.64560651, 24.62720513, 22.8048752 , 30.94928878,\n",
       "       13.76556158, 17.76806882, 20.21873241, 16.61941218, 17.13960152,\n",
       "        2.4308014 , 33.96145621, 31.71436189, 21.53401098, 32.98196514,\n",
       "       16.65016619, 22.89052023, 25.86163486, 21.81428208, 20.29654165,\n",
       "       16.96148704, 20.46209618, 14.18317305, 17.30187772, 32.90370789,\n",
       "       18.21750589, 41.30682445, 28.48111686,  5.55221009, 21.98473977,\n",
       "       25.40501016, 15.09591148, 21.2770707 , 15.94284531, 15.27783077,\n",
       "       34.33906547, 20.2401923 , 16.84905904, 12.40893483, 18.23406938,\n",
       "       12.50212696, 20.93214701, 33.01180186, 21.16469983, 14.49399865,\n",
       "       17.23585266, 19.8564491 , 28.46125692, 37.33841927, 19.54519409,\n",
       "       12.84314264, 20.42102625, 27.76260885, 24.60629726,  9.28643144,\n",
       "       19.53891697, 33.60792063, 18.18056499, 30.37130118, 19.03751443,\n",
       "       14.07620483, 13.40780844, 13.25403156, 21.19345033, 15.2054522 ,\n",
       "       33.30384985, 18.3280016 , 20.62280301, 18.79948476, 12.61096305,\n",
       "       39.04025958, 21.59403185, 18.5979495 , 27.10064513, 17.26676956,\n",
       "       23.41099028, 17.23749448, 18.10113392, 30.11004202, 34.19579096,\n",
       "       23.12231909, 37.49512444, 21.92539639,  9.08141173, 31.62415908,\n",
       "       21.08853321, 35.49631539, 13.51083231, 27.2704122 , 10.0175388 ,\n",
       "       17.85790942, 20.42179279, 19.45974292,  8.65062935, 24.97113029,\n",
       "       31.21633411, 36.35157761])"
      ]
     },
     "execution_count": 146,
     "metadata": {},
     "output_type": "execute_result"
    }
   ],
   "source": [
    "predlm=lm.predict(x_test) #we give new inputs here so that the model can predict.\n",
    "predlm"
   ]
  },
  {
   "cell_type": "markdown",
   "id": "8743be69",
   "metadata": {},
   "source": [
    "##### Calculating Mean Square Error"
   ]
  },
  {
   "cell_type": "code",
   "execution_count": 147,
   "id": "63cc8038",
   "metadata": {},
   "outputs": [
    {
     "data": {
      "text/plain": [
       "27.42072820908458"
      ]
     },
     "execution_count": 147,
     "metadata": {},
     "output_type": "execute_result"
    }
   ],
   "source": [
    "mse_lm=mean_squared_error(y_test,predlm) \n",
    "mse_lm"
   ]
  },
  {
   "cell_type": "code",
   "execution_count": 148,
   "id": "bd07f799",
   "metadata": {},
   "outputs": [
    {
     "data": {
      "text/plain": [
       "5.236480517397594"
      ]
     },
     "execution_count": 148,
     "metadata": {},
     "output_type": "execute_result"
    }
   ],
   "source": [
    "np.sqrt(mse_lm)"
   ]
  },
  {
   "cell_type": "markdown",
   "id": "33a1eab6",
   "metadata": {},
   "source": [
    "### As the errors are existing there may be case that model is going through under fitting or overfitting."
   ]
  },
  {
   "cell_type": "code",
   "execution_count": 149,
   "id": "499d19ad",
   "metadata": {},
   "outputs": [
    {
     "name": "stdout",
     "output_type": "stream",
     "text": [
      "-x--x--x--x--x--x--x--x--x--x--x--x--x--x--x--x--x--x--x--x--x--x--x--x--x--x--x--x--x--x--x--x--x--x--x--x--x--x--x--x--x--x-\n"
     ]
    }
   ],
   "source": [
    "print(\"-x-\"*42)"
   ]
  },
  {
   "cell_type": "markdown",
   "id": "64453cc8",
   "metadata": {},
   "source": [
    "# Regularization :: L1 & L2\n",
    "        L1- lasso regression\n",
    "        L2-ridge regression\n",
    "        Elastic Net regression"
   ]
  },
  {
   "cell_type": "markdown",
   "id": "c7da9c9b",
   "metadata": {},
   "source": [
    "Alpha value remains same in each regression for comparison and understanding."
   ]
  },
  {
   "cell_type": "code",
   "execution_count": 150,
   "id": "9a9ae2da",
   "metadata": {},
   "outputs": [],
   "source": [
    "from sklearn.linear_model import Lasso,Ridge"
   ]
  },
  {
   "cell_type": "markdown",
   "id": "b6a5408a",
   "metadata": {},
   "source": [
    "#### L1 Lasso Regression"
   ]
  },
  {
   "cell_type": "raw",
   "id": "09944542",
   "metadata": {},
   "source": [
    "Will reduce the coefficient to zero for those features that are not informative\n",
    "  Alpha values could be ------>.0001,.001,.01,.1,1,10\n",
    "\n",
    "Default value of alpha is 1.0\n",
    "\n",
    "  ->higher values of Alpha reduce all coefficients towards 0 and impact output"
   ]
  },
  {
   "cell_type": "code",
   "execution_count": 151,
   "id": "4a4f3ee6",
   "metadata": {},
   "outputs": [
    {
     "data": {
      "text/plain": [
       "Lasso(alpha=0.0001)"
      ]
     },
     "execution_count": 151,
     "metadata": {},
     "output_type": "execute_result"
    }
   ],
   "source": [
    "ls=Lasso(alpha=0.0001)\n",
    "ls.fit(x_train,y_train)     #training through lasso #we train the data here\n",
    "#lm.fit(x_train,y_train)    #training through linear regression"
   ]
  },
  {
   "cell_type": "code",
   "execution_count": 152,
   "id": "09e81801",
   "metadata": {},
   "outputs": [
    {
     "data": {
      "text/plain": [
       "0.7665529400345414"
      ]
     },
     "execution_count": 152,
     "metadata": {},
     "output_type": "execute_result"
    }
   ],
   "source": [
    "score_ls=ls.score(x_train, y_train) #score through lasso\n",
    "score_ls\n",
    "#score_lm = 0.7665529829880267     #score through linear regression"
   ]
  },
  {
   "cell_type": "code",
   "execution_count": 153,
   "id": "c50c6199",
   "metadata": {},
   "outputs": [
    {
     "data": {
      "text/plain": [
       "array([15.84606573, 32.20576863, 24.41981132, 30.85017427, 27.31949877,\n",
       "       19.65382971, 23.05598908, 31.72472312, 32.45700698, 22.62901443,\n",
       "       24.92040181, 27.155101  , 20.16578767, 27.95515696, 32.01750512,\n",
       "       10.19972762, 36.0574698 , 14.96231357, 11.66832743, 15.55780401,\n",
       "       35.22049777, 22.20015392, 38.8138701 , 20.4272614 , 28.48947487,\n",
       "       19.0769333 , 24.02675867, 20.79107988, 19.6521658 , 26.41596573,\n",
       "       14.14194211, 25.8889935 , 17.77395953,  8.02834456, 32.82931039,\n",
       "       19.03173187, 12.35189452, 27.14017292, 22.64526427, 18.75440132,\n",
       "       23.67798789, 25.19665611, 37.31143289, 21.2741172 , 32.3074552 ,\n",
       "       20.32348215,  7.41531104, 28.06024871, 36.28278154, 21.53693776,\n",
       "       28.92236519, 23.82610102,  7.34841474, 24.23130114,  6.12735844,\n",
       "       21.90499905, 18.29338587, 13.1911147 ,  5.99030651, 30.0798539 ,\n",
       "       12.37666362, 17.82653755, 18.15199713, 19.0807606 , 42.19882326,\n",
       "       22.50010063, 20.52777688, 23.93023915, 25.64334323, 27.51280403,\n",
       "       29.73760803, 19.64466105, 24.62729662, 22.80112356, 30.94880156,\n",
       "       13.76316173, 17.76821579, 20.21712505, 16.61968298, 17.13766343,\n",
       "        2.43106359, 33.96263162, 31.7166177 , 21.53607378, 32.98094134,\n",
       "       16.64718624, 22.89212675, 25.86329514, 21.8165303 , 20.29750363,\n",
       "       16.96219836, 20.46050368, 14.18364546, 17.30085075, 32.9018862 ,\n",
       "       18.21912464, 41.30370356, 28.48313893,  5.55295439, 21.98070502,\n",
       "       25.4070647 , 15.09394818, 21.27680958, 15.94387365, 15.27852938,\n",
       "       34.33802425, 20.24184326, 16.85060472, 12.41479947, 18.23308521,\n",
       "       12.50278192, 20.92929305, 33.01127741, 21.16606789, 14.49394231,\n",
       "       17.23716162, 19.85704031, 28.46039109, 37.33736894, 19.54200668,\n",
       "       12.84358421, 20.42044809, 27.76202426, 24.60462333,  9.28761975,\n",
       "       19.53816263, 33.6070684 , 18.1809551 , 30.36975124, 19.03791899,\n",
       "       14.07729286, 13.40512232, 13.25330297, 21.19389956, 15.21097341,\n",
       "       33.30311201, 18.33195881, 20.6222361 , 18.80111431, 12.61307403,\n",
       "       39.04080228, 21.59585468, 18.59774564, 27.10282956, 17.2678581 ,\n",
       "       23.4091856 , 17.23784052, 18.10328243, 30.10942996, 34.19715532,\n",
       "       23.12250918, 37.49484063, 21.92538838,  9.08195779, 31.62086829,\n",
       "       21.08801206, 35.49580576, 13.50754739, 27.26751626, 10.02343634,\n",
       "       17.85961944, 20.42057651, 19.460504  ,  8.65645864, 24.97191231,\n",
       "       31.21813766, 36.34922011])"
      ]
     },
     "execution_count": 153,
     "metadata": {},
     "output_type": "execute_result"
    }
   ],
   "source": [
    "predlasso=ls.predict(x_test)\n",
    "predlasso"
   ]
  },
  {
   "cell_type": "code",
   "execution_count": 154,
   "id": "c57933e6",
   "metadata": {},
   "outputs": [
    {
     "data": {
      "text/plain": [
       "27.420686040715154"
      ]
     },
     "execution_count": 154,
     "metadata": {},
     "output_type": "execute_result"
    }
   ],
   "source": [
    "mse_lasso=mean_squared_error(y_test,predlasso) #mean square error with lasso\n",
    "mse_lasso\n",
    "#27.42072820908458 = mse_lm"
   ]
  },
  {
   "cell_type": "code",
   "execution_count": 155,
   "id": "79194e75",
   "metadata": {},
   "outputs": [
    {
     "data": {
      "text/plain": [
       "5.236476490992311"
      ]
     },
     "execution_count": 155,
     "metadata": {},
     "output_type": "execute_result"
    }
   ],
   "source": [
    "np.sqrt(mse_lasso) "
   ]
  },
  {
   "cell_type": "markdown",
   "id": "bf2d9f3a",
   "metadata": {},
   "source": [
    "Error should be reduced, this is our agenda here!"
   ]
  },
  {
   "cell_type": "markdown",
   "id": "3be10b64",
   "metadata": {},
   "source": [
    "### Difference % between the mean squares of linear and lasso"
   ]
  },
  {
   "cell_type": "code",
   "execution_count": 156,
   "id": "81f51a2a",
   "metadata": {},
   "outputs": [
    {
     "name": "stdout",
     "output_type": "stream",
     "text": [
      "0.0001537828211711744 % model has been imporved\n"
     ]
    }
   ],
   "source": [
    "per=((mse_lm - mse_lasso)/mse_lm)*100\n",
    "print(per,\"% model has been imporved\")"
   ]
  },
  {
   "cell_type": "code",
   "execution_count": 174,
   "id": "503326fb",
   "metadata": {},
   "outputs": [
    {
     "name": "stdout",
     "output_type": "stream",
     "text": [
      "-x--x--x--x--x--x--x--x--x--x--x--x--x--x--x--x--x--x--x--x--x--x--x--x--x--x--x--x--x--x--x--x--x--x--x--x--x--x--x--x--x--x-\n"
     ]
    }
   ],
   "source": [
    "print(\"-x-\"*42)"
   ]
  },
  {
   "cell_type": "markdown",
   "id": "e197bd8f",
   "metadata": {},
   "source": [
    "#### L2 Ridge Regression"
   ]
  },
  {
   "cell_type": "raw",
   "id": "cffc72f5",
   "metadata": {},
   "source": [
    "Try to minimise the cofficient variance\n",
    "\n",
    "\n"
   ]
  },
  {
   "cell_type": "code",
   "execution_count": 157,
   "id": "8c967a4c",
   "metadata": {},
   "outputs": [],
   "source": [
    "rd=Ridge(alpha=0.0001)"
   ]
  },
  {
   "cell_type": "code",
   "execution_count": 158,
   "id": "21ad0b36",
   "metadata": {},
   "outputs": [
    {
     "data": {
      "text/plain": [
       "Ridge(alpha=0.0001)"
      ]
     },
     "execution_count": 158,
     "metadata": {},
     "output_type": "execute_result"
    }
   ],
   "source": [
    "rd.fit(x_train, y_train)"
   ]
  },
  {
   "cell_type": "code",
   "execution_count": 159,
   "id": "acc0a097",
   "metadata": {},
   "outputs": [
    {
     "data": {
      "text/plain": [
       "0.7665529828886578"
      ]
     },
     "execution_count": 159,
     "metadata": {},
     "output_type": "execute_result"
    }
   ],
   "source": [
    "score_rd=rd.score(x_train, y_train)\n",
    "score_rd"
   ]
  },
  {
   "cell_type": "code",
   "execution_count": 160,
   "id": "f8de252c",
   "metadata": {},
   "outputs": [],
   "source": [
    "predridge=rd.predict(x_test)"
   ]
  },
  {
   "cell_type": "code",
   "execution_count": 161,
   "id": "113e929c",
   "metadata": {},
   "outputs": [
    {
     "data": {
      "text/plain": [
       "27.420755562391207"
      ]
     },
     "execution_count": 161,
     "metadata": {},
     "output_type": "execute_result"
    }
   ],
   "source": [
    "mse_rd=mean_squared_error(y_test, predridge)\n",
    "mse_rd"
   ]
  },
  {
   "cell_type": "code",
   "execution_count": 162,
   "id": "15c6ea58",
   "metadata": {},
   "outputs": [
    {
     "data": {
      "text/plain": [
       "5.236483129199521"
      ]
     },
     "execution_count": 162,
     "metadata": {},
     "output_type": "execute_result"
    }
   ],
   "source": [
    "np.sqrt(mse_rd)"
   ]
  },
  {
   "cell_type": "code",
   "execution_count": 163,
   "id": "38d698c2",
   "metadata": {},
   "outputs": [],
   "source": [
    "#min_error=min(mse_rd,mse_lasso, mse_lm)\n",
    "#min_error"
   ]
  },
  {
   "cell_type": "code",
   "execution_count": 164,
   "id": "afe5d9e9",
   "metadata": {},
   "outputs": [
    {
     "data": {
      "text/plain": [
       "array([-1.10842268e-01,  3.66998800e-02,  8.73686616e-03,  3.32215005e+00,\n",
       "       -1.71830063e+01,  4.81513570e+00, -1.38038984e-02, -1.44144307e+00,\n",
       "        2.63388003e-01, -1.17498140e-02, -9.25109364e-01,  9.07099128e-03,\n",
       "       -4.12146425e-01])"
      ]
     },
     "execution_count": 164,
     "metadata": {},
     "output_type": "execute_result"
    }
   ],
   "source": [
    "rd.coef_"
   ]
  },
  {
   "cell_type": "code",
   "execution_count": 165,
   "id": "91bb5171",
   "metadata": {},
   "outputs": [
    {
     "name": "stdout",
     "output_type": "stream",
     "text": [
      "-0.00025353733291031864 % model has been imporved\n"
     ]
    }
   ],
   "source": [
    "per2=((mse_lasso - mse_rd)/mse_lasso)*100\n",
    "print(per2,\"% model has been imporved\")"
   ]
  },
  {
   "cell_type": "markdown",
   "id": "db73f781",
   "metadata": {},
   "source": [
    "Lasso method was better than ridge regresson in this case!"
   ]
  },
  {
   "cell_type": "code",
   "execution_count": 166,
   "id": "770c8331",
   "metadata": {},
   "outputs": [
    {
     "name": "stdout",
     "output_type": "stream",
     "text": [
      "-9.975412184228098e-05 % model has been imporved\n"
     ]
    }
   ],
   "source": [
    "per3=((mse_lm - mse_rd)/mse_lm)*100\n",
    "print(per3,\"% model has been imporved\")"
   ]
  },
  {
   "cell_type": "markdown",
   "id": "d4094ada",
   "metadata": {},
   "source": [
    "Linear regression was much bettter than ridge in this case!"
   ]
  },
  {
   "cell_type": "code",
   "execution_count": 175,
   "id": "af45c63c",
   "metadata": {},
   "outputs": [
    {
     "name": "stdout",
     "output_type": "stream",
     "text": [
      "-x--x--x--x--x--x--x--x--x--x--x--x--x--x--x--x--x--x--x--x--x--x--x--x--x--x--x--x--x--x--x--x--x--x--x--x--x--x--x--x--x--x-\n"
     ]
    }
   ],
   "source": [
    "print(\"-x-\"*42)"
   ]
  },
  {
   "cell_type": "markdown",
   "id": "1f9f5b2f",
   "metadata": {},
   "source": [
    "### Elastic Net Regression"
   ]
  },
  {
   "cell_type": "raw",
   "id": "1207aba1",
   "metadata": {},
   "source": [
    "A combination of both lasso and ridge\n",
    "\n",
    "\n"
   ]
  },
  {
   "cell_type": "code",
   "execution_count": 167,
   "id": "a9c55f89",
   "metadata": {},
   "outputs": [],
   "source": [
    "from sklearn.linear_model import ElasticNet\n",
    "enr=ElasticNet(alpha=0.0001)"
   ]
  },
  {
   "cell_type": "code",
   "execution_count": 168,
   "id": "47581d54",
   "metadata": {},
   "outputs": [
    {
     "data": {
      "text/plain": [
       "ElasticNet(alpha=0.0001)"
      ]
     },
     "execution_count": 168,
     "metadata": {},
     "output_type": "execute_result"
    }
   ],
   "source": [
    "enr.fit(x_train, y_train) #we have trained it"
   ]
  },
  {
   "cell_type": "code",
   "execution_count": 169,
   "id": "58ae30ea",
   "metadata": {},
   "outputs": [
    {
     "data": {
      "text/plain": [
       "0.7665498739655396"
      ]
     },
     "execution_count": 169,
     "metadata": {},
     "output_type": "execute_result"
    }
   ],
   "source": [
    "score_enr=enr.score(x_train, y_train) #we have checked the accuracy of training\n",
    "score_enr"
   ]
  },
  {
   "cell_type": "code",
   "execution_count": 170,
   "id": "22616d50",
   "metadata": {},
   "outputs": [],
   "source": [
    "enrpred=enr.predict(x_test) #we have predicted some values\n",
    "#enrpred"
   ]
  },
  {
   "cell_type": "code",
   "execution_count": 171,
   "id": "e1b04d05",
   "metadata": {},
   "outputs": [
    {
     "data": {
      "text/plain": [
       "27.425497789971285"
      ]
     },
     "execution_count": 171,
     "metadata": {},
     "output_type": "execute_result"
    }
   ],
   "source": [
    "mse_enr=mean_squared_error(y_test, enrpred) #we have checked the error\n",
    "mse_enr"
   ]
  },
  {
   "cell_type": "code",
   "execution_count": 172,
   "id": "adab7965",
   "metadata": {},
   "outputs": [
    {
     "data": {
      "text/plain": [
       "5.23693591616045"
      ]
     },
     "execution_count": 172,
     "metadata": {},
     "output_type": "execute_result"
    }
   ],
   "source": [
    "np.sqrt(mse_enr)"
   ]
  },
  {
   "cell_type": "code",
   "execution_count": 173,
   "id": "4deac47b",
   "metadata": {},
   "outputs": [
    {
     "name": "stdout",
     "output_type": "stream",
     "text": [
      "-0.017547880636488784 % model has been imporved\n"
     ]
    }
   ],
   "source": [
    "per4=((mse_lasso - mse_enr)/mse_lasso)*100  #now at the end, compared the error\n",
    "print(per4,\"% model has been imporved\")"
   ]
  },
  {
   "cell_type": "markdown",
   "id": "33eba62e",
   "metadata": {},
   "source": [
    "### Lasso is the best in this case!"
   ]
  },
  {
   "cell_type": "code",
   "execution_count": 176,
   "id": "21cfb9c5",
   "metadata": {},
   "outputs": [
    {
     "name": "stdout",
     "output_type": "stream",
     "text": [
      "-x--x--x--x--x--x--x--x--x--x--x--x--x--x--x--x--x--x--x--x--x--x--x--x--x--x--x--x--x--x--x--x--x--x--x--x--x--x--x--x--x--x-\n"
     ]
    }
   ],
   "source": [
    "print(\"-x-\"*42)"
   ]
  },
  {
   "cell_type": "code",
   "execution_count": null,
   "id": "5c6ec535",
   "metadata": {},
   "outputs": [],
   "source": []
  }
 ],
 "metadata": {
  "kernelspec": {
   "display_name": "Python 3 (ipykernel)",
   "language": "python",
   "name": "python3"
  },
  "language_info": {
   "codemirror_mode": {
    "name": "ipython",
    "version": 3
   },
   "file_extension": ".py",
   "mimetype": "text/x-python",
   "name": "python",
   "nbconvert_exporter": "python",
   "pygments_lexer": "ipython3",
   "version": "3.9.7"
  }
 },
 "nbformat": 4,
 "nbformat_minor": 5
}

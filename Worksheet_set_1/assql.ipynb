{
 "cells": [
  {
   "cell_type": "markdown",
   "id": "bc845373",
   "metadata": {},
   "source": [
    "# python worksheet 1"
   ]
  },
  {
   "cell_type": "code",
   "execution_count": 24,
   "id": "e3f34d5f",
   "metadata": {},
   "outputs": [
    {
     "name": "stdout",
     "output_type": "stream",
     "text": [
      "Enter any number: 5\n",
      "The factorial of 5 is 120\n"
     ]
    }
   ],
   "source": [
    "#Q11 factorial of a number\n",
    "\n",
    "# To take input\n",
    "num = int(input(\"Enter any number: \"))\n",
    "factorial = 1\n",
    "\n",
    "# number is negative, positive or zero\n",
    "if num < 0:\n",
    "   print(\"factorial does not exist, negative number\")\n",
    "elif num == 0:\n",
    "   print(\"1\")\n",
    "else:\n",
    "   for k in range(1,num + 1):\n",
    "       factorial = factorial*k\n",
    "   print(\"The factorial of\",num,\"is\",factorial)"
   ]
  },
  {
   "cell_type": "code",
   "execution_count": 26,
   "id": "12870a86",
   "metadata": {},
   "outputs": [
    {
     "name": "stdout",
     "output_type": "stream",
     "text": [
      "Enter any number : 37\n",
      "37 is a prime number\n"
     ]
    }
   ],
   "source": [
    "#Q12 the no. is prime or composite\n",
    "\n",
    "num = int(input(\"Enter any number : \"))\n",
    "if num > 1:\n",
    "    for i in range(2, num):\n",
    "        if (num % i) == 0:\n",
    "            print(num, \"is not a prime number\")\n",
    "            break\n",
    "    else:\n",
    "        print(num, \"is a prime number\")\n",
    "elif num == 0 or 1:\n",
    "    print(num, \"is a neither prime nor composite number\")\n",
    "else:\n",
    "    print(num, \"it is a composite number\")"
   ]
  },
  {
   "cell_type": "code",
   "execution_count": 27,
   "id": "4f12687a",
   "metadata": {},
   "outputs": [
    {
     "name": "stdout",
     "output_type": "stream",
     "text": [
      "Enter the word and see if it is palindrome kir\n",
      "This word is not palindrome\n"
     ]
    }
   ],
   "source": [
    "#Q13 palindrome or not\n",
    "\n",
    "l=input(\"Enter the word\")\n",
    "if l==l[::-1]:\n",
    "    print(\"This word is a palindrome\")\n",
    "else:\n",
    "    print(\"This word is not a palindrome\")\n"
   ]
  },
  {
   "cell_type": "code",
   "execution_count": 10,
   "id": "bf139bec",
   "metadata": {},
   "outputs": [
    {
     "name": "stdout",
     "output_type": "stream",
     "text": [
      "Enter base: 4\n",
      "Enter height: 3\n",
      "Enter angle: 90\n",
      "Hypotenuse = 5.0\n"
     ]
    }
   ],
   "source": [
    "#Q14 3rd side of a triangle if 2 sides are given\n",
    "\n",
    "import math\n",
    "\n",
    "a = float(input(\"Enter base: \"))\n",
    "b = float(input(\"Enter height: \"))\n",
    "x = float(input(\"Enter angle: \"))\n",
    "\n",
    "c = math.sqrt(a ** 2 + b ** 2)\n",
    "\n",
    "print(\"Hypotenuse =\", c)"
   ]
  },
  {
   "cell_type": "code",
   "execution_count": 28,
   "id": "6df765ef",
   "metadata": {},
   "outputs": [
    {
     "name": "stdout",
     "output_type": "stream",
     "text": [
      "Enter the word kabir\n",
      "Character and their frequency\n",
      "k=1\n",
      "a=1\n",
      "b=1\n",
      "i=1\n",
      "r=1\n"
     ]
    }
   ],
   "source": [
    "#Q15 python program to print the frequency of each of the characters present in a given string\n",
    "\n",
    "string=input(\"Enter the word \")\n",
    "freq=[None]*len(string)\n",
    "for i in range(0,len(string)):\n",
    "  freq[i]=1\n",
    "  for j in range(i+1,len(string)):\n",
    "    if(string[i]==string[j]):\n",
    "        freq[i]=freq[i]+1\n",
    "        string=string[:j]+'0'+string[j+1:];\n",
    "print(\"Character and their frequency\");\n",
    "for i in range(0,len(freq)):\n",
    "    if(string[i]!=' ' and string[i]!='0'):\n",
    "        print(string[i]+\"=\"+str(freq[i]))"
   ]
  },
  {
   "cell_type": "code",
   "execution_count": 16,
   "id": "370a0634",
   "metadata": {},
   "outputs": [],
   "source": []
  },
  {
   "cell_type": "code",
   "execution_count": 21,
   "id": "b12aa8fb",
   "metadata": {},
   "outputs": [
    {
     "data": {
      "text/plain": [
       "6"
      ]
     },
     "execution_count": 21,
     "metadata": {},
     "output_type": "execute_result"
    }
   ],
   "source": []
  }
 ],
 "metadata": {
  "kernelspec": {
   "display_name": "Python 3 (ipykernel)",
   "language": "python",
   "name": "python3"
  },
  "language_info": {
   "codemirror_mode": {
    "name": "ipython",
    "version": 3
   },
   "file_extension": ".py",
   "mimetype": "text/x-python",
   "name": "python",
   "nbconvert_exporter": "python",
   "pygments_lexer": "ipython3",
   "version": "3.9.7"
  }
 },
 "nbformat": 4,
 "nbformat_minor": 5
}

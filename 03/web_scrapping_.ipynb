{
 "cells": [
  {
   "cell_type": "code",
   "execution_count": 2,
   "id": "630c5ad0",
   "metadata": {},
   "outputs": [
    {
     "name": "stdout",
     "output_type": "stream",
     "text": [
      "Requirement already satisfied: selenium in c:\\users\\sunny\\anaconda3\\lib\\site-packages (4.1.3)\n",
      "Requirement already satisfied: trio-websocket~=0.9 in c:\\users\\sunny\\anaconda3\\lib\\site-packages (from selenium) (0.9.2)\n",
      "Requirement already satisfied: urllib3[secure,socks]~=1.26 in c:\\users\\sunny\\anaconda3\\lib\\site-packages (from selenium) (1.26.7)\n",
      "Requirement already satisfied: trio~=0.17 in c:\\users\\sunny\\anaconda3\\lib\\site-packages (from selenium) (0.20.0)\n",
      "Requirement already satisfied: sniffio in c:\\users\\sunny\\anaconda3\\lib\\site-packages (from trio~=0.17->selenium) (1.2.0)\n",
      "Requirement already satisfied: attrs>=19.2.0 in c:\\users\\sunny\\anaconda3\\lib\\site-packages (from trio~=0.17->selenium) (21.2.0)\n",
      "Requirement already satisfied: idna in c:\\users\\sunny\\anaconda3\\lib\\site-packages (from trio~=0.17->selenium) (3.2)\n",
      "Requirement already satisfied: cffi>=1.14 in c:\\users\\sunny\\anaconda3\\lib\\site-packages (from trio~=0.17->selenium) (1.14.6)\n",
      "Requirement already satisfied: async-generator>=1.9 in c:\\users\\sunny\\anaconda3\\lib\\site-packages (from trio~=0.17->selenium) (1.10)\n",
      "Requirement already satisfied: outcome in c:\\users\\sunny\\anaconda3\\lib\\site-packages (from trio~=0.17->selenium) (1.1.0)\n",
      "Requirement already satisfied: sortedcontainers in c:\\users\\sunny\\anaconda3\\lib\\site-packages (from trio~=0.17->selenium) (2.4.0)\n",
      "Requirement already satisfied: pycparser in c:\\users\\sunny\\anaconda3\\lib\\site-packages (from cffi>=1.14->trio~=0.17->selenium) (2.20)\n",
      "Requirement already satisfied: wsproto>=0.14 in c:\\users\\sunny\\anaconda3\\lib\\site-packages (from trio-websocket~=0.9->selenium) (1.1.0)\n",
      "Requirement already satisfied: PySocks!=1.5.7,<2.0,>=1.5.6 in c:\\users\\sunny\\anaconda3\\lib\\site-packages (from urllib3[secure,socks]~=1.26->selenium) (1.7.1)\n",
      "Requirement already satisfied: pyOpenSSL>=0.14 in c:\\users\\sunny\\anaconda3\\lib\\site-packages (from urllib3[secure,socks]~=1.26->selenium) (21.0.0)\n",
      "Requirement already satisfied: cryptography>=1.3.4 in c:\\users\\sunny\\anaconda3\\lib\\site-packages (from urllib3[secure,socks]~=1.26->selenium) (3.4.8)\n",
      "Requirement already satisfied: certifi in c:\\users\\sunny\\anaconda3\\lib\\site-packages (from urllib3[secure,socks]~=1.26->selenium) (2021.10.8)\n",
      "Requirement already satisfied: six>=1.5.2 in c:\\users\\sunny\\anaconda3\\lib\\site-packages (from pyOpenSSL>=0.14->urllib3[secure,socks]~=1.26->selenium) (1.16.0)\n",
      "Requirement already satisfied: h11<1,>=0.9.0 in c:\\users\\sunny\\anaconda3\\lib\\site-packages (from wsproto>=0.14->trio-websocket~=0.9->selenium) (0.13.0)\n"
     ]
    }
   ],
   "source": [
    "!pip install selenium"
   ]
  },
  {
   "cell_type": "code",
   "execution_count": 3,
   "id": "6037687b",
   "metadata": {},
   "outputs": [],
   "source": [
    "import selenium\n",
    "import pandas as pd\n",
    "from selenium import webdriver\n",
    "import warnings\n",
    "warnings.filterwarnings(\"ignore\")\n",
    "import time"
   ]
  },
  {
   "cell_type": "code",
   "execution_count": 4,
   "id": "03ff0ecf",
   "metadata": {},
   "outputs": [],
   "source": [
    "dvr=webdriver.Chrome(r\"C:\\webdriver\\chromedriver.exe\")"
   ]
  },
  {
   "cell_type": "code",
   "execution_count": 5,
   "id": "e6351533",
   "metadata": {},
   "outputs": [],
   "source": [
    "dvr.get('https://www.naukri.com/')"
   ]
  },
  {
   "cell_type": "code",
   "execution_count": 6,
   "id": "7257b739",
   "metadata": {},
   "outputs": [],
   "source": [
    "search1=dvr.find_element_by_class_name(\"suggestor-input\")"
   ]
  },
  {
   "cell_type": "code",
   "execution_count": 7,
   "id": "dece3ab7",
   "metadata": {},
   "outputs": [],
   "source": [
    "search1.send_keys('Data Analyst')"
   ]
  },
  {
   "cell_type": "code",
   "execution_count": 8,
   "id": "1672b76e",
   "metadata": {},
   "outputs": [],
   "source": [
    "search2=dvr.find_element_by_xpath('/html/body/div/div[2]/div[3]/div/div/div[3]/div/div/div/input')"
   ]
  },
  {
   "cell_type": "code",
   "execution_count": 9,
   "id": "416e4d1e",
   "metadata": {},
   "outputs": [],
   "source": [
    "search2.send_keys('Banglore')"
   ]
  },
  {
   "cell_type": "code",
   "execution_count": 10,
   "id": "bb395d5d",
   "metadata": {},
   "outputs": [],
   "source": [
    "search_button=dvr.find_element_by_xpath('/html/body/div/div[2]/div[3]/div/div/div[6]')"
   ]
  },
  {
   "cell_type": "code",
   "execution_count": 11,
   "id": "3b54713c",
   "metadata": {},
   "outputs": [],
   "source": [
    "search_button.click()"
   ]
  },
  {
   "cell_type": "code",
   "execution_count": 12,
   "id": "e9324ad5",
   "metadata": {},
   "outputs": [],
   "source": [
    "job_titles=[]\n",
    "company_names=[]\n",
    "location_list=[]\n",
    "experience_req=[]"
   ]
  },
  {
   "cell_type": "code",
   "execution_count": 13,
   "id": "4fea0d73",
   "metadata": {},
   "outputs": [],
   "source": [
    "titles_tags=dvr.find_elements_by_xpath(\"//a[@class='title fw500 ellipsis']\")"
   ]
  },
  {
   "cell_type": "code",
   "execution_count": 14,
   "id": "636e0cbd",
   "metadata": {},
   "outputs": [
    {
     "data": {
      "text/plain": [
       "[<selenium.webdriver.remote.webelement.WebElement (session=\"73c8bb3b2498475e5241f953aeea6d50\", element=\"e4925d8f-1d29-4f4a-bcba-26ba317296de\")>,\n",
       " <selenium.webdriver.remote.webelement.WebElement (session=\"73c8bb3b2498475e5241f953aeea6d50\", element=\"d347c87f-60e8-41af-8aa3-2a19be1b218f\")>,\n",
       " <selenium.webdriver.remote.webelement.WebElement (session=\"73c8bb3b2498475e5241f953aeea6d50\", element=\"06ff93d6-489e-4ea4-81b8-98c050a87965\")>,\n",
       " <selenium.webdriver.remote.webelement.WebElement (session=\"73c8bb3b2498475e5241f953aeea6d50\", element=\"7cd86187-bf68-4f71-81ad-738153b47a2a\")>]"
      ]
     },
     "execution_count": 14,
     "metadata": {},
     "output_type": "execute_result"
    }
   ],
   "source": [
    "titles_tags[0:4]"
   ]
  },
  {
   "cell_type": "code",
   "execution_count": 15,
   "id": "1b631f11",
   "metadata": {},
   "outputs": [
    {
     "data": {
      "text/plain": [
       "['Senior Data Analyst',\n",
       " 'Sr Data Analyst II',\n",
       " 'Business analyst + data Analysis',\n",
       " 'Data Analyst - Alteryx']"
      ]
     },
     "execution_count": 15,
     "metadata": {},
     "output_type": "execute_result"
    }
   ],
   "source": [
    "for i in titles_tags:\n",
    "    title=i.text\n",
    "    job_titles.append(title)\n",
    "job_titles[0:4]    \n"
   ]
  },
  {
   "cell_type": "code",
   "execution_count": 16,
   "id": "e74bb3c9",
   "metadata": {},
   "outputs": [],
   "source": [
    "company_tags=dvr.find_elements_by_xpath(\"//a[@class='subTitle ellipsis fleft']\")"
   ]
  },
  {
   "cell_type": "code",
   "execution_count": 17,
   "id": "85397877",
   "metadata": {},
   "outputs": [
    {
     "data": {
      "text/plain": [
       "[<selenium.webdriver.remote.webelement.WebElement (session=\"73c8bb3b2498475e5241f953aeea6d50\", element=\"c8787713-39f1-4190-920c-4431adc2dbb0\")>,\n",
       " <selenium.webdriver.remote.webelement.WebElement (session=\"73c8bb3b2498475e5241f953aeea6d50\", element=\"b7ad384a-e970-400f-8ba3-6c058fa9748b\")>,\n",
       " <selenium.webdriver.remote.webelement.WebElement (session=\"73c8bb3b2498475e5241f953aeea6d50\", element=\"91a3cfe6-9dde-4370-874a-137ea03847a3\")>,\n",
       " <selenium.webdriver.remote.webelement.WebElement (session=\"73c8bb3b2498475e5241f953aeea6d50\", element=\"ccdc878e-e2f3-4d56-9c60-2ec201584eae\")>]"
      ]
     },
     "execution_count": 17,
     "metadata": {},
     "output_type": "execute_result"
    }
   ],
   "source": [
    "company_tags[0:4]"
   ]
  },
  {
   "cell_type": "code",
   "execution_count": 18,
   "id": "91d94f41",
   "metadata": {},
   "outputs": [],
   "source": [
    "for i in company_tags:\n",
    "    company1=i.text\n",
    "    company_names.append(company1)\n",
    "    "
   ]
  },
  {
   "cell_type": "code",
   "execution_count": 19,
   "id": "8ea41b46",
   "metadata": {},
   "outputs": [
    {
     "data": {
      "text/plain": [
       "['Flipkart', 'IHS Markit', 'Anlage Infotech (I) Pvt. Ltd.', 'Capco']"
      ]
     },
     "execution_count": 19,
     "metadata": {},
     "output_type": "execute_result"
    }
   ],
   "source": [
    "company_names[0:4]"
   ]
  },
  {
   "cell_type": "code",
   "execution_count": null,
   "id": "ba55f312",
   "metadata": {},
   "outputs": [],
   "source": []
  },
  {
   "cell_type": "code",
   "execution_count": 20,
   "id": "28819144",
   "metadata": {},
   "outputs": [
    {
     "data": {
      "text/plain": [
       "[<selenium.webdriver.remote.webelement.WebElement (session=\"73c8bb3b2498475e5241f953aeea6d50\", element=\"71a7480c-fdc0-4d1f-b409-1c37dfcc33d8\")>,\n",
       " <selenium.webdriver.remote.webelement.WebElement (session=\"73c8bb3b2498475e5241f953aeea6d50\", element=\"2d54d418-3c36-4b69-815c-5bd9f85f2144\")>,\n",
       " <selenium.webdriver.remote.webelement.WebElement (session=\"73c8bb3b2498475e5241f953aeea6d50\", element=\"a28afd2d-0b51-4065-8f31-7bf58fb44481\")>,\n",
       " <selenium.webdriver.remote.webelement.WebElement (session=\"73c8bb3b2498475e5241f953aeea6d50\", element=\"556cedeb-f26c-4e7b-8bba-922c40f96a85\")>]"
      ]
     },
     "execution_count": 20,
     "metadata": {},
     "output_type": "execute_result"
    }
   ],
   "source": [
    "#experience_list\n",
    "\n",
    "exp_tags=dvr.find_elements_by_xpath(\"//li[@class='fleft grey-text br2 placeHolderLi experience']\")\n",
    "exp_tags[0:4]"
   ]
  },
  {
   "cell_type": "code",
   "execution_count": 21,
   "id": "8e813a90",
   "metadata": {},
   "outputs": [],
   "source": [
    "for i in exp_tags:\n",
    "    exp=i.text\n",
    "    experience_req.append(exp)"
   ]
  },
  {
   "cell_type": "code",
   "execution_count": 22,
   "id": "d98244e4",
   "metadata": {},
   "outputs": [
    {
     "data": {
      "text/plain": [
       "['3-7 Yrs', '3-6 Yrs', '5-10 Yrs', '4-7 Yrs']"
      ]
     },
     "execution_count": 22,
     "metadata": {},
     "output_type": "execute_result"
    }
   ],
   "source": [
    "experience_req[0:4]"
   ]
  },
  {
   "cell_type": "code",
   "execution_count": 23,
   "id": "0b6f932d",
   "metadata": {},
   "outputs": [
    {
     "data": {
      "text/plain": [
       "[<selenium.webdriver.remote.webelement.WebElement (session=\"73c8bb3b2498475e5241f953aeea6d50\", element=\"8cb4f845-9614-4211-8c47-99750a11ec56\")>,\n",
       " <selenium.webdriver.remote.webelement.WebElement (session=\"73c8bb3b2498475e5241f953aeea6d50\", element=\"7c318361-69b0-4a53-a243-71894d50c2cb\")>,\n",
       " <selenium.webdriver.remote.webelement.WebElement (session=\"73c8bb3b2498475e5241f953aeea6d50\", element=\"9d6c35ff-4a52-408c-96ba-3795c5d6ed6d\")>,\n",
       " <selenium.webdriver.remote.webelement.WebElement (session=\"73c8bb3b2498475e5241f953aeea6d50\", element=\"78b91d76-f41e-497b-9504-a363d2e68439\")>]"
      ]
     },
     "execution_count": 23,
     "metadata": {},
     "output_type": "execute_result"
    }
   ],
   "source": [
    "#location \n",
    "loc_tags=dvr.find_elements_by_xpath(\"//li[@class='fleft grey-text br2 placeHolderLi location']\")\n",
    "loc_tags[0:4]"
   ]
  },
  {
   "cell_type": "code",
   "execution_count": 24,
   "id": "141db7ac",
   "metadata": {},
   "outputs": [
    {
     "data": {
      "text/plain": [
       "['Bangalore/Bengaluru',\n",
       " 'Gurgaon/Gurugram, Bangalore/Bengaluru',\n",
       " 'Hyderabad/Secunderabad, Bangalore/Bengaluru',\n",
       " 'Bangalore/Bengaluru']"
      ]
     },
     "execution_count": 24,
     "metadata": {},
     "output_type": "execute_result"
    }
   ],
   "source": [
    "for i in loc_tags:\n",
    "    loc=i.text\n",
    "    location_list.append(loc)\n",
    "location_list[0:4]"
   ]
  },
  {
   "cell_type": "code",
   "execution_count": 25,
   "id": "ead97e1d",
   "metadata": {},
   "outputs": [
    {
     "name": "stdout",
     "output_type": "stream",
     "text": [
      "20 20 20 20\n"
     ]
    }
   ],
   "source": [
    "print(len(job_titles), len(company_names),len(location_list),len(experience_req))"
   ]
  },
  {
   "cell_type": "code",
   "execution_count": 26,
   "id": "f4aaea82",
   "metadata": {},
   "outputs": [
    {
     "data": {
      "text/plain": [
       "['Flipkart',\n",
       " 'IHS Markit',\n",
       " 'Anlage Infotech (I) Pvt. Ltd.',\n",
       " 'Capco',\n",
       " 'Flipkart',\n",
       " 'MILLION MINDS INFOTECH PRIVATE LIMITED',\n",
       " 'Vmware',\n",
       " 'CAREERDOST ENTERPRISE',\n",
       " 'TALENT500 TECH (INDIA) PRIVATE LIMITED',\n",
       " 'PayPal',\n",
       " 'upGrad',\n",
       " 'Thomson Reuters',\n",
       " 'Synamedia',\n",
       " 'K12 Techno Services',\n",
       " 'K12 Techno Services Pvt Ltd',\n",
       " 'Leading US MNC into analytics',\n",
       " 'Idyllic Services Pvt Ltd',\n",
       " \"HUDSON'S BAY SERVICES PRIVATE LIMITED\",\n",
       " 'VOLVO ASSET FINANCE INDIA PRIVATE LIMITED',\n",
       " 'Myntra']"
      ]
     },
     "execution_count": 26,
     "metadata": {},
     "output_type": "execute_result"
    }
   ],
   "source": [
    "company2=company_names[0:20]\n",
    "company2"
   ]
  },
  {
   "cell_type": "code",
   "execution_count": 27,
   "id": "489dcf92",
   "metadata": {},
   "outputs": [],
   "source": [
    "jobs=pd.DataFrame({})\n",
    "jobs['Title']=job_titles\n",
    "jobs['Company']=company2\n",
    "jobs['Experience']=location_list\n",
    "jobs['Location']=experience_req"
   ]
  },
  {
   "cell_type": "code",
   "execution_count": 28,
   "id": "2340ed3c",
   "metadata": {},
   "outputs": [
    {
     "data": {
      "text/html": [
       "<div>\n",
       "<style scoped>\n",
       "    .dataframe tbody tr th:only-of-type {\n",
       "        vertical-align: middle;\n",
       "    }\n",
       "\n",
       "    .dataframe tbody tr th {\n",
       "        vertical-align: top;\n",
       "    }\n",
       "\n",
       "    .dataframe thead th {\n",
       "        text-align: right;\n",
       "    }\n",
       "</style>\n",
       "<table border=\"1\" class=\"dataframe\">\n",
       "  <thead>\n",
       "    <tr style=\"text-align: right;\">\n",
       "      <th></th>\n",
       "      <th>Title</th>\n",
       "      <th>Company</th>\n",
       "      <th>Experience</th>\n",
       "      <th>Location</th>\n",
       "    </tr>\n",
       "  </thead>\n",
       "  <tbody>\n",
       "    <tr>\n",
       "      <th>0</th>\n",
       "      <td>Senior Data Analyst</td>\n",
       "      <td>Flipkart</td>\n",
       "      <td>Bangalore/Bengaluru</td>\n",
       "      <td>3-7 Yrs</td>\n",
       "    </tr>\n",
       "    <tr>\n",
       "      <th>1</th>\n",
       "      <td>Sr Data Analyst II</td>\n",
       "      <td>IHS Markit</td>\n",
       "      <td>Gurgaon/Gurugram, Bangalore/Bengaluru</td>\n",
       "      <td>3-6 Yrs</td>\n",
       "    </tr>\n",
       "    <tr>\n",
       "      <th>2</th>\n",
       "      <td>Business analyst + data Analysis</td>\n",
       "      <td>Anlage Infotech (I) Pvt. Ltd.</td>\n",
       "      <td>Hyderabad/Secunderabad, Bangalore/Bengaluru</td>\n",
       "      <td>5-10 Yrs</td>\n",
       "    </tr>\n",
       "    <tr>\n",
       "      <th>3</th>\n",
       "      <td>Data Analyst - Alteryx</td>\n",
       "      <td>Capco</td>\n",
       "      <td>Bangalore/Bengaluru</td>\n",
       "      <td>4-7 Yrs</td>\n",
       "    </tr>\n",
       "    <tr>\n",
       "      <th>4</th>\n",
       "      <td>Consultant - Data Analyst</td>\n",
       "      <td>Flipkart</td>\n",
       "      <td>Bangalore/Bengaluru</td>\n",
       "      <td>1-3 Yrs</td>\n",
       "    </tr>\n",
       "    <tr>\n",
       "      <th>5</th>\n",
       "      <td>Hiring For Data Analyst with SAP ABAP &amp; BW - C...</td>\n",
       "      <td>MILLION MINDS INFOTECH PRIVATE LIMITED</td>\n",
       "      <td>Bangalore/Bengaluru\\n(WFH during Covid)</td>\n",
       "      <td>7-10 Yrs</td>\n",
       "    </tr>\n",
       "    <tr>\n",
       "      <th>6</th>\n",
       "      <td>Senior Business Analyst - Data Sciences and Ad...</td>\n",
       "      <td>Vmware</td>\n",
       "      <td>Bangalore/Bengaluru</td>\n",
       "      <td>3-7 Yrs</td>\n",
       "    </tr>\n",
       "    <tr>\n",
       "      <th>7</th>\n",
       "      <td>Business and Data Analyst</td>\n",
       "      <td>CAREERDOST ENTERPRISE</td>\n",
       "      <td>Bangalore/Bengaluru\\n(WFH during Covid)</td>\n",
       "      <td>0-5 Yrs</td>\n",
       "    </tr>\n",
       "    <tr>\n",
       "      <th>8</th>\n",
       "      <td>Senior Data Analyst | Lululemon</td>\n",
       "      <td>TALENT500 TECH (INDIA) PRIVATE LIMITED</td>\n",
       "      <td>Bangalore/Bengaluru</td>\n",
       "      <td>5-8 Yrs</td>\n",
       "    </tr>\n",
       "    <tr>\n",
       "      <th>9</th>\n",
       "      <td>Data Analyst 2</td>\n",
       "      <td>PayPal</td>\n",
       "      <td>Bangalore/Bengaluru</td>\n",
       "      <td>1-3 Yrs</td>\n",
       "    </tr>\n",
       "    <tr>\n",
       "      <th>10</th>\n",
       "      <td>Urgent hiring For Senior Data Analyst</td>\n",
       "      <td>upGrad</td>\n",
       "      <td>Bangalore/Bengaluru</td>\n",
       "      <td>2-7 Yrs</td>\n",
       "    </tr>\n",
       "    <tr>\n",
       "      <th>11</th>\n",
       "      <td>Senior Data Analyst</td>\n",
       "      <td>Thomson Reuters</td>\n",
       "      <td>Bangalore/Bengaluru</td>\n",
       "      <td>2-4 Yrs</td>\n",
       "    </tr>\n",
       "    <tr>\n",
       "      <th>12</th>\n",
       "      <td>Data Analyst- customer facing</td>\n",
       "      <td>Synamedia</td>\n",
       "      <td>Bangalore/Bengaluru</td>\n",
       "      <td>0-3 Yrs</td>\n",
       "    </tr>\n",
       "    <tr>\n",
       "      <th>13</th>\n",
       "      <td>MIS Data Analyst (Sales Analytics) - Bangalore</td>\n",
       "      <td>K12 Techno Services</td>\n",
       "      <td>Bangalore/Bengaluru</td>\n",
       "      <td>3-8 Yrs</td>\n",
       "    </tr>\n",
       "    <tr>\n",
       "      <th>14</th>\n",
       "      <td>Data Analyst - IIM/ISB/MDI/FMS/SP Jain</td>\n",
       "      <td>K12 Techno Services Pvt Ltd</td>\n",
       "      <td>Bangalore/Bengaluru</td>\n",
       "      <td>4-9 Yrs</td>\n",
       "    </tr>\n",
       "    <tr>\n",
       "      <th>15</th>\n",
       "      <td>SAS Analyst / data Analyst / Business analyst ...</td>\n",
       "      <td>Leading US MNC into analytics</td>\n",
       "      <td>Bangalore/Bengaluru, Delhi / NCR, Mumbai (All ...</td>\n",
       "      <td>2-7 Yrs</td>\n",
       "    </tr>\n",
       "    <tr>\n",
       "      <th>16</th>\n",
       "      <td>Senior Data Analyst</td>\n",
       "      <td>Idyllic Services Pvt Ltd</td>\n",
       "      <td>Pune, Chennai, Gurgaon/Gurugram, Bangalore/Ben...</td>\n",
       "      <td>7-12 Yrs</td>\n",
       "    </tr>\n",
       "    <tr>\n",
       "      <th>17</th>\n",
       "      <td>Analyst, Item Data</td>\n",
       "      <td>HUDSON'S BAY SERVICES PRIVATE LIMITED</td>\n",
       "      <td>Bangalore/Bengaluru</td>\n",
       "      <td>0-2 Yrs</td>\n",
       "    </tr>\n",
       "    <tr>\n",
       "      <th>18</th>\n",
       "      <td>Data Analyst</td>\n",
       "      <td>VOLVO ASSET FINANCE INDIA PRIVATE LIMITED</td>\n",
       "      <td>Bangalore/Bengaluru</td>\n",
       "      <td>2-4 Yrs</td>\n",
       "    </tr>\n",
       "    <tr>\n",
       "      <th>19</th>\n",
       "      <td>Data Analyst - Python / SQL</td>\n",
       "      <td>Myntra</td>\n",
       "      <td>Bangalore/Bengaluru</td>\n",
       "      <td>1-4 Yrs</td>\n",
       "    </tr>\n",
       "  </tbody>\n",
       "</table>\n",
       "</div>"
      ],
      "text/plain": [
       "                                                Title  \\\n",
       "0                                 Senior Data Analyst   \n",
       "1                                  Sr Data Analyst II   \n",
       "2                    Business analyst + data Analysis   \n",
       "3                              Data Analyst - Alteryx   \n",
       "4                           Consultant - Data Analyst   \n",
       "5   Hiring For Data Analyst with SAP ABAP & BW - C...   \n",
       "6   Senior Business Analyst - Data Sciences and Ad...   \n",
       "7                           Business and Data Analyst   \n",
       "8                     Senior Data Analyst | Lululemon   \n",
       "9                                      Data Analyst 2   \n",
       "10              Urgent hiring For Senior Data Analyst   \n",
       "11                                Senior Data Analyst   \n",
       "12                      Data Analyst- customer facing   \n",
       "13     MIS Data Analyst (Sales Analytics) - Bangalore   \n",
       "14             Data Analyst - IIM/ISB/MDI/FMS/SP Jain   \n",
       "15  SAS Analyst / data Analyst / Business analyst ...   \n",
       "16                                Senior Data Analyst   \n",
       "17                                 Analyst, Item Data   \n",
       "18                                       Data Analyst   \n",
       "19                        Data Analyst - Python / SQL   \n",
       "\n",
       "                                      Company  \\\n",
       "0                                    Flipkart   \n",
       "1                                  IHS Markit   \n",
       "2               Anlage Infotech (I) Pvt. Ltd.   \n",
       "3                                       Capco   \n",
       "4                                    Flipkart   \n",
       "5      MILLION MINDS INFOTECH PRIVATE LIMITED   \n",
       "6                                      Vmware   \n",
       "7                       CAREERDOST ENTERPRISE   \n",
       "8      TALENT500 TECH (INDIA) PRIVATE LIMITED   \n",
       "9                                      PayPal   \n",
       "10                                     upGrad   \n",
       "11                            Thomson Reuters   \n",
       "12                                  Synamedia   \n",
       "13                        K12 Techno Services   \n",
       "14                K12 Techno Services Pvt Ltd   \n",
       "15              Leading US MNC into analytics   \n",
       "16                   Idyllic Services Pvt Ltd   \n",
       "17      HUDSON'S BAY SERVICES PRIVATE LIMITED   \n",
       "18  VOLVO ASSET FINANCE INDIA PRIVATE LIMITED   \n",
       "19                                     Myntra   \n",
       "\n",
       "                                           Experience  Location  \n",
       "0                                 Bangalore/Bengaluru   3-7 Yrs  \n",
       "1               Gurgaon/Gurugram, Bangalore/Bengaluru   3-6 Yrs  \n",
       "2         Hyderabad/Secunderabad, Bangalore/Bengaluru  5-10 Yrs  \n",
       "3                                 Bangalore/Bengaluru   4-7 Yrs  \n",
       "4                                 Bangalore/Bengaluru   1-3 Yrs  \n",
       "5             Bangalore/Bengaluru\\n(WFH during Covid)  7-10 Yrs  \n",
       "6                                 Bangalore/Bengaluru   3-7 Yrs  \n",
       "7             Bangalore/Bengaluru\\n(WFH during Covid)   0-5 Yrs  \n",
       "8                                 Bangalore/Bengaluru   5-8 Yrs  \n",
       "9                                 Bangalore/Bengaluru   1-3 Yrs  \n",
       "10                                Bangalore/Bengaluru   2-7 Yrs  \n",
       "11                                Bangalore/Bengaluru   2-4 Yrs  \n",
       "12                                Bangalore/Bengaluru   0-3 Yrs  \n",
       "13                                Bangalore/Bengaluru   3-8 Yrs  \n",
       "14                                Bangalore/Bengaluru   4-9 Yrs  \n",
       "15  Bangalore/Bengaluru, Delhi / NCR, Mumbai (All ...   2-7 Yrs  \n",
       "16  Pune, Chennai, Gurgaon/Gurugram, Bangalore/Ben...  7-12 Yrs  \n",
       "17                                Bangalore/Bengaluru   0-2 Yrs  \n",
       "18                                Bangalore/Bengaluru   2-4 Yrs  \n",
       "19                                Bangalore/Bengaluru   1-4 Yrs  "
      ]
     },
     "execution_count": 28,
     "metadata": {},
     "output_type": "execute_result"
    }
   ],
   "source": [
    "jobs"
   ]
  },
  {
   "cell_type": "code",
   "execution_count": null,
   "id": "d50ed109",
   "metadata": {},
   "outputs": [],
   "source": []
  },
  {
   "cell_type": "code",
   "execution_count": 29,
   "id": "fd700521",
   "metadata": {},
   "outputs": [],
   "source": [
    "import selenium\n",
    "from selenium import webdriver\n",
    "import pandas as pd\n",
    "import warnings\n",
    "warnings.filterwarnings('ignore')\n",
    "import time"
   ]
  },
  {
   "cell_type": "code",
   "execution_count": 113,
   "id": "62bfc398",
   "metadata": {},
   "outputs": [],
   "source": [
    "dvr2=webdriver.Chrome('C:\\webdriver\\chromedriver')"
   ]
  },
  {
   "cell_type": "code",
   "execution_count": null,
   "id": "12846547",
   "metadata": {},
   "outputs": [],
   "source": []
  },
  {
   "cell_type": "code",
   "execution_count": 31,
   "id": "1e7a61fa",
   "metadata": {},
   "outputs": [],
   "source": [
    "dvr2.get('http://www.naukri.com/')"
   ]
  },
  {
   "cell_type": "code",
   "execution_count": 32,
   "id": "f1b6f14e",
   "metadata": {},
   "outputs": [],
   "source": [
    "srch2a=dvr2.find_element_by_class_name(\"suggestor-input \")\n",
    "srch2a.send_keys(\"Data Analyst\")"
   ]
  },
  {
   "cell_type": "code",
   "execution_count": 33,
   "id": "0461e4cb",
   "metadata": {},
   "outputs": [],
   "source": [
    "srch2b=dvr2.find_element_by_xpath(\"/html/body/div/div[2]/div[3]/div/div/div[3]/div/div/div/input\")\n",
    "srch2b.send_keys(\"Banglore\")"
   ]
  },
  {
   "cell_type": "code",
   "execution_count": 34,
   "id": "93c0f6de",
   "metadata": {},
   "outputs": [],
   "source": [
    "srch_but=dvr2.find_element_by_xpath(\"/html/body/div/div[2]/div[3]/div/div/div[6]\")\n",
    "srch_but.click()"
   ]
  },
  {
   "cell_type": "code",
   "execution_count": 35,
   "id": "59caf524",
   "metadata": {},
   "outputs": [
    {
     "data": {
      "text/plain": [
       "[<selenium.webdriver.remote.webelement.WebElement (session=\"bfbfa692d5e2dc59ed6dc17e94fa928c\", element=\"d291a64e-1a06-4ab9-963a-e6b4cfde3a8d\")>,\n",
       " <selenium.webdriver.remote.webelement.WebElement (session=\"bfbfa692d5e2dc59ed6dc17e94fa928c\", element=\"3d22bfaa-fb38-411b-8a1e-ab09e1b09315\")>,\n",
       " <selenium.webdriver.remote.webelement.WebElement (session=\"bfbfa692d5e2dc59ed6dc17e94fa928c\", element=\"49f013ab-8a90-4c5e-adaf-a642f8c4c964\")>,\n",
       " <selenium.webdriver.remote.webelement.WebElement (session=\"bfbfa692d5e2dc59ed6dc17e94fa928c\", element=\"c0e69538-351a-430a-b13c-e7815e430a37\")>,\n",
       " <selenium.webdriver.remote.webelement.WebElement (session=\"bfbfa692d5e2dc59ed6dc17e94fa928c\", element=\"3acaf5b1-7b6b-4ee7-99e9-d0d79cced38a\")>]"
      ]
     },
     "execution_count": 35,
     "metadata": {},
     "output_type": "execute_result"
    }
   ],
   "source": [
    "jobtitles=[]\n",
    "\n",
    "t2=dvr2.find_elements_by_xpath(\"//a[@class='title fw500 ellipsis']\")\n",
    "t2[0:5]"
   ]
  },
  {
   "cell_type": "code",
   "execution_count": 36,
   "id": "6bb11f6f",
   "metadata": {},
   "outputs": [
    {
     "data": {
      "text/plain": [
       "['Senior Data Analyst',\n",
       " 'Sr Data Analyst II',\n",
       " 'Business analyst + data Analysis',\n",
       " 'Data Analyst - Alteryx']"
      ]
     },
     "execution_count": 36,
     "metadata": {},
     "output_type": "execute_result"
    }
   ],
   "source": [
    "for i in t2:\n",
    "    title=i.text\n",
    "    jobtitles.append(title)\n",
    "jobtitles[0:4]"
   ]
  },
  {
   "cell_type": "code",
   "execution_count": 37,
   "id": "7d03b878",
   "metadata": {},
   "outputs": [
    {
     "data": {
      "text/plain": [
       "['Flipkart', 'IHS Markit', 'Anlage Infotech (I) Pvt. Ltd.', 'Capco']"
      ]
     },
     "execution_count": 37,
     "metadata": {},
     "output_type": "execute_result"
    }
   ],
   "source": [
    "companynames=[]\n",
    "c2=dvr2.find_elements_by_xpath(\"//a[@class='subTitle ellipsis fleft']\")\n",
    "c2[0:4]\n",
    "for i in c2:\n",
    "    company=i.text\n",
    "    companynames.append(company)\n",
    "    \n",
    "companynames[0:4]"
   ]
  },
  {
   "cell_type": "code",
   "execution_count": 38,
   "id": "b02d35b1",
   "metadata": {},
   "outputs": [
    {
     "data": {
      "text/plain": [
       "['Bangalore/Bengaluru',\n",
       " 'Gurgaon/Gurugram, Bangalore/Bengaluru',\n",
       " 'Hyderabad/Secunderabad, Bangalore/Bengaluru',\n",
       " 'Bangalore/Bengaluru']"
      ]
     },
     "execution_count": 38,
     "metadata": {},
     "output_type": "execute_result"
    }
   ],
   "source": [
    "locationlist=[]\n",
    "\n",
    "l2=dvr2.find_elements_by_xpath(\"//li[@class='fleft grey-text br2 placeHolderLi location']\")\n",
    "l2[0:4]\n",
    "for i in l2:\n",
    "    loc=i.text\n",
    "    locationlist.append(loc)\n",
    "locationlist[0:4]"
   ]
  },
  {
   "cell_type": "code",
   "execution_count": 39,
   "id": "6ea34b3c",
   "metadata": {},
   "outputs": [
    {
     "data": {
      "text/plain": [
       "['3-7 Yrs', '3-6 Yrs', '5-10 Yrs', '4-7 Yrs']"
      ]
     },
     "execution_count": 39,
     "metadata": {},
     "output_type": "execute_result"
    }
   ],
   "source": [
    "experiencelist=[]\n",
    "e2=dvr2.find_elements_by_xpath(\"//li[@class='fleft grey-text br2 placeHolderLi experience']\")\n",
    "for i in e2:\n",
    "    exp=i.text\n",
    "    experiencelist.append(exp)\n",
    "    \n",
    "experiencelist[0:4]"
   ]
  },
  {
   "cell_type": "code",
   "execution_count": 40,
   "id": "2b64aba5",
   "metadata": {},
   "outputs": [
    {
     "name": "stdout",
     "output_type": "stream",
     "text": [
      "20 20 20 20\n"
     ]
    }
   ],
   "source": [
    "print(len(experiencelist), len(locationlist),len(companynames),len(jobtitles))"
   ]
  },
  {
   "cell_type": "code",
   "execution_count": 41,
   "id": "4878e000",
   "metadata": {},
   "outputs": [],
   "source": [
    "jobtitles2=jobtitles[0:20]\n"
   ]
  },
  {
   "cell_type": "code",
   "execution_count": 42,
   "id": "7f7e478b",
   "metadata": {},
   "outputs": [
    {
     "data": {
      "text/html": [
       "<div>\n",
       "<style scoped>\n",
       "    .dataframe tbody tr th:only-of-type {\n",
       "        vertical-align: middle;\n",
       "    }\n",
       "\n",
       "    .dataframe tbody tr th {\n",
       "        vertical-align: top;\n",
       "    }\n",
       "\n",
       "    .dataframe thead th {\n",
       "        text-align: right;\n",
       "    }\n",
       "</style>\n",
       "<table border=\"1\" class=\"dataframe\">\n",
       "  <thead>\n",
       "    <tr style=\"text-align: right;\">\n",
       "      <th></th>\n",
       "      <th>Jobs</th>\n",
       "      <th>Company</th>\n",
       "      <th>Location</th>\n",
       "      <th>Experience</th>\n",
       "    </tr>\n",
       "  </thead>\n",
       "  <tbody>\n",
       "    <tr>\n",
       "      <th>0</th>\n",
       "      <td>Senior Data Analyst</td>\n",
       "      <td>Flipkart</td>\n",
       "      <td>Bangalore/Bengaluru</td>\n",
       "      <td>3-7 Yrs</td>\n",
       "    </tr>\n",
       "    <tr>\n",
       "      <th>1</th>\n",
       "      <td>Sr Data Analyst II</td>\n",
       "      <td>IHS Markit</td>\n",
       "      <td>Gurgaon/Gurugram, Bangalore/Bengaluru</td>\n",
       "      <td>3-6 Yrs</td>\n",
       "    </tr>\n",
       "    <tr>\n",
       "      <th>2</th>\n",
       "      <td>Business analyst + data Analysis</td>\n",
       "      <td>Anlage Infotech (I) Pvt. Ltd.</td>\n",
       "      <td>Hyderabad/Secunderabad, Bangalore/Bengaluru</td>\n",
       "      <td>5-10 Yrs</td>\n",
       "    </tr>\n",
       "    <tr>\n",
       "      <th>3</th>\n",
       "      <td>Data Analyst - Alteryx</td>\n",
       "      <td>Capco</td>\n",
       "      <td>Bangalore/Bengaluru</td>\n",
       "      <td>4-7 Yrs</td>\n",
       "    </tr>\n",
       "  </tbody>\n",
       "</table>\n",
       "</div>"
      ],
      "text/plain": [
       "                               Jobs                        Company  \\\n",
       "0               Senior Data Analyst                       Flipkart   \n",
       "1                Sr Data Analyst II                     IHS Markit   \n",
       "2  Business analyst + data Analysis  Anlage Infotech (I) Pvt. Ltd.   \n",
       "3            Data Analyst - Alteryx                          Capco   \n",
       "\n",
       "                                      Location Experience  \n",
       "0                          Bangalore/Bengaluru    3-7 Yrs  \n",
       "1        Gurgaon/Gurugram, Bangalore/Bengaluru    3-6 Yrs  \n",
       "2  Hyderabad/Secunderabad, Bangalore/Bengaluru   5-10 Yrs  \n",
       "3                          Bangalore/Bengaluru    4-7 Yrs  "
      ]
     },
     "execution_count": 42,
     "metadata": {},
     "output_type": "execute_result"
    }
   ],
   "source": [
    "df2=pd.DataFrame({'Jobs':jobtitles2, 'Company':companynames, 'Location':locationlist, 'Experience': experiencelist})\n",
    "df2[0:4]"
   ]
  },
  {
   "cell_type": "code",
   "execution_count": null,
   "id": "c30deb07",
   "metadata": {},
   "outputs": [],
   "source": []
  },
  {
   "cell_type": "markdown",
   "id": "42167eec",
   "metadata": {},
   "source": [
    "# Q4"
   ]
  },
  {
   "cell_type": "code",
   "execution_count": 43,
   "id": "8615ad75",
   "metadata": {},
   "outputs": [],
   "source": [
    "dvr2.get('http://www.flipkart.com/')"
   ]
  },
  {
   "cell_type": "code",
   "execution_count": 44,
   "id": "c1ef3d81",
   "metadata": {},
   "outputs": [],
   "source": [
    "srch4=dvr2.find_element_by_xpath('/html/body/div[1]/div/div[1]/div[1]/div[2]/div[2]/form/div/div/input')\n",
    "srch4.send_keys('sunglassses')"
   ]
  },
  {
   "cell_type": "code",
   "execution_count": 47,
   "id": "f62c2ecf",
   "metadata": {},
   "outputs": [],
   "source": [
    "srch4_but=dvr2.find_element_by_xpath('/html/body/div[1]/div/div[1]/div[1]/div[2]/div[2]/form/div/button')\n",
    "srch4_but.click()"
   ]
  },
  {
   "cell_type": "code",
   "execution_count": 48,
   "id": "5a66c220",
   "metadata": {},
   "outputs": [],
   "source": [
    "pplist4=[]\n",
    "for i in range(0,3):\n",
    "    pname=dvr2.find_elements_by_xpath(\"//a[@class='IRpwTa']\")\n",
    "    \n",
    "    for i in pname:\n",
    "        product=i.text\n",
    "        pplist4.append(product)\n",
    "    nxt_but4=dvr2.find_element_by_xpath('/html/body/div[1]/div/div[3]/div[1]/div[2]/div[12]/div/div/nav/a[11]')\n",
    "    nxt_but4.click()\n",
    "    time.sleep(5)"
   ]
  },
  {
   "cell_type": "code",
   "execution_count": 49,
   "id": "87ed66d0",
   "metadata": {},
   "outputs": [
    {
     "data": {
      "text/plain": [
       "119"
      ]
     },
     "execution_count": 49,
     "metadata": {},
     "output_type": "execute_result"
    }
   ],
   "source": [
    "len(pplist4)"
   ]
  },
  {
   "cell_type": "code",
   "execution_count": 50,
   "id": "6ddf4dda",
   "metadata": {},
   "outputs": [
    {
     "data": {
      "text/plain": [
       "['UV Protection Wayfarer Sunglasses (Free Size)',\n",
       " 'UV Protection, Polarized Wayfarer Sunglasses (Free Size...',\n",
       " 'UV Protection Rectangular Sunglasses (Free Size)',\n",
       " 'Gradient, Toughened Glass Lens, UV Protection Retro Squ...']"
      ]
     },
     "execution_count": 50,
     "metadata": {},
     "output_type": "execute_result"
    }
   ],
   "source": [
    "plist4a=pplist4[0:100]\n",
    "plist4a[0:4]"
   ]
  },
  {
   "cell_type": "code",
   "execution_count": 51,
   "id": "b90790b5",
   "metadata": {},
   "outputs": [
    {
     "data": {
      "text/plain": [
       "['VINCENT CHASE', 'PETER JONES', 'elegante', 'NuVew']"
      ]
     },
     "execution_count": 51,
     "metadata": {},
     "output_type": "execute_result"
    }
   ],
   "source": [
    "clist4=[]\n",
    "for i in range(0,3):\n",
    "    cname=dvr2.find_elements_by_xpath(\"//div[@class='_2WkVRV']\")\n",
    "    \n",
    "    for i in cname:\n",
    "        company=i.text\n",
    "        clist4.append(company)\n",
    "    nxt_but4=dvr2.find_element_by_xpath('/html/body/div[1]/div/div[3]/div[1]/div[2]/div[12]/div/div/nav/a[11]')\n",
    "    nxt_but4.click()\n",
    "    time.sleep(6)\n",
    "clist4[0:4]"
   ]
  },
  {
   "cell_type": "code",
   "execution_count": 52,
   "id": "ae8e96e5",
   "metadata": {},
   "outputs": [],
   "source": [
    "clist4a=clist4[0:100]"
   ]
  },
  {
   "cell_type": "code",
   "execution_count": 53,
   "id": "b72b34f0",
   "metadata": {},
   "outputs": [],
   "source": [
    "prlist4=[]\n",
    "for i in range(0,3):\n",
    "    prname=dvr2.find_elements_by_xpath(\"//div[@class='_30jeq3']\")\n",
    "    \n",
    "    for i in prname:\n",
    "        price=i.text\n",
    "        prlist4.append(price)\n",
    "    nxt_but4=dvr2.find_element_by_xpath('/html/body/div[1]/div/div[3]/div[1]/div[2]/div[12]/div/div/nav/a[11]')\n",
    "    nxt_but4.click()\n",
    "    time.sleep(6)"
   ]
  },
  {
   "cell_type": "code",
   "execution_count": 54,
   "id": "9da34ab8",
   "metadata": {},
   "outputs": [
    {
     "data": {
      "text/plain": [
       "['₹599', '₹278', '₹197', '₹198']"
      ]
     },
     "execution_count": 54,
     "metadata": {},
     "output_type": "execute_result"
    }
   ],
   "source": [
    "prlist4[0:4]"
   ]
  },
  {
   "cell_type": "code",
   "execution_count": 55,
   "id": "d5b676d9",
   "metadata": {},
   "outputs": [],
   "source": [
    "prlist4a=prlist4[0:100]"
   ]
  },
  {
   "cell_type": "code",
   "execution_count": 56,
   "id": "ec26f59e",
   "metadata": {},
   "outputs": [
    {
     "data": {
      "text/plain": [
       "['70% off', '77% off', '86% off', '80% off']"
      ]
     },
     "execution_count": 56,
     "metadata": {},
     "output_type": "execute_result"
    }
   ],
   "source": [
    "dlist4=[]\n",
    "for i in range(0,3):\n",
    "    dname=dvr2.find_elements_by_xpath(\"//div[@class='_3Ay6Sb']\")\n",
    "    \n",
    "    for i in dname:\n",
    "        discount=i.text\n",
    "        dlist4.append(discount)\n",
    "    nxt_but4=dvr2.find_element_by_xpath('/html/body/div[1]/div/div[3]/div[1]/div[2]/div[12]/div/div/nav/a[11]')\n",
    "    nxt_but4.click()\n",
    "    time.sleep(6)\n",
    "dlist4[0:4]"
   ]
  },
  {
   "cell_type": "code",
   "execution_count": 57,
   "id": "4d203e57",
   "metadata": {},
   "outputs": [],
   "source": [
    "dlist4a=dlist4[0:100]"
   ]
  },
  {
   "cell_type": "code",
   "execution_count": 58,
   "id": "6b693d09",
   "metadata": {},
   "outputs": [
    {
     "data": {
      "text/plain": [
       "100"
      ]
     },
     "execution_count": 58,
     "metadata": {},
     "output_type": "execute_result"
    }
   ],
   "source": [
    "len(dlist4a)"
   ]
  },
  {
   "cell_type": "code",
   "execution_count": 59,
   "id": "85fa2b47",
   "metadata": {},
   "outputs": [
    {
     "data": {
      "text/html": [
       "<div>\n",
       "<style scoped>\n",
       "    .dataframe tbody tr th:only-of-type {\n",
       "        vertical-align: middle;\n",
       "    }\n",
       "\n",
       "    .dataframe tbody tr th {\n",
       "        vertical-align: top;\n",
       "    }\n",
       "\n",
       "    .dataframe thead th {\n",
       "        text-align: right;\n",
       "    }\n",
       "</style>\n",
       "<table border=\"1\" class=\"dataframe\">\n",
       "  <thead>\n",
       "    <tr style=\"text-align: right;\">\n",
       "      <th></th>\n",
       "      <th>Product Name</th>\n",
       "      <th>Company Name</th>\n",
       "      <th>Price</th>\n",
       "      <th>Discount</th>\n",
       "    </tr>\n",
       "  </thead>\n",
       "  <tbody>\n",
       "    <tr>\n",
       "      <th>0</th>\n",
       "      <td>UV Protection Wayfarer Sunglasses (Free Size)</td>\n",
       "      <td>VINCENT CHASE</td>\n",
       "      <td>₹599</td>\n",
       "      <td>70% off</td>\n",
       "    </tr>\n",
       "    <tr>\n",
       "      <th>1</th>\n",
       "      <td>UV Protection, Polarized Wayfarer Sunglasses (...</td>\n",
       "      <td>PETER JONES</td>\n",
       "      <td>₹278</td>\n",
       "      <td>77% off</td>\n",
       "    </tr>\n",
       "    <tr>\n",
       "      <th>2</th>\n",
       "      <td>UV Protection Rectangular Sunglasses (Free Size)</td>\n",
       "      <td>elegante</td>\n",
       "      <td>₹197</td>\n",
       "      <td>86% off</td>\n",
       "    </tr>\n",
       "    <tr>\n",
       "      <th>3</th>\n",
       "      <td>Gradient, Toughened Glass Lens, UV Protection ...</td>\n",
       "      <td>NuVew</td>\n",
       "      <td>₹198</td>\n",
       "      <td>80% off</td>\n",
       "    </tr>\n",
       "    <tr>\n",
       "      <th>4</th>\n",
       "      <td>UV Protection Aviator Sunglasses (54)</td>\n",
       "      <td>Ray-Ban</td>\n",
       "      <td>₹759</td>\n",
       "      <td>62% off</td>\n",
       "    </tr>\n",
       "  </tbody>\n",
       "</table>\n",
       "</div>"
      ],
      "text/plain": [
       "                                        Product Name   Company Name Price  \\\n",
       "0      UV Protection Wayfarer Sunglasses (Free Size)  VINCENT CHASE  ₹599   \n",
       "1  UV Protection, Polarized Wayfarer Sunglasses (...    PETER JONES  ₹278   \n",
       "2   UV Protection Rectangular Sunglasses (Free Size)       elegante  ₹197   \n",
       "3  Gradient, Toughened Glass Lens, UV Protection ...          NuVew  ₹198   \n",
       "4              UV Protection Aviator Sunglasses (54)        Ray-Ban  ₹759   \n",
       "\n",
       "  Discount  \n",
       "0  70% off  \n",
       "1  77% off  \n",
       "2  86% off  \n",
       "3  80% off  \n",
       "4  62% off  "
      ]
     },
     "execution_count": 59,
     "metadata": {},
     "output_type": "execute_result"
    }
   ],
   "source": [
    "df4=pd.DataFrame({\"Product Name\":plist4a , \"Company Name\":clist4a , \"Price\":prlist4a , \"Discount\":dlist4a})\n",
    "df4[0:5]"
   ]
  },
  {
   "cell_type": "markdown",
   "id": "a52667ec",
   "metadata": {},
   "source": [
    "# Q6"
   ]
  },
  {
   "cell_type": "code",
   "execution_count": 60,
   "id": "efec8cf4",
   "metadata": {},
   "outputs": [],
   "source": [
    "dvr2.get(\"https://www.flipkart.com/\")"
   ]
  },
  {
   "cell_type": "code",
   "execution_count": 61,
   "id": "dc32d4f7",
   "metadata": {},
   "outputs": [],
   "source": [
    "srch6=dvr2.find_element_by_xpath(\"/html/body/div/div/div[1]/div[1]/div[2]/div[2]/form/div/div/input\")\n",
    "srch6.send_keys(\"sneakers\")"
   ]
  },
  {
   "cell_type": "code",
   "execution_count": 62,
   "id": "65dbcc61",
   "metadata": {},
   "outputs": [],
   "source": [
    "srch_but6=dvr2.find_element_by_xpath(\"/html/body/div/div/div[1]/div[1]/div[2]/div[2]/form/div/button\")\n",
    "srch_but6.click()"
   ]
  },
  {
   "cell_type": "code",
   "execution_count": 67,
   "id": "7dfa1632",
   "metadata": {},
   "outputs": [],
   "source": [
    "plist6=[]\n",
    "for i in range(0,4):\n",
    "    pname6=dvr2.find_elements_by_xpath(\"//a[@class='IRpwTa']\")\n",
    "    \n",
    "    for i in pname6:\n",
    "        product6=i.text\n",
    "        plist6.append(product6)\n",
    "    nxt_but6=dvr2.find_element_by_xpath('/html/body/div[1]/div/div[3]/div[1]/div[2]/div[12]/div/div/nav/a[11]')\n",
    "    nxt_but6.click()\n",
    "    time.sleep(5)"
   ]
  },
  {
   "cell_type": "code",
   "execution_count": 68,
   "id": "e0d82294",
   "metadata": {},
   "outputs": [
    {
     "data": {
      "text/plain": [
       "['Fashionable casual sneakers shoes Sneakers For Men',\n",
       " 'Lazy Knit Slip On Sneakers For Men',\n",
       " 'Sneakers For Men']"
      ]
     },
     "execution_count": 68,
     "metadata": {},
     "output_type": "execute_result"
    }
   ],
   "source": [
    "plist6a=plist6[0:100]\n",
    "plist6a[0:3]"
   ]
  },
  {
   "cell_type": "code",
   "execution_count": 69,
   "id": "687d8fb8",
   "metadata": {},
   "outputs": [
    {
     "data": {
      "text/plain": [
       "100"
      ]
     },
     "execution_count": 69,
     "metadata": {},
     "output_type": "execute_result"
    }
   ],
   "source": [
    "len(plist6a)"
   ]
  },
  {
   "cell_type": "code",
   "execution_count": 70,
   "id": "41c11440",
   "metadata": {},
   "outputs": [],
   "source": [
    "blist6=[]\n",
    "for i in range(0,3):\n",
    "    bname6=dvr2.find_elements_by_xpath(\"//div[@class='_2WkVRV']\")\n",
    "    \n",
    "    for i in bname6:\n",
    "        company6=i.text\n",
    "        blist6.append(company6)\n",
    "    nxt_but6=dvr2.find_element_by_xpath('/html/body/div[1]/div/div[3]/div[1]/div[2]/div[12]/div/div/nav/a[11]')\n",
    "    nxt_but6.click()\n",
    "    time.sleep(5)"
   ]
  },
  {
   "cell_type": "code",
   "execution_count": 72,
   "id": "8b443cc8",
   "metadata": {},
   "outputs": [
    {
     "data": {
      "text/plain": [
       "['KANEGGYE', 'NAUTICA', 'PUMA', 'HOC']"
      ]
     },
     "execution_count": 72,
     "metadata": {},
     "output_type": "execute_result"
    }
   ],
   "source": [
    "blist6a=blist6[0:100]\n",
    "blist6a[0:4]"
   ]
  },
  {
   "cell_type": "code",
   "execution_count": 73,
   "id": "d78e920e",
   "metadata": {},
   "outputs": [
    {
     "data": {
      "text/plain": [
       "100"
      ]
     },
     "execution_count": 73,
     "metadata": {},
     "output_type": "execute_result"
    }
   ],
   "source": [
    "len(blist6a)"
   ]
  },
  {
   "cell_type": "code",
   "execution_count": 74,
   "id": "26242ac9",
   "metadata": {},
   "outputs": [],
   "source": [
    "costlist6=[]\n",
    "for i in range(0,3):\n",
    "    costname6=dvr2.find_elements_by_xpath(\"//div[@class='_30jeq3']\")\n",
    "    \n",
    "    for i in costname6:\n",
    "        cost6=i.text\n",
    "        costlist6.append(cost6)\n",
    "    nxt_but6=dvr2.find_element_by_xpath('/html/body/div[1]/div/div[3]/div[1]/div[2]/div[12]/div/div/nav/a[11]')\n",
    "    nxt_but6.click()\n",
    "    time.sleep(5)"
   ]
  },
  {
   "cell_type": "code",
   "execution_count": 75,
   "id": "295f6aa7",
   "metadata": {},
   "outputs": [
    {
     "data": {
      "text/plain": [
       "['₹209', '₹1,272', '₹3,949', '₹399']"
      ]
     },
     "execution_count": 75,
     "metadata": {},
     "output_type": "execute_result"
    }
   ],
   "source": [
    "costlist6a=costlist6[0:100]\n",
    "costlist6a[0:4]"
   ]
  },
  {
   "cell_type": "code",
   "execution_count": 76,
   "id": "70f93c50",
   "metadata": {},
   "outputs": [
    {
     "data": {
      "text/plain": [
       "100"
      ]
     },
     "execution_count": 76,
     "metadata": {},
     "output_type": "execute_result"
    }
   ],
   "source": [
    "len(costlist6a)"
   ]
  },
  {
   "cell_type": "code",
   "execution_count": 77,
   "id": "b4b2c07a",
   "metadata": {},
   "outputs": [],
   "source": [
    "dlist6=[]\n",
    "for i in range(0,3):\n",
    "    dname6=dvr2.find_elements_by_xpath(\"//div[@class='_3Ay6Sb']\")\n",
    "    \n",
    "    for i in dname6:\n",
    "        discount6=i.text\n",
    "        dlist6.append(discount6)\n",
    "    nxt_but6=dvr2.find_element_by_xpath('/html/body/div[1]/div/div[3]/div[1]/div[2]/div[12]/div/div/nav/a[11]')\n",
    "    nxt_but6.click()\n",
    "    time.sleep(5)"
   ]
  },
  {
   "cell_type": "code",
   "execution_count": 78,
   "id": "dd3fffc5",
   "metadata": {},
   "outputs": [
    {
     "data": {
      "text/plain": [
       "['79% off', '71% off', '50% off', '80% off']"
      ]
     },
     "execution_count": 78,
     "metadata": {},
     "output_type": "execute_result"
    }
   ],
   "source": [
    "dlist6a=dlist6[0:100]\n",
    "dlist6a[0:4]"
   ]
  },
  {
   "cell_type": "code",
   "execution_count": 79,
   "id": "0aea01f2",
   "metadata": {},
   "outputs": [
    {
     "data": {
      "text/plain": [
       "100"
      ]
     },
     "execution_count": 79,
     "metadata": {},
     "output_type": "execute_result"
    }
   ],
   "source": [
    "len(dlist6a)"
   ]
  },
  {
   "cell_type": "code",
   "execution_count": 83,
   "id": "3f5d85d1",
   "metadata": {},
   "outputs": [
    {
     "data": {
      "text/html": [
       "<div>\n",
       "<style scoped>\n",
       "    .dataframe tbody tr th:only-of-type {\n",
       "        vertical-align: middle;\n",
       "    }\n",
       "\n",
       "    .dataframe tbody tr th {\n",
       "        vertical-align: top;\n",
       "    }\n",
       "\n",
       "    .dataframe thead th {\n",
       "        text-align: right;\n",
       "    }\n",
       "</style>\n",
       "<table border=\"1\" class=\"dataframe\">\n",
       "  <thead>\n",
       "    <tr style=\"text-align: right;\">\n",
       "      <th></th>\n",
       "      <th>Product Name</th>\n",
       "      <th>Brand Name</th>\n",
       "      <th>Price</th>\n",
       "      <th>Discount</th>\n",
       "    </tr>\n",
       "  </thead>\n",
       "  <tbody>\n",
       "    <tr>\n",
       "      <th>0</th>\n",
       "      <td>Fashionable casual sneakers shoes Sneakers For...</td>\n",
       "      <td>KANEGGYE</td>\n",
       "      <td>₹209</td>\n",
       "      <td>79% off</td>\n",
       "    </tr>\n",
       "    <tr>\n",
       "      <th>1</th>\n",
       "      <td>Lazy Knit Slip On Sneakers For Men</td>\n",
       "      <td>NAUTICA</td>\n",
       "      <td>₹1,272</td>\n",
       "      <td>71% off</td>\n",
       "    </tr>\n",
       "    <tr>\n",
       "      <th>2</th>\n",
       "      <td>Sneakers For Men</td>\n",
       "      <td>PUMA</td>\n",
       "      <td>₹3,949</td>\n",
       "      <td>50% off</td>\n",
       "    </tr>\n",
       "    <tr>\n",
       "      <th>3</th>\n",
       "      <td>X-Ray Square Celestial Sneakers For Men</td>\n",
       "      <td>HOC</td>\n",
       "      <td>₹399</td>\n",
       "      <td>80% off</td>\n",
       "    </tr>\n",
       "  </tbody>\n",
       "</table>\n",
       "</div>"
      ],
      "text/plain": [
       "                                        Product Name Brand Name   Price  \\\n",
       "0  Fashionable casual sneakers shoes Sneakers For...   KANEGGYE    ₹209   \n",
       "1                 Lazy Knit Slip On Sneakers For Men    NAUTICA  ₹1,272   \n",
       "2                                   Sneakers For Men       PUMA  ₹3,949   \n",
       "3            X-Ray Square Celestial Sneakers For Men        HOC    ₹399   \n",
       "\n",
       "  Discount  \n",
       "0  79% off  \n",
       "1  71% off  \n",
       "2  50% off  \n",
       "3  80% off  "
      ]
     },
     "execution_count": 83,
     "metadata": {},
     "output_type": "execute_result"
    }
   ],
   "source": [
    "df6=pd.DataFrame({\"Product Name\":plist6a, \"Brand Name\":blist6a, \"Price\":costlist6a, \"Discount\":dlist6a})\n",
    "df6[0:4]"
   ]
  }
 ],
 "metadata": {
  "kernelspec": {
   "display_name": "Python 3 (ipykernel)",
   "language": "python",
   "name": "python3"
  },
  "language_info": {
   "codemirror_mode": {
    "name": "ipython",
    "version": 3
   },
   "file_extension": ".py",
   "mimetype": "text/x-python",
   "name": "python",
   "nbconvert_exporter": "python",
   "pygments_lexer": "ipython3",
   "version": "3.9.7"
  }
 },
 "nbformat": 4,
 "nbformat_minor": 5
}
